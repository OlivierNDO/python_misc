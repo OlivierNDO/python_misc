{
 "cells": [
  {
   "cell_type": "markdown",
   "metadata": {},
   "source": [
    "# Boost Optimization Simulation\n",
    "## Determine which boost level to apply (if any) across in-network suppliers in order optimize expected ATA and cost given out of network (OON) likelihood and average cost"
   ]
  },
  {
   "cell_type": "markdown",
   "metadata": {},
   "source": [
    "### Configuration"
   ]
  },
  {
   "cell_type": "markdown",
   "metadata": {},
   "source": [
    "##### Package Imports"
   ]
  },
  {
   "cell_type": "code",
   "execution_count": 1,
   "metadata": {},
   "outputs": [],
   "source": [
    "import collections\n",
    "import datetime\n",
    "import itertools\n",
    "import matplotlib.pyplot as plt\n",
    "import mcdm\n",
    "import numpy as np\n",
    "import pandas as pd\n",
    "import random\n",
    "import seaborn as sns\n",
    "import time\n",
    "import warnings"
   ]
  },
  {
   "cell_type": "markdown",
   "metadata": {},
   "source": [
    "##### Session Settings"
   ]
  },
  {
   "cell_type": "code",
   "execution_count": 2,
   "metadata": {},
   "outputs": [],
   "source": [
    "warnings.filterwarnings('ignore')\n",
    "plt.rcParams['figure.figsize'] = [10, 5]"
   ]
  },
  {
   "cell_type": "markdown",
   "metadata": {},
   "source": [
    "##### Simulation Configuration - OON Cost, ATA"
   ]
  },
  {
   "cell_type": "code",
   "execution_count": 3,
   "metadata": {},
   "outputs": [],
   "source": [
    "config_oon_cost = 250\n",
    "config_oon_ata = 0.05\n",
    "config_bau_ranking = ['Supplier 5', 'Supplier 2', 'Supplier 1', 'Supplier 3', 'Supplier 4']\n",
    "config_cost_weight = 0.7\n",
    "config_ata_weight = 0.3"
   ]
  },
  {
   "cell_type": "markdown",
   "metadata": {},
   "source": [
    "### Define Functions & Classes"
   ]
  },
  {
   "cell_type": "markdown",
   "metadata": {},
   "source": [
    "##### Miscellaneous"
   ]
  },
  {
   "cell_type": "code",
   "execution_count": 4,
   "metadata": {},
   "outputs": [],
   "source": [
    "def create_bimodal_distribution(mu1, mu2, std1, std2, n):\n",
    "    \"\"\"\n",
    "    Create bimodal distribution given means (mu), standard\n",
    "    deviations (std), and number of observations (n)\n",
    "    Returns:\n",
    "        list\n",
    "    \"\"\"\n",
    "    n1 = int(n / 2)\n",
    "    n2 = n - n1\n",
    "    dist1 = np.random.normal(mu1, std1, n1)\n",
    "    dist2 = np.random.normal(mu2, std2, n2)\n",
    "    return list(np.concatenate([dist1, dist2]))\n",
    "\n",
    "\n",
    "def normalize_to_median(iterable):\n",
    "    \"\"\"\n",
    "    Normalize using (Xi - MEDIAN(X)) / STDEV(X) rather than the conventional mean\n",
    "    Args:\n",
    "        iterable: some iterable object with floats\n",
    "    Returns:\n",
    "        (normalized) iterable\n",
    "    \"\"\"\n",
    "    median_x = np.median(iterable)\n",
    "    stdev_x = np.std(iterable)\n",
    "    return [(x - median_x) / stdev_x for x in iterable]\n",
    "\n",
    "\n",
    "def min_max_normalize(iterable):\n",
    "    \"\"\"\n",
    "    Normalize using (Xi - MEDIAN(X)) / STDEV(X) rather than the conventional mean\n",
    "    Args:\n",
    "        iterable: some iterable object with floats\n",
    "    Returns:\n",
    "        (normalized) iterable\n",
    "    \"\"\"\n",
    "    return [(x - min(iterable)) / (max(iterable) - min(iterable)) for x in iterable]\n",
    "\n",
    "\n",
    "def print_timestamp_message(message, timestamp_format = '%Y-%m-%d %H:%M:%S'):\n",
    "    \"\"\"\n",
    "    Print formatted timestamp followed by custom message\n",
    "    Args:\n",
    "        message (str): string to concatenate with timestamp\n",
    "        timestamp_format (str): format for datetime string. defaults to '%Y-%m-%d %H:%M:%S'\n",
    "    \"\"\"\n",
    "    ts_string = datetime.datetime.fromtimestamp(time.time()).strftime(timestamp_format)\n",
    "    print(f'{ts_string}: {message}')"
   ]
  },
  {
   "cell_type": "markdown",
   "metadata": {},
   "source": [
    "##### Supplier Data Simulation"
   ]
  },
  {
   "cell_type": "code",
   "execution_count": 5,
   "metadata": {},
   "outputs": [],
   "source": [
    "class SimulatedSuppliers:\n",
    "    def __init__(self,\n",
    "                 n_suppliers,\n",
    "                 accept_plot_attribs = {'x_label' : 'Boost Dollars',\n",
    "                                        'y_label' : 'Acceptance Probability',\n",
    "                                        'marker' : 'o'},\n",
    "                 base_cost_range = [80, 130],\n",
    "                 boost_values = list(range(0,50,5)),\n",
    "                 mean_acceptance1 = 0.05,\n",
    "                 stdev_acceptance1 = 0.07,\n",
    "                 mean_acceptance2 = 0.25,\n",
    "                 stdev_acceptance2 = 0.25,\n",
    "                 random_seed = 832021):\n",
    "        \"\"\"\n",
    "        Simulate supplier data with cost, ata service level probability, and acceptance probabilities\n",
    "        given specified ranges\n",
    "        \n",
    "        Example:\n",
    "            supplier_simulation = SimulatedSuppliers(supplier_names = [f'Supplier {n}' for n in range(1,4)])\n",
    "            supplier_simulation_df = supplier_simulation.generate_supplier_info() \n",
    "        \"\"\"\n",
    "        self.n_suppliers = n_suppliers\n",
    "        self.accept_plot_attribs = accept_plot_attribs\n",
    "        self.base_cost_range = base_cost_range\n",
    "        self.boost_values = boost_values\n",
    "        self.mean_acceptance1 = mean_acceptance1\n",
    "        self.stdev_acceptance1 = stdev_acceptance1\n",
    "        self.mean_acceptance2 = mean_acceptance2\n",
    "        self.stdev_acceptance2 = stdev_acceptance2\n",
    "        self.random_seed = random_seed\n",
    "        \n",
    "        \n",
    "    def get_random_boost_probs(self):\n",
    "        \"\"\"\n",
    "        Generate random acceptance probabilities given a range of boost values\n",
    "        that follow a 2nd order polynomial pattern\n",
    "        Args:\n",
    "            boost_values (list): list of dollar values used in boost\n",
    "            mean_acceptance1 (float): average acceptance rate at $0 boost for part of bimodal distribution\n",
    "            stdev_acceptance1 (float): standard deviation of acceptance rate at $0 boost for part of bimodal distribution\n",
    "            mean_acceptance2 (float): average acceptance rate at $0 boost for part of bimodal distribution\n",
    "            stdev_acceptance2 (float): standard deviation of acceptance rate at $0 boost for part of bimodal distribution\n",
    "            supplier_name (str): name of simulated supplier\n",
    "        Returns:\n",
    "            pandas.DataFrame object with fields 'boost_dollars', 'accept_prob', and 'supplier'\n",
    "        \"\"\"\n",
    "        np.random.seed(self.random_seed)\n",
    "        random.seed(self.random_seed)\n",
    "        supplier_names = [f'Supplier {n}' for n in range(1, (self.n_suppliers + 1))]\n",
    "        boost_df_list = []\n",
    "        for sn in supplier_names:\n",
    "            #acceptance_distr = np.random.normal(self.mean_acceptance, self.stdev_acceptance, 1000)\n",
    "            acceptance_distr = create_bimodal_distribution(self.mean_acceptance1, self.mean_acceptance2,\n",
    "                                                           self.stdev_acceptance1, self.stdev_acceptance2, 1000)\n",
    "            \n",
    "            b0 = random.choice([x for x in acceptance_distr if (x > 0) and (x < 1)])\n",
    "            max_b1 = ((1 - b0) / max(self.boost_values))\n",
    "            b1 = random.choice(np.linspace(0, max_b1, 100))\n",
    "            max_b2 = (1 - (b0 + (b1 * max(self.boost_values)))) / max(self.boost_values)**2\n",
    "            b2 = random.choice(np.linspace(0, max_b2, 100))\n",
    "            probs = []\n",
    "            for x in self.boost_values:\n",
    "                p = b0 + (b1 * x) + (b2 * x**2)\n",
    "                probs.append(p)\n",
    "            boost_df = pd.DataFrame({'boost_dollars' : self.boost_values, 'accept_prob' : probs})\n",
    "            boost_df['supplier'] = sn\n",
    "            boost_df_list.append(boost_df)\n",
    "        output_df = pd.concat(boost_df_list, axis = 0)\n",
    "        return output_df\n",
    "    \n",
    "    \n",
    "    def generate_supplier_info(self):\n",
    "        \"\"\"\n",
    "        Generate a pandas.DataFrame object with costs in a given range and ata probabilities\n",
    "        0 to 1 representing the likelihood of completing service in under 45 minutes\n",
    "        Args:\n",
    "            supplier_names (list): list of supplier names\n",
    "            base_cost_range (list): minimum and maximum baseline cost for each supplier\n",
    "        Returns:\n",
    "            pandas.DataFrame object with fields 'supplier', 'base_cost', 'ata_prob' which\n",
    "            is merged with the output of get_random_boost_probs()\n",
    "        \"\"\"\n",
    "        random.seed(self.random_seed)\n",
    "        supplier_names = [f'Supplier {n}' for n in range(1, (self.n_suppliers + 1))]\n",
    "        boost_prob_df = self.get_random_boost_probs()\n",
    "        ata_probs = [random.choice(np.linspace(0,1,100)) for i in range(len(supplier_names))]\n",
    "        base_cost = [random.choice(np.linspace(self.base_cost_range[0], self.base_cost_range[1], 100)) for i in range(len(supplier_names))]\n",
    "        supplier_info_df = pd.DataFrame({'supplier' : supplier_names, 'base_cost' : base_cost, 'ata_prob' : ata_probs})\n",
    "        supplier_boost_info_df = pd.merge(supplier_info_df, boost_prob_df, on = 'supplier', how = 'left')\n",
    "        supplier_boost_info_df['total_cost'] = supplier_boost_info_df['base_cost'] + supplier_boost_info_df['boost_dollars']\n",
    "        supplier_boost_info_df['ata_per_dollar'] = supplier_boost_info_df['ata_prob'] / supplier_boost_info_df['total_cost']\n",
    "        return supplier_boost_info_df\n",
    "        \n",
    "    \n",
    "    def plot_supplier_acceptance(self):\n",
    "        \"\"\"\n",
    "        Plot curves of acceptance probability for each supplier based on boost dollars\n",
    "        offered using the output of the generate_supplier_info() attribute\n",
    "        Args:\n",
    "            accept_plot_attribs (dict): dictionary with plot attributes defined\n",
    "            by keys 'x_label', 'y_label', and 'marker'\n",
    "        Returns:\n",
    "            None\n",
    "        \"\"\"\n",
    "        sup_df = self.generate_supplier_info()\n",
    "        sns.lineplot(x = 'boost_dollars',\n",
    "                     y = 'accept_prob',\n",
    "                     hue = 'supplier',\n",
    "                     marker = self.accept_plot_attribs.get('marker'),  data = sup_df)\n",
    "        plt.ylabel(self.accept_plot_attribs.get('y_label'))\n",
    "        plt.xlabel(self.accept_plot_attribs.get('x_label'))\n",
    "        plt.show()"
   ]
  },
  {
   "cell_type": "markdown",
   "metadata": {},
   "source": [
    "##### Optimization"
   ]
  },
  {
   "cell_type": "code",
   "execution_count": 6,
   "metadata": {},
   "outputs": [],
   "source": [
    "class BoostOptimizer:\n",
    "    \"\"\"\n",
    "    Given a rank-ordered list of suppliers (and their cost, acceptance probabilities,\n",
    "    ata probabilities) calculate the expected cost and ata of providing sequential offers\n",
    "    for every level of possible boost (applied to all suppliers)\n",
    "    Args:\n",
    "        dframe (pandas.DataFrame): input DataFrame object\n",
    "        total_cost_col (string): column name representing total cost of each supplier\n",
    "        ata_prob_col (string): column name representing the probability of ATA falling below service level\n",
    "        accept_prob_col (string):  column name with floats representing acceptance likelihood of each supplier\n",
    "        boost_col (string): column name with floats representing boost dollars applied\n",
    "        oon_cost (float): float representing average out of network (OON) cost\n",
    "        oon_ata (float): float representing average ATA probability for out of network (OON)\n",
    "        cost_weight (float): weight to use in MCDM ranking for expected cost. defaults to 0.5.\n",
    "        ata_weight (float): weight to use in MCDM ranking for expected ata. defaults to 0.5.\n",
    "        sort_order (list): list with customized sorting to be applied to <sort_col>. defaults to None.\n",
    "        sort_col (string): column name with values to be sorted according to <sort_order>. defaults to None.\n",
    "    \"\"\"\n",
    "    def __init__(self, dframe, total_cost_col, ata_prob_col, accept_prob_col, boost_col, oon_cost, oon_ata,\n",
    "                 cost_weight = 0.5, ata_weight = 0.5, sort_order = None, sort_col = None):\n",
    "        self.dframe = dframe\n",
    "        self.total_cost_col = total_cost_col\n",
    "        self.ata_prob_col = ata_prob_col\n",
    "        self.accept_prob_col = accept_prob_col\n",
    "        self.boost_col = boost_col\n",
    "        self.oon_cost = oon_cost\n",
    "        self.oon_ata = oon_ata\n",
    "        self.cost_weight = cost_weight\n",
    "        self.ata_weight = ata_weight\n",
    "        self.sort_order = sort_order\n",
    "        self.sort_col = sort_col\n",
    "        \n",
    "        \n",
    "    def calc_exp_network_result(self, df):\n",
    "        \"\"\"\n",
    "        Given a rank-ordered list of suppliers (and their cost, acceptance probabilities,\n",
    "        ata probabilities) calculate the expected cost and ata of \n",
    "        providing sequential offers for a *single* boost level\n",
    "        Args:\n",
    "            dframe (pandas.DataFrame): input DataFrame object\n",
    "            total_cost (string): column name representing total cost of each supplier\n",
    "            ata_prob (string): column name representing the probability of ATA falling below service level\n",
    "            accept_prob (string):  column name with floats representing acceptance likelihood of each supplier\n",
    "            sort_order (list): list with customized sorting to be applied to <sort_col>. defaults to None.\n",
    "            sort_col (string): column name with values to be sorted according to <sort_order>. defaults to None.\n",
    "        Returns:\n",
    "            dframe_copy (pandas.DataFrame): pandas.DataFrame with additional columns 'selection_prob', 'expected_cost', 'expected_ata_prob'\n",
    "            agg_exp_cost (float): float representing expected cost from providing sequential offers\n",
    "            agg_exp_ata_prob (float): float representing expected ata probability from providing sequential offers\n",
    "            oon_prob (float): probability of offer going out of network (inverse of cumulative acceptance probability)\n",
    "        \"\"\"\n",
    "        # Copy dataframe and apply custom sorting\n",
    "        dframe_copy = df.copy()\n",
    "        if self.sort_order is not None:\n",
    "            sort_dict = dict(zip(self.sort_order, range(len(self.sort_order))))\n",
    "            dframe_copy['sort_value'] = dframe_copy[self.sort_col].map(sort_dict)\n",
    "            dframe_copy = dframe_copy.sort_values('sort_value')\n",
    "            dframe_copy.drop('sort_value', axis = 1, inplace = True)\n",
    "        \n",
    "        # Probabilities of each supplier being accepted given sequential order and acceptance probabilities\n",
    "        selection_prob = []\n",
    "        for i, ap in enumerate(dframe_copy[self.accept_prob_col]):\n",
    "            if i == 0:\n",
    "                selection_prob.append(ap)\n",
    "            else:\n",
    "                selection_prob.append((1 - sum(selection_prob)) * ap)\n",
    "        \n",
    "        # Expected cost, ata probability, out of network probability\n",
    "        agg_exp_cost = np.dot(selection_prob, dframe_copy[self.total_cost_col])\n",
    "        agg_exp_ata_prob = np.dot(selection_prob, dframe_copy[self.ata_prob_col])\n",
    "        dframe_copy['selection_prob'] = selection_prob\n",
    "        dframe_copy['expected_cost'] = dframe_copy['selection_prob'] * dframe_copy[self.total_cost_col]\n",
    "        dframe_copy['expected_ata_prob'] = dframe_copy['selection_prob'] * dframe_copy[self.ata_prob_col]\n",
    "        oon_prob = 1 - sum(selection_prob)\n",
    "        \n",
    "        return dframe_copy, agg_exp_cost, agg_exp_ata_prob, oon_prob\n",
    "        \n",
    "    \n",
    "    def calc_boost_results(self):\n",
    "        \"\"\"\n",
    "        Calculate expected cost and ATA for each boost level from\n",
    "        probability-weighted combinations of out of network (OON) and in-network outcomes\n",
    "        \"\"\"\n",
    "        # Aggregate outcomes for each boost $ level\n",
    "        unique_boost_amounts = sorted(list(set(self.dframe[self.boost_col])))\n",
    "        boost_df_list = []\n",
    "        exp_cost_list = []\n",
    "        ata_prob_list = []\n",
    "        oon_prob_list = []\n",
    "        \n",
    "        for uba in unique_boost_amounts:\n",
    "            boost_level_df = self.dframe[self.dframe[self.boost_col] == uba]\n",
    "            boost_dframe, boost_agg_exp_cost, boost_agg_exp_ata_prob, boost_oon_prob = self.calc_exp_network_result(df = boost_level_df)\n",
    "            boost_df_list.append(boost_dframe)\n",
    "            exp_cost_list.append(boost_agg_exp_cost)\n",
    "            ata_prob_list.append(boost_agg_exp_ata_prob)\n",
    "            oon_prob_list.append(boost_oon_prob)\n",
    "            \n",
    "        output_df = pd.DataFrame({self.boost_col : unique_boost_amounts,\n",
    "                                  'network_cost' : exp_cost_list,\n",
    "                                  'network_ata' : ata_prob_list,\n",
    "                                  'network_prob' : [1 - x for x in oon_prob_list],\n",
    "                                  'oon_cost' : self.oon_cost,\n",
    "                                  'oon_ata' : self.oon_ata,\n",
    "                                  'oon_prob' : oon_prob_list})\n",
    "        \n",
    "        # Calculate expected ATA and cost for each boost $ level\n",
    "        expected_cost = []\n",
    "        expected_ata = []\n",
    "        for i in range(output_df.shape[0]):\n",
    "            net_exp_cost = list(output_df['network_cost'])[i] * list(output_df['network_prob'])[i]\n",
    "            oon_exp_cost = list(output_df['oon_cost'])[i] * list(output_df['oon_prob'])[i]\n",
    "            expected_cost.append(net_exp_cost + oon_exp_cost)\n",
    "            \n",
    "            net_exp_ata = list(output_df['network_ata'])[i] * list(output_df['network_prob'])[i]\n",
    "            oon_exp_ata = list(output_df['oon_ata'])[i] * list(output_df['oon_prob'])[i]\n",
    "            expected_ata.append(net_exp_ata + oon_exp_ata)\n",
    "        \n",
    "        output_df['expected_cost'] = expected_cost\n",
    "        output_df['expected_ata'] = expected_ata\n",
    "        return output_df\n",
    "    \n",
    "    \n",
    "    def mcdm_rank_boost_levels(self):\n",
    "        \"\"\"\n",
    "        Use MCDM to determine which boost level to select based on expected cost and expected ata\n",
    "        Returns:\n",
    "            pandas.DataFrame : identical to output of self.calc_boost_results() with additional\n",
    "            column 'mcdm_value' which has descending rank order of boost choices given the\n",
    "            cost and ata weights specified in self.cost_weight, self.ata_weight\n",
    "        \"\"\"\n",
    "        exp_boost_results = self.calc_boost_results()\n",
    "        norm_exp_cost = min_max_normalize(-1 * exp_boost_results['expected_cost'])\n",
    "        norm_exp_ata = min_max_normalize(exp_boost_results['expected_ata'])\n",
    "        x_matrix = [[norm_exp_cost[i], norm_exp_ata[i]] for i in range(exp_boost_results.shape[0])]        \n",
    "        mcdm_ranking = mcdm.rank(x_matrix, w_vector = [self.cost_weight, self.ata_weight], alt_names = list(exp_boost_results[self.boost_col]))\n",
    "        mcdm_ranking.sort(key = lambda y: y[0])\n",
    "        mcdm_vals = []\n",
    "        for i, b in enumerate(exp_boost_results[self.boost_col]):\n",
    "            mcdm_vals.append([x[1] for x in mcdm_ranking if x[0] == b][0])\n",
    "        exp_boost_results['mcdm_value'] = mcdm_vals\n",
    "        best_boost = list(exp_boost_results[exp_boost_results['mcdm_value'] == max(exp_boost_results['mcdm_value'])][self.boost_col])[0]\n",
    "        print_timestamp_message(f'Given weights [Cost: {self.cost_weight}, ATA: {self.ata_weight}], \\\n",
    "                                the optimal boost amount is ${best_boost}')\n",
    "        return exp_boost_results"
   ]
  },
  {
   "cell_type": "markdown",
   "metadata": {},
   "source": [
    "### Execution"
   ]
  },
  {
   "cell_type": "markdown",
   "metadata": {},
   "source": [
    "##### Simulate Network of Suppliers"
   ]
  },
  {
   "cell_type": "code",
   "execution_count": 7,
   "metadata": {},
   "outputs": [
    {
     "data": {
      "text/html": [
       "<div>\n",
       "<style scoped>\n",
       "    .dataframe tbody tr th:only-of-type {\n",
       "        vertical-align: middle;\n",
       "    }\n",
       "\n",
       "    .dataframe tbody tr th {\n",
       "        vertical-align: top;\n",
       "    }\n",
       "\n",
       "    .dataframe thead th {\n",
       "        text-align: right;\n",
       "    }\n",
       "</style>\n",
       "<table border=\"1\" class=\"dataframe\">\n",
       "  <thead>\n",
       "    <tr style=\"text-align: right;\">\n",
       "      <th></th>\n",
       "      <th>supplier</th>\n",
       "      <th>base_cost</th>\n",
       "      <th>ata_prob</th>\n",
       "      <th>boost_dollars</th>\n",
       "      <th>accept_prob</th>\n",
       "      <th>total_cost</th>\n",
       "      <th>ata_per_dollar</th>\n",
       "    </tr>\n",
       "  </thead>\n",
       "  <tbody>\n",
       "    <tr>\n",
       "      <th>0</th>\n",
       "      <td>Supplier 1</td>\n",
       "      <td>100.707071</td>\n",
       "      <td>0.131313</td>\n",
       "      <td>0</td>\n",
       "      <td>0.077790</td>\n",
       "      <td>100.707071</td>\n",
       "      <td>0.001304</td>\n",
       "    </tr>\n",
       "    <tr>\n",
       "      <th>1</th>\n",
       "      <td>Supplier 1</td>\n",
       "      <td>100.707071</td>\n",
       "      <td>0.131313</td>\n",
       "      <td>5</td>\n",
       "      <td>0.083037</td>\n",
       "      <td>105.707071</td>\n",
       "      <td>0.001242</td>\n",
       "    </tr>\n",
       "    <tr>\n",
       "      <th>2</th>\n",
       "      <td>Supplier 1</td>\n",
       "      <td>100.707071</td>\n",
       "      <td>0.131313</td>\n",
       "      <td>10</td>\n",
       "      <td>0.096708</td>\n",
       "      <td>110.707071</td>\n",
       "      <td>0.001186</td>\n",
       "    </tr>\n",
       "    <tr>\n",
       "      <th>3</th>\n",
       "      <td>Supplier 1</td>\n",
       "      <td>100.707071</td>\n",
       "      <td>0.131313</td>\n",
       "      <td>15</td>\n",
       "      <td>0.118804</td>\n",
       "      <td>115.707071</td>\n",
       "      <td>0.001135</td>\n",
       "    </tr>\n",
       "    <tr>\n",
       "      <th>4</th>\n",
       "      <td>Supplier 1</td>\n",
       "      <td>100.707071</td>\n",
       "      <td>0.131313</td>\n",
       "      <td>20</td>\n",
       "      <td>0.149324</td>\n",
       "      <td>120.707071</td>\n",
       "      <td>0.001088</td>\n",
       "    </tr>\n",
       "  </tbody>\n",
       "</table>\n",
       "</div>"
      ],
      "text/plain": [
       "     supplier   base_cost  ata_prob  boost_dollars  accept_prob  total_cost  \\\n",
       "0  Supplier 1  100.707071  0.131313              0     0.077790  100.707071   \n",
       "1  Supplier 1  100.707071  0.131313              5     0.083037  105.707071   \n",
       "2  Supplier 1  100.707071  0.131313             10     0.096708  110.707071   \n",
       "3  Supplier 1  100.707071  0.131313             15     0.118804  115.707071   \n",
       "4  Supplier 1  100.707071  0.131313             20     0.149324  120.707071   \n",
       "\n",
       "   ata_per_dollar  \n",
       "0        0.001304  \n",
       "1        0.001242  \n",
       "2        0.001186  \n",
       "3        0.001135  \n",
       "4        0.001088  "
      ]
     },
     "execution_count": 7,
     "metadata": {},
     "output_type": "execute_result"
    }
   ],
   "source": [
    "supplier_simulation = SimulatedSuppliers(n_suppliers = 5, random_seed = 705)\n",
    "supplier_simulation_df = supplier_simulation.generate_supplier_info()    \n",
    "supplier_simulation_df.head()"
   ]
  },
  {
   "cell_type": "markdown",
   "metadata": {},
   "source": [
    "Note that we have acceptance probability for each supplier at every boost $ amount. This assumes we have modeled the relationship between acceptance and boost."
   ]
  },
  {
   "cell_type": "code",
   "execution_count": 8,
   "metadata": {},
   "outputs": [
    {
     "data": {
      "text/html": [
       "<div>\n",
       "<style scoped>\n",
       "    .dataframe tbody tr th:only-of-type {\n",
       "        vertical-align: middle;\n",
       "    }\n",
       "\n",
       "    .dataframe tbody tr th {\n",
       "        vertical-align: top;\n",
       "    }\n",
       "\n",
       "    .dataframe thead th {\n",
       "        text-align: right;\n",
       "    }\n",
       "</style>\n",
       "<table border=\"1\" class=\"dataframe\">\n",
       "  <thead>\n",
       "    <tr style=\"text-align: right;\">\n",
       "      <th></th>\n",
       "      <th>supplier</th>\n",
       "      <th>base_cost</th>\n",
       "      <th>ata_prob</th>\n",
       "      <th>boost_dollars</th>\n",
       "      <th>accept_prob</th>\n",
       "      <th>total_cost</th>\n",
       "      <th>ata_per_dollar</th>\n",
       "    </tr>\n",
       "  </thead>\n",
       "  <tbody>\n",
       "    <tr>\n",
       "      <th>45</th>\n",
       "      <td>Supplier 5</td>\n",
       "      <td>130.0</td>\n",
       "      <td>0.393939</td>\n",
       "      <td>25</td>\n",
       "      <td>0.445512</td>\n",
       "      <td>155.0</td>\n",
       "      <td>0.002542</td>\n",
       "    </tr>\n",
       "    <tr>\n",
       "      <th>46</th>\n",
       "      <td>Supplier 5</td>\n",
       "      <td>130.0</td>\n",
       "      <td>0.393939</td>\n",
       "      <td>30</td>\n",
       "      <td>0.554678</td>\n",
       "      <td>160.0</td>\n",
       "      <td>0.002462</td>\n",
       "    </tr>\n",
       "    <tr>\n",
       "      <th>47</th>\n",
       "      <td>Supplier 5</td>\n",
       "      <td>130.0</td>\n",
       "      <td>0.393939</td>\n",
       "      <td>35</td>\n",
       "      <td>0.673564</td>\n",
       "      <td>165.0</td>\n",
       "      <td>0.002388</td>\n",
       "    </tr>\n",
       "    <tr>\n",
       "      <th>48</th>\n",
       "      <td>Supplier 5</td>\n",
       "      <td>130.0</td>\n",
       "      <td>0.393939</td>\n",
       "      <td>40</td>\n",
       "      <td>0.802169</td>\n",
       "      <td>170.0</td>\n",
       "      <td>0.002317</td>\n",
       "    </tr>\n",
       "    <tr>\n",
       "      <th>49</th>\n",
       "      <td>Supplier 5</td>\n",
       "      <td>130.0</td>\n",
       "      <td>0.393939</td>\n",
       "      <td>45</td>\n",
       "      <td>0.940495</td>\n",
       "      <td>175.0</td>\n",
       "      <td>0.002251</td>\n",
       "    </tr>\n",
       "  </tbody>\n",
       "</table>\n",
       "</div>"
      ],
      "text/plain": [
       "      supplier  base_cost  ata_prob  boost_dollars  accept_prob  total_cost  \\\n",
       "45  Supplier 5      130.0  0.393939             25     0.445512       155.0   \n",
       "46  Supplier 5      130.0  0.393939             30     0.554678       160.0   \n",
       "47  Supplier 5      130.0  0.393939             35     0.673564       165.0   \n",
       "48  Supplier 5      130.0  0.393939             40     0.802169       170.0   \n",
       "49  Supplier 5      130.0  0.393939             45     0.940495       175.0   \n",
       "\n",
       "    ata_per_dollar  \n",
       "45        0.002542  \n",
       "46        0.002462  \n",
       "47        0.002388  \n",
       "48        0.002317  \n",
       "49        0.002251  "
      ]
     },
     "execution_count": 8,
     "metadata": {},
     "output_type": "execute_result"
    }
   ],
   "source": [
    "supplier_simulation_df.tail()"
   ]
  },
  {
   "cell_type": "markdown",
   "metadata": {},
   "source": [
    "##### Plot Supplier Acceptance Probability ~ Boost Dollar Amount"
   ]
  },
  {
   "cell_type": "code",
   "execution_count": 9,
   "metadata": {},
   "outputs": [
    {
     "data": {
      "image/png": "[encoded data removed]",
      "text/plain": [
       "<Figure size 720x360 with 1 Axes>"
      ]
     },
     "metadata": {
      "needs_background": "light"
     },
     "output_type": "display_data"
    }
   ],
   "source": [
    "supplier_simulation.plot_supplier_acceptance()"
   ]
  },
  {
   "cell_type": "markdown",
   "metadata": {},
   "source": [
    "##### Apply Optimization"
   ]
  },
  {
   "cell_type": "markdown",
   "metadata": {},
   "source": [
    "i.e. Determine which boost amount ($0-45) applied to every in-network supplier results in the MCDM weighted expected cost, expected ATA"
   ]
  },
  {
   "cell_type": "code",
   "execution_count": 10,
   "metadata": {},
   "outputs": [],
   "source": [
    "optimizer = BoostOptimizer(dframe = supplier_simulation_df,\n",
    "                           total_cost_col = 'total_cost',\n",
    "                           ata_prob_col = 'ata_prob',\n",
    "                           accept_prob_col = 'accept_prob',\n",
    "                           boost_col = 'boost_dollars',\n",
    "                           oon_cost = config_oon_cost,\n",
    "                           oon_ata = config_oon_ata,\n",
    "                           sort_order = config_bau_ranking,\n",
    "                           cost_weight = config_cost_weight,\n",
    "                           ata_weight = config_ata_weight,\n",
    "                           sort_col = 'supplier')"
   ]
  },
  {
   "cell_type": "code",
   "execution_count": 11,
   "metadata": {},
   "outputs": [
    {
     "name": "stdout",
     "output_type": "stream",
     "text": [
      "2021-08-10 10:51:50: Given weights [Cost: 0.7, ATA: 0.3],                                 the optimal boost amount is $15\n"
     ]
    }
   ],
   "source": [
    "boost_choice = optimizer.mcdm_rank_boost_levels()"
   ]
  },
  {
   "cell_type": "code",
   "execution_count": 12,
   "metadata": {},
   "outputs": [
    {
     "data": {
      "text/html": [
       "<div>\n",
       "<style scoped>\n",
       "    .dataframe tbody tr th:only-of-type {\n",
       "        vertical-align: middle;\n",
       "    }\n",
       "\n",
       "    .dataframe tbody tr th {\n",
       "        vertical-align: top;\n",
       "    }\n",
       "\n",
       "    .dataframe thead th {\n",
       "        text-align: right;\n",
       "    }\n",
       "</style>\n",
       "<table border=\"1\" class=\"dataframe\">\n",
       "  <thead>\n",
       "    <tr style=\"text-align: right;\">\n",
       "      <th></th>\n",
       "      <th>boost_dollars</th>\n",
       "      <th>network_cost</th>\n",
       "      <th>network_ata</th>\n",
       "      <th>network_prob</th>\n",
       "      <th>oon_cost</th>\n",
       "      <th>oon_ata</th>\n",
       "      <th>oon_prob</th>\n",
       "      <th>expected_cost</th>\n",
       "      <th>expected_ata</th>\n",
       "      <th>mcdm_value</th>\n",
       "    </tr>\n",
       "  </thead>\n",
       "  <tbody>\n",
       "    <tr>\n",
       "      <th>0</th>\n",
       "      <td>0</td>\n",
       "      <td>68.263929</td>\n",
       "      <td>0.339790</td>\n",
       "      <td>0.596631</td>\n",
       "      <td>250</td>\n",
       "      <td>0.05</td>\n",
       "      <td>0.403369</td>\n",
       "      <td>141.570666</td>\n",
       "      <td>0.222897</td>\n",
       "      <td>0.493781</td>\n",
       "    </tr>\n",
       "    <tr>\n",
       "      <th>1</th>\n",
       "      <td>5</td>\n",
       "      <td>84.044252</td>\n",
       "      <td>0.361909</td>\n",
       "      <td>0.709523</td>\n",
       "      <td>250</td>\n",
       "      <td>0.05</td>\n",
       "      <td>0.290477</td>\n",
       "      <td>132.250579</td>\n",
       "      <td>0.271306</td>\n",
       "      <td>0.734678</td>\n",
       "    </tr>\n",
       "    <tr>\n",
       "      <th>2</th>\n",
       "      <td>10</td>\n",
       "      <td>98.814855</td>\n",
       "      <td>0.369585</td>\n",
       "      <td>0.803413</td>\n",
       "      <td>250</td>\n",
       "      <td>0.05</td>\n",
       "      <td>0.196587</td>\n",
       "      <td>128.535882</td>\n",
       "      <td>0.306759</td>\n",
       "      <td>0.861884</td>\n",
       "    </tr>\n",
       "    <tr>\n",
       "      <th>3</th>\n",
       "      <td>15</td>\n",
       "      <td>112.228649</td>\n",
       "      <td>0.365959</td>\n",
       "      <td>0.876721</td>\n",
       "      <td>250</td>\n",
       "      <td>0.05</td>\n",
       "      <td>0.123279</td>\n",
       "      <td>129.213017</td>\n",
       "      <td>0.327008</td>\n",
       "      <td>0.890260</td>\n",
       "    </tr>\n",
       "    <tr>\n",
       "      <th>4</th>\n",
       "      <td>20</td>\n",
       "      <td>124.184017</td>\n",
       "      <td>0.355515</td>\n",
       "      <td>0.929889</td>\n",
       "      <td>250</td>\n",
       "      <td>0.05</td>\n",
       "      <td>0.070111</td>\n",
       "      <td>133.005086</td>\n",
       "      <td>0.334095</td>\n",
       "      <td>0.843948</td>\n",
       "    </tr>\n",
       "    <tr>\n",
       "      <th>5</th>\n",
       "      <td>25</td>\n",
       "      <td>134.822731</td>\n",
       "      <td>0.343565</td>\n",
       "      <td>0.965073</td>\n",
       "      <td>250</td>\n",
       "      <td>0.05</td>\n",
       "      <td>0.034927</td>\n",
       "      <td>138.845536</td>\n",
       "      <td>0.333311</td>\n",
       "      <td>0.750035</td>\n",
       "    </tr>\n",
       "    <tr>\n",
       "      <th>6</th>\n",
       "      <td>30</td>\n",
       "      <td>144.495140</td>\n",
       "      <td>0.335602</td>\n",
       "      <td>0.985670</td>\n",
       "      <td>250</td>\n",
       "      <td>0.05</td>\n",
       "      <td>0.014330</td>\n",
       "      <td>146.007076</td>\n",
       "      <td>0.331509</td>\n",
       "      <td>0.633256</td>\n",
       "    </tr>\n",
       "    <tr>\n",
       "      <th>7</th>\n",
       "      <td>35</td>\n",
       "      <td>153.693788</td>\n",
       "      <td>0.336589</td>\n",
       "      <td>0.995737</td>\n",
       "      <td>250</td>\n",
       "      <td>0.05</td>\n",
       "      <td>0.004263</td>\n",
       "      <td>154.104346</td>\n",
       "      <td>0.335368</td>\n",
       "      <td>0.512600</td>\n",
       "    </tr>\n",
       "    <tr>\n",
       "      <th>8</th>\n",
       "      <td>40</td>\n",
       "      <td>162.961022</td>\n",
       "      <td>0.350228</td>\n",
       "      <td>0.999354</td>\n",
       "      <td>250</td>\n",
       "      <td>0.05</td>\n",
       "      <td>0.000646</td>\n",
       "      <td>163.017262</td>\n",
       "      <td>0.350034</td>\n",
       "      <td>0.399903</td>\n",
       "    </tr>\n",
       "    <tr>\n",
       "      <th>9</th>\n",
       "      <td>45</td>\n",
       "      <td>172.781664</td>\n",
       "      <td>0.378308</td>\n",
       "      <td>0.999998</td>\n",
       "      <td>250</td>\n",
       "      <td>0.05</td>\n",
       "      <td>0.000002</td>\n",
       "      <td>172.781807</td>\n",
       "      <td>0.378308</td>\n",
       "      <td>0.300000</td>\n",
       "    </tr>\n",
       "  </tbody>\n",
       "</table>\n",
       "</div>"
      ],
      "text/plain": [
       "   boost_dollars  network_cost  network_ata  network_prob  oon_cost  oon_ata  \\\n",
       "0              0     68.263929     0.339790      0.596631       250     0.05   \n",
       "1              5     84.044252     0.361909      0.709523       250     0.05   \n",
       "2             10     98.814855     0.369585      0.803413       250     0.05   \n",
       "3             15    112.228649     0.365959      0.876721       250     0.05   \n",
       "4             20    124.184017     0.355515      0.929889       250     0.05   \n",
       "5             25    134.822731     0.343565      0.965073       250     0.05   \n",
       "6             30    144.495140     0.335602      0.985670       250     0.05   \n",
       "7             35    153.693788     0.336589      0.995737       250     0.05   \n",
       "8             40    162.961022     0.350228      0.999354       250     0.05   \n",
       "9             45    172.781664     0.378308      0.999998       250     0.05   \n",
       "\n",
       "   oon_prob  expected_cost  expected_ata  mcdm_value  \n",
       "0  0.403369     141.570666      0.222897    0.493781  \n",
       "1  0.290477     132.250579      0.271306    0.734678  \n",
       "2  0.196587     128.535882      0.306759    0.861884  \n",
       "3  0.123279     129.213017      0.327008    0.890260  \n",
       "4  0.070111     133.005086      0.334095    0.843948  \n",
       "5  0.034927     138.845536      0.333311    0.750035  \n",
       "6  0.014330     146.007076      0.331509    0.633256  \n",
       "7  0.004263     154.104346      0.335368    0.512600  \n",
       "8  0.000646     163.017262      0.350034    0.399903  \n",
       "9  0.000002     172.781807      0.378308    0.300000  "
      ]
     },
     "execution_count": 12,
     "metadata": {},
     "output_type": "execute_result"
    }
   ],
   "source": [
    "boost_choice"
   ]
  },
  {
   "cell_type": "markdown",
   "metadata": {},
   "source": [
    "##### Visualize Results"
   ]
  },
  {
   "cell_type": "code",
   "execution_count": 13,
   "metadata": {},
   "outputs": [
    {
     "data": {
      "image/png": "[encoded data removed]",
      "text/plain": [
       "<Figure size 720x360 with 1 Axes>"
      ]
     },
     "metadata": {
      "needs_background": "light"
     },
     "output_type": "display_data"
    }
   ],
   "source": [
    "sns.lineplot(x = 'boost_dollars', y = 'expected_cost', marker = 'o',  data = boost_choice)\n",
    "plt.ylabel('Expected Cost ($)')\n",
    "plt.xlabel('Boost Dollars ($)')\n",
    "plt.show()"
   ]
  },
  {
   "cell_type": "code",
   "execution_count": 14,
   "metadata": {},
   "outputs": [
    {
     "data": {
      "image/png": "[encoded data removed]",
      "text/plain": [
       "<Figure size 720x360 with 1 Axes>"
      ]
     },
     "metadata": {
      "needs_background": "light"
     },
     "output_type": "display_data"
    }
   ],
   "source": [
    "sns.lineplot(x = 'boost_dollars', y = 'expected_ata', marker = 'o',  data = boost_choice)\n",
    "plt.ylabel('Expected ATA (%)')\n",
    "plt.xlabel('Boost Dollars ($)')\n",
    "plt.show()"
   ]
  },
  {
   "cell_type": "code",
   "execution_count": 15,
   "metadata": {},
   "outputs": [
    {
     "data": {
      "image/png": "[encoded data removed]",
      "text/plain": [
       "<Figure size 720x360 with 1 Axes>"
      ]
     },
     "metadata": {
      "needs_background": "light"
     },
     "output_type": "display_data"
    }
   ],
   "source": [
    "boost_choice['Boost Dollar Label'] = [f'${x}' for x in boost_choice['boost_dollars']]\n",
    "sns.lineplot(x = 'expected_cost', y = 'expected_ata', marker = 'o', hue = 'Boost Dollar Label', data = boost_choice)\n",
    "plt.ylabel('Expected ATA (%)')\n",
    "plt.xlabel('Expected Cost ($)')\n",
    "plt.show()"
   ]
  },
  {
   "cell_type": "markdown",
   "metadata": {},
   "source": [
    "## Key Takeaways\n",
    "> We can optimize network-level boost amounts to improve ATA and lower severity if we:\n",
    ">>    * a) Generate supply curves (acceptance ~ f{boost})\n",
    ">>    * b) Can estimate OON probability as a function of boost (directly or indirectly)"
   ]
  }
 ],
 "metadata": {
  "@webio": {
   "lastCommId": null,
   "lastKernelId": null
  },
  "kernelspec": {
   "display_name": "Python 3",
   "language": "python",
   "name": "python3"
  },
  "language_info": {
   "codemirror_mode": {
    "name": "ipython",
    "version": 3
   },
   "file_extension": ".py",
   "mimetype": "text/x-python",
   "name": "python",
   "nbconvert_exporter": "python",
   "pygments_lexer": "ipython3",
   "version": "3.7.3"
  }
 },
 "nbformat": 4,
 "nbformat_minor": 2
}
