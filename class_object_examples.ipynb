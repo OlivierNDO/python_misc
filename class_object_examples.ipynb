{
 "cells": [
  {
   "cell_type": "markdown",
   "metadata": {},
   "source": [
    "## Python Class Objects"
   ]
  },
  {
   "cell_type": "markdown",
   "metadata": {},
   "source": [
    "#### Ex. 1"
   ]
  },
  {
   "cell_type": "code",
   "execution_count": 1,
   "metadata": {},
   "outputs": [],
   "source": [
    "class person_name:\n",
    "    def __init__(self, first_name, last_name, title):\n",
    "        self.first_name = first_name\n",
    "        self.last_name = last_name\n",
    "        self.title = title\n",
    "    def formal_name(self):\n",
    "        return self.title + ' ' + self.last_name\n",
    "    def informal_name(self):\n",
    "        return self.first_name"
   ]
  },
  {
   "cell_type": "code",
   "execution_count": 2,
   "metadata": {},
   "outputs": [],
   "source": [
    "nick = person_name('Nick', 'Olivier', 'Mr.')"
   ]
  },
  {
   "cell_type": "code",
   "execution_count": 3,
   "metadata": {},
   "outputs": [
    {
     "data": {
      "text/plain": [
       "'Mr. Olivier'"
      ]
     },
     "execution_count": 3,
     "metadata": {},
     "output_type": "execute_result"
    }
   ],
   "source": [
    "nick.formal_name()"
   ]
  },
  {
   "cell_type": "code",
   "execution_count": 4,
   "metadata": {},
   "outputs": [
    {
     "data": {
      "text/plain": [
       "'Nick'"
      ]
     },
     "execution_count": 4,
     "metadata": {},
     "output_type": "execute_result"
    }
   ],
   "source": [
    "nick.informal_name()"
   ]
  },
  {
   "cell_type": "markdown",
   "metadata": {},
   "source": [
    "#### Ex. 2"
   ]
  },
  {
   "cell_type": "code",
   "execution_count": 5,
   "metadata": {},
   "outputs": [],
   "source": [
    "class blackjack_hand:\n",
    "    def __init__(self, card1, card2):\n",
    "        self.card1 = card1\n",
    "        self.card2 = card2\n",
    "    # Input Format Error Handing\n",
    "    def input_check(self):\n",
    "        allowable_cards = [str(i).lower() for i in [2,3,4,5,6,7,8,9,10,'j','q','k','a']]\n",
    "        card1_error_msg = \"card1 value '\" +  str(self.card1) + \"' not a valid input\"\n",
    "        card2_error_msg = \"card2 value '\" +  str(self.card2) + \"' not a valid input\"\n",
    "        assert str(self.card1).lower() in allowable_cards, card1_error_msg\n",
    "        assert str(self.card2).lower() in allowable_cards, card2_error_msg\n",
    "    \n",
    "    # Functions\n",
    "    def hand_value(self):\n",
    "        def unique_list_sums(list_of_lists):\n",
    "            import itertools, numpy as np\n",
    "            combinations = list(itertools.product(*list_of_lists))\n",
    "            sum_combinations = [j for j in np.unique([np.sum(i) for i in combinations])]\n",
    "            return sum_combinations\n",
    "    \n",
    "        def card_value(card):\n",
    "            if str(card).lower() == 'a':\n",
    "                return [1, 11]\n",
    "            elif str(card).lower() in ['j', 'q', 'k']:\n",
    "                return [10]\n",
    "            else:\n",
    "                return [int(card)]\n",
    "        \n",
    "        card1_value = card_value(self.card1)\n",
    "        card2_value = card_value(self.card2)\n",
    "        if (type(card1_value) == list and type(card2_value) == list):\n",
    "            h_val = unique_list_sums([card1_value, card2_value])\n",
    "        elif (type(card1_value) == list):\n",
    "            h_val = unique_list_sums([[card1_value], card2_value])\n",
    "        elif (type(card2_value) == list):\n",
    "            h_val = unique_list_sums([card1_value, [card2_value]])\n",
    "        else:\n",
    "            h_val = card1_value + card2_value\n",
    "        return h_val"
   ]
  },
  {
   "cell_type": "code",
   "execution_count": 6,
   "metadata": {},
   "outputs": [],
   "source": [
    "my_hand = blackjack_hand(5, 'K')\n",
    "your_hand = blackjack_hand('K', 'A')"
   ]
  },
  {
   "cell_type": "code",
   "execution_count": 7,
   "metadata": {},
   "outputs": [
    {
     "data": {
      "text/plain": [
       "[15]"
      ]
     },
     "execution_count": 7,
     "metadata": {},
     "output_type": "execute_result"
    }
   ],
   "source": [
    "my_hand.hand_value()"
   ]
  },
  {
   "cell_type": "code",
   "execution_count": 8,
   "metadata": {},
   "outputs": [
    {
     "data": {
      "text/plain": [
       "[11, 21]"
      ]
     },
     "execution_count": 8,
     "metadata": {},
     "output_type": "execute_result"
    }
   ],
   "source": [
    "your_hand.hand_value()"
   ]
  }
 ],
 "metadata": {
  "kernelspec": {
   "display_name": "Python 3",
   "language": "python",
   "name": "python3"
  },
  "language_info": {
   "codemirror_mode": {
    "name": "ipython",
    "version": 3
   },
   "file_extension": ".py",
   "mimetype": "text/x-python",
   "name": "python",
   "nbconvert_exporter": "python",
   "pygments_lexer": "ipython3",
   "version": "3.6.6"
  }
 },
 "nbformat": 4,
 "nbformat_minor": 2
}
