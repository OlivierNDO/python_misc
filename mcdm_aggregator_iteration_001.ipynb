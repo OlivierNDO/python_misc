{
 "cells": [
  {
   "cell_type": "markdown",
   "metadata": {},
   "source": [
    "# MCDM ranking function using ATA and Cost"
   ]
  },
  {
   "cell_type": "markdown",
   "metadata": {},
   "source": [
    "## Configuration"
   ]
  },
  {
   "cell_type": "markdown",
   "metadata": {},
   "source": [
    "#### Import Packages"
   ]
  },
  {
   "cell_type": "code",
   "execution_count": 1,
   "metadata": {},
   "outputs": [],
   "source": [
    "import matplotlib.pyplot as plt\n",
    "import mcdm\n",
    "import pandas as pd\n",
    "import seaborn as sns"
   ]
  },
  {
   "cell_type": "markdown",
   "metadata": {},
   "source": [
    "## Define Functions & Classes"
   ]
  },
  {
   "cell_type": "code",
   "execution_count": 2,
   "metadata": {},
   "outputs": [],
   "source": [
    "def min_max_normalize(iterable):\n",
    "    \"\"\"\n",
    "    Normalize using (Xi - MEDIAN(X)) / STDEV(X) rather than the conventional mean\n",
    "    Args:\n",
    "        iterable: some iterable object with floats\n",
    "    Returns:\n",
    "        (normalized) iterable\n",
    "    \"\"\"\n",
    "    return [(x - min(iterable)) / (max(iterable) - min(iterable)) for x in iterable]\n",
    "\n",
    "def mcdm_rank(ata : list, cost : list, provider_names : list,\n",
    "              cost_weight = 0.5, scoring_method = 'TOPSIS'):\n",
    "    \"\"\"\n",
    "    Generate MCDM ranking based on ata and cost (and their respective weights).\n",
    "    Inputs are ordered lists of supplier information.\n",
    "    Args:\n",
    "        ata: list of ata probabilities (higher is worse)\n",
    "        cost: list of estimated costs\n",
    "        provider_names: list of provider names or identifiers\n",
    "        cost_weight: float between 0 and 1 indicating weight to apply to cost\n",
    "        scoring_method: scoring method to apply in mcdm algorithm. accepted\n",
    "                        strings include 'SAW', 'MEW', 'TOPSIS',  'mTOPSIS'.\n",
    "                        defaults to 'TOPSIS'.\n",
    "    Returns:\n",
    "        dictionary with supplier name and ranking\n",
    "    \"\"\"\n",
    "    # Normalize ata, cost and create matrix\n",
    "    ata_norm = min_max_normalize(ata)\n",
    "    cost_norm = min_max_normalize(cost)\n",
    "    ata_cost_matrix = [[ata_norm[i], cost_norm[i]] for i in range(len(ata))]\n",
    "    \n",
    "    # Apply MCDM\n",
    "    mcdm_rankings = mcdm.rank(ata_cost_matrix,\n",
    "                              w_vector = [(1-cost_weight), cost_weight],\n",
    "                              s_method = scoring_method,\n",
    "                              alt_names = provider_names)\n",
    "    \n",
    "    # Sort & Return Dictionary\n",
    "    prov_name = [x[0] for x in mcdm_rankings]\n",
    "    prov_score = [x[1] for x in mcdm_rankings]\n",
    "    sorted_providers = [x for _,x in sorted(zip(prov_score, prov_name))]\n",
    "    output_dict = dict(zip(sorted_providers, list(range(1, len(sorted_providers) + 1))))\n",
    "    return output_dict"
   ]
  },
  {
   "cell_type": "markdown",
   "metadata": {},
   "source": [
    "## Data"
   ]
  },
  {
   "cell_type": "markdown",
   "metadata": {},
   "source": [
    "#### Create Example Data"
   ]
  },
  {
   "cell_type": "code",
   "execution_count": 3,
   "metadata": {},
   "outputs": [],
   "source": [
    "ata = [0.212, 0.232, 0.293, 0.303, 0.556, 0.576, 0.747, 0.828]\n",
    "cost = [108.788, 104.747, 80.0, 120.404, 126.465, 98.182, 82.02, 94.141]\n",
    "acceptance = [0.624, 0.218, 0.131, 0.049, 0.005, 0.001, 0.061, 0.113]\n",
    "provider_names = [f'Provider {x}' for x in range(1, len(ata) + 1)]"
   ]
  },
  {
   "cell_type": "markdown",
   "metadata": {},
   "source": [
    "## MCDM Ranking"
   ]
  },
  {
   "cell_type": "markdown",
   "metadata": {},
   "source": [
    "#### Create Ranks with MCDM"
   ]
  },
  {
   "cell_type": "code",
   "execution_count": 4,
   "metadata": {},
   "outputs": [
    {
     "data": {
      "text/plain": [
       "{'Provider 3': 1,\n",
       " 'Provider 2': 2,\n",
       " 'Provider 1': 3,\n",
       " 'Provider 7': 4,\n",
       " 'Provider 6': 5,\n",
       " 'Provider 4': 6,\n",
       " 'Provider 8': 7,\n",
       " 'Provider 5': 8}"
      ]
     },
     "execution_count": 4,
     "metadata": {},
     "output_type": "execute_result"
    }
   ],
   "source": [
    "ranks = mcdm_rank(ata = ata, cost = cost, provider_names = provider_names,\n",
    "                  cost_weight = 0.5, scoring_method = 'TOPSIS')\n",
    "\n",
    "ranks"
   ]
  },
  {
   "cell_type": "markdown",
   "metadata": {},
   "source": [
    "## Visualize"
   ]
  },
  {
   "cell_type": "code",
   "execution_count": 5,
   "metadata": {},
   "outputs": [],
   "source": [
    "rank_df = pd.DataFrame({'provider_name' : list(ranks.keys()), 'mcdm_rank' : list(ranks.values())})\n",
    "provider_df = pd.DataFrame({'ata' : ata, 'cost' : cost, 'provider_name': provider_names})\n",
    "ranked_provider_df = provider_df.merge(rank_df, how = 'left', on = ['provider_name'])"
   ]
  },
  {
   "cell_type": "code",
   "execution_count": 6,
   "metadata": {},
   "outputs": [
    {
     "data": {
      "image/png": "[encoded data removed]",
      "text/plain": [
       "<Figure size 432x288 with 1 Axes>"
      ]
     },
     "metadata": {
      "needs_background": "light"
     },
     "output_type": "display_data"
    }
   ],
   "source": [
    "p1 = sns.scatterplot(x = 'ata', y = 'cost', data = ranked_provider_df)\n",
    "for line in range(0,ranked_provider_df.shape[0]):\n",
    "     p1.text(ranked_provider_df.ata[line] + 0.01, ranked_provider_df.cost[line], \n",
    "     ranked_provider_df.mcdm_rank[line], horizontalalignment='left', \n",
    "     size='medium', color='black', weight='semibold')\n",
    "plt.title('ATA ~ Cost by MCDM Rank')\n",
    "plt.ylabel('Cost')\n",
    "plt.xlabel('ATA')\n",
    "plt.show()"
   ]
  }
 ],
 "metadata": {
  "@webio": {
   "lastCommId": null,
   "lastKernelId": null
  },
  "kernelspec": {
   "display_name": "Python 3",
   "language": "python",
   "name": "python3"
  },
  "language_info": {
   "codemirror_mode": {
    "name": "ipython",
    "version": 3
   },
   "file_extension": ".py",
   "mimetype": "text/x-python",
   "name": "python",
   "nbconvert_exporter": "python",
   "pygments_lexer": "ipython3",
   "version": "3.7.3"
  }
 },
 "nbformat": 4,
 "nbformat_minor": 2
}
