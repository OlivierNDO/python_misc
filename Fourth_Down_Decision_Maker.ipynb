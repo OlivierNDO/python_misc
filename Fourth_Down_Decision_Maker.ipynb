{
 "cells": [
  {
   "cell_type": "markdown",
   "metadata": {},
   "source": [
    "# Determine Optimal Fourth Down Decision"
   ]
  },
  {
   "cell_type": "markdown",
   "metadata": {},
   "source": [
    "#### Congifuration"
   ]
  },
  {
   "cell_type": "code",
   "execution_count": 1,
   "metadata": {},
   "outputs": [],
   "source": [
    "# Package Imports\n",
    "import pandas as pd, numpy as np, matplotlib.pyplot as plt, seaborn as sns\n",
    "\n",
    "# Input Files\n",
    "input_folder_path = 'C:/Users/user/Desktop/nfl/inputs/'\n",
    "punt_file = 'punt_prob_df.csv'\n",
    "conversion_file = 'conversion_probability_df.csv'\n",
    "field_goal_file = 'fg_probability_df.csv'\n",
    "drive_score_file = 'drive_score_probability_df.csv'"
   ]
  },
  {
   "cell_type": "markdown",
   "metadata": {},
   "source": [
    "#### Class Object"
   ]
  },
  {
   "cell_type": "code",
   "execution_count": 2,
   "metadata": {},
   "outputs": [],
   "source": [
    "class fourth_down_decision:\n",
    "    def __init__(self, input_folder, conv_file, fg_file, ds_file, punt_file,\n",
    "                 sec_left_in_half, yardline_100, yds_to_go):\n",
    "        self.input_folder = input_folder\n",
    "        self.conv_file = conv_file\n",
    "        self.fg_file = fg_file\n",
    "        self.ds_file = ds_file\n",
    "        self.punt_file = punt_file\n",
    "        self.sec_left_in_half = sec_left_in_half\n",
    "        self.yardline_100 = yardline_100\n",
    "        self.yds_to_go = yds_to_go\n",
    "        \n",
    "    def seconds_to_time(self):\n",
    "        sec = self.sec_left_in_half\n",
    "        if (sec // 3600) == 0:\n",
    "            HH = '00'\n",
    "        elif (sec // 3600) < 10:\n",
    "            HH = '0' + str(int(sec // 3600))\n",
    "        else:\n",
    "            HH = str(int(sec // 3600))\n",
    "        min_raw = (np.float64(sec) - (np.float64(sec // 3600) * 3600)) // 60\n",
    "        if min_raw < 10:\n",
    "            MM = '0' + str(int(min_raw))\n",
    "        else:\n",
    "            MM = str(int(min_raw))\n",
    "        sec_raw = (sec - (np.float64(sec // 60) * 60))\n",
    "        if sec_raw < 10:\n",
    "            SS = '0' + str(int(sec_raw))\n",
    "        else:\n",
    "            SS = str(int(sec_raw))\n",
    "        return MM + ':' + SS\n",
    "\n",
    "    def conversion_probability(self):\n",
    "        conv_df = pd.read_csv(self.input_folder + self.conv_file)\n",
    "        if int(self.yds_to_go) not in [int(i) for i in conv_df['ydstogo']]:\n",
    "            conv_prob = 0\n",
    "        else:\n",
    "            conv_prob = conv_df[conv_df.ydstogo == self.yds_to_go]['expected_probability']\n",
    "        return float(conv_prob)\n",
    "    \n",
    "    def field_goal_probability(self):\n",
    "        fg_df = pd.read_csv(self.input_folder + self.fg_file)\n",
    "        if int(self.yardline_100) not in [int(i) for i in fg_df['yardline_100']]:\n",
    "            fg_prob = 0\n",
    "        else:\n",
    "            fg_prob = fg_df[fg_df.yardline_100 == self.yardline_100]['expected_probability']\n",
    "        return float(fg_prob)\n",
    "    \n",
    "    def opponent_field_position_after_punt(self):\n",
    "        punt_df = pd.read_csv(self.input_folder + self.punt_file)\n",
    "        if int(self.yardline_100) not in [int(i) for i in punt_df['yardline_100']]:\n",
    "            print(\"Error: yardline_100 should be a value between 1 and 99 in both the input file and fourth_down_decision parameters\")\n",
    "        else:\n",
    "            punt_outcome = punt_df[punt_df.yardline_100 == self.yardline_100]['opponent_yds_to_endzone']\n",
    "        return int(punt_outcome)\n",
    "    \n",
    "    def expected_points_after_conversion_success(self):\n",
    "        ds_df = pd.read_csv(self.input_folder + self.ds_file)\n",
    "        ds_df = ds_df[ds_df.yardline_100.astype(int) == int(self.yardline_100)]\n",
    "        ds_df = ds_df[ds_df.half_seconds_remaining.astype(int) == int(self.sec_left_in_half)]\n",
    "        return float(ds_df['expected_points'])\n",
    "    \n",
    "    def opponent_expected_points_after_turnover(self):\n",
    "        ds_df = pd.read_csv(self.input_folder + self.ds_file)\n",
    "        ds_df = ds_df[ds_df.yardline_100.astype(int) == int((100 - self.yardline_100))]\n",
    "        ds_df = ds_df[ds_df.half_seconds_remaining.astype(int) == int(self.sec_left_in_half)]\n",
    "        return float(ds_df['expected_points'])\n",
    "    \n",
    "    def opponent_expected_points_after_punt(self):\n",
    "        opp_field_position = self.opponent_field_position_after_punt()\n",
    "        ds_df = pd.read_csv(self.input_folder + self.ds_file)\n",
    "        ds_df = ds_df[ds_df.yardline_100.astype(int) == int(opp_field_position)]\n",
    "        ds_df = ds_df[ds_df.half_seconds_remaining.astype(int) == int(self.sec_left_in_half)]\n",
    "        return float(ds_df['expected_points'])\n",
    "    \n",
    "    def make_decision(self, explain_rationale = False):\n",
    "        # conditional probabilities and expected outcomes\n",
    "        fg_prob = self.field_goal_probability()\n",
    "        conv_prob = self.conversion_probability()\n",
    "        exp_pts_after_conv = self.expected_points_after_conversion_success()\n",
    "        exp_opp_pts_after_turnover = self.opponent_expected_points_after_turnover() \n",
    "        exp_opp_pts_after_punt = self.opponent_expected_points_after_punt()\n",
    "        turnover_point_delta = (float(exp_opp_pts_after_turnover) - float(exp_opp_pts_after_punt))\n",
    "        # expected value of each decision given conditional probabilities\n",
    "        fg_EV = (float(fg_prob) * 3) - ((1 - float(fg_prob)) * turnover_point_delta)\n",
    "        conv_EV = (float(conv_prob) * float(exp_pts_after_conv)) - turnover_point_delta\n",
    "        if (fg_EV < 0 and conv_EV < 0):\n",
    "            decision = 'punt the ball'\n",
    "        elif (fg_EV > 0 and fg_EV > conv_EV):\n",
    "            decision = 'kick a field goal'\n",
    "        else:\n",
    "            decision = 'attempt a 1st down conversion'\n",
    "        if explain_rationale:\n",
    "            situation_expl = \"4th down and {x}, {y} yards from the end zone with {t} left on the clock\\n\\n\\n\".format(x = str(self.yds_to_go),\n",
    "                                                                                                                     y = str(self.yardline_100),\n",
    "                                                                                                                     t = self.seconds_to_time())                                                                                                 \n",
    "            fg_expl = \"> field goal likelihood: {fgl} %\\n\\n\".format(fgl = str(np.round(fg_prob * 100,1)))\n",
    "            conv_expl = \"> likelihood of getting a first down: {lfd} %\\n\\n\".format(lfd = str(np.round(conv_prob * 100, 1)))\n",
    "            conv_pts_expl = \"> if you convert the first down, expected points scored on drive: {p}\\n\\n\".format(p = str(np.round(exp_pts_after_conv, 1)))\n",
    "            to_delta_expl = \"> if you turn the ball over, your opponent is expected to score {p} more points in the next drive\\n\\n\".format(p = str(np.round(turnover_point_delta,3)))\n",
    "            decision_expl = \"> you should {d}\".format(d = decision)\n",
    "            agg_expl = situation_expl + fg_expl + conv_expl + conv_pts_expl + to_delta_expl + decision_expl\n",
    "            print(agg_expl)\n",
    "        else:\n",
    "            print('decision')"
   ]
  },
  {
   "cell_type": "markdown",
   "metadata": {},
   "source": [
    "### Example"
   ]
  },
  {
   "cell_type": "code",
   "execution_count": 3,
   "metadata": {},
   "outputs": [],
   "source": [
    "fourth_down = fourth_down_decision(input_folder = input_folder_path,\n",
    "                                   conv_file = conversion_file,\n",
    "                                   fg_file = field_goal_file,\n",
    "                                   ds_file = drive_score_file,\n",
    "                                   punt_file = punt_file,\n",
    "                                   sec_left_in_half = 800,\n",
    "                                   yardline_100 = 40,\n",
    "                                   yds_to_go = 7)"
   ]
  },
  {
   "cell_type": "markdown",
   "metadata": {},
   "source": [
    "### Generate Decision - Explain Rationale"
   ]
  },
  {
   "cell_type": "code",
   "execution_count": 4,
   "metadata": {},
   "outputs": [
    {
     "name": "stdout",
     "output_type": "stream",
     "text": [
      "4th down and 7, 40 yards from the end zone with 13:20 left on the clock\n",
      "\n",
      "\n",
      "> field goal likelihood: 56.1 %\n",
      "\n",
      "> likelihood of getting a first down: 41.2 %\n",
      "\n",
      "> if you convert the first down, expected points scored on drive: 2.4\n",
      "\n",
      "> if you turn the ball over, your opponent is expected to score 0.649 more points in the next drive\n",
      "\n",
      "> you should kick a field goal\n"
     ]
    }
   ],
   "source": [
    "fourth_down.make_decision(explain_rationale = True)"
   ]
  }
 ],
 "metadata": {
  "kernelspec": {
   "display_name": "Python 3",
   "language": "python",
   "name": "python3"
  },
  "language_info": {
   "codemirror_mode": {
    "name": "ipython",
    "version": 3
   },
   "file_extension": ".py",
   "mimetype": "text/x-python",
   "name": "python",
   "nbconvert_exporter": "python",
   "pygments_lexer": "ipython3",
   "version": "3.6.6"
  }
 },
 "nbformat": 4,
 "nbformat_minor": 2
}
