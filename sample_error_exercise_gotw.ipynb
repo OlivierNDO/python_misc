{
 "cells": [
  {
   "cell_type": "markdown",
   "metadata": {},
   "source": [
    "## Configuration"
   ]
  },
  {
   "cell_type": "code",
   "execution_count": 1,
   "metadata": {},
   "outputs": [],
   "source": [
    "import numpy as np\n",
    "import scipy.stats as st\n",
    "from itertools import compress"
   ]
  },
  {
   "cell_type": "markdown",
   "metadata": {},
   "source": [
    "## Define functions"
   ]
  },
  {
   "cell_type": "code",
   "execution_count": 2,
   "metadata": {},
   "outputs": [],
   "source": [
    "def calculate_sample_error(prob_a, sample_a, prob_b, sample_b):\n",
    "    \"\"\"\n",
    "    For given unequal proportions of two populations for which some condition is true,\n",
    "    estimate the likelihood that samples of the two populations would lead you to the incorrect conclusion.\n",
    "    \n",
    "    Example:\n",
    "    \n",
    "        In village A, 52% <prob_a> of citizens wear hats. In village B, 47% <prob_b> of citizens wear hats.\n",
    "        Estimate the likelihood that samples of 100 <sample_a> citizens from A and\n",
    "        100 <sample_b> from B are taken, what is the likelihood that sample B would\n",
    "        have a higher % of hat-wearers than sample A? (given sample_a and sample_b are large enough, random samples)\n",
    "        \n",
    "    Usage:\n",
    "        Executing -> 'calculate_sample_error(0.52, 0.47, 100, 100)'\n",
    "        Should return ->  0.23946\n",
    "    \"\"\"\n",
    "    # Maximum and minimum probabilities\n",
    "    prob_list = [prob_a, prob_b]\n",
    "    sample_list = [sample_a, sample_b]\n",
    "    max_prob, min_prob = max(prob_list), min(prob_list)\n",
    "    \n",
    "    # Samples associated with minimum and maximum probabilities\n",
    "    max_sample = list(compress(sample_list, [p == max_prob for p in prob_list]))[0]\n",
    "    min_sample = list(compress(sample_list, [p == min_prob for p in prob_list]))[0]\n",
    "    \n",
    "    # Estimate likelihood\n",
    "    mean_diff = max_prob - min_prob\n",
    "    stdev_diff = np.sqrt(((max_prob * (1 - max_prob)) / max_sample) + ((min_prob * (1 - min_prob)) / min_sample))\n",
    "    z_score = (0 - mean_diff) / stdev_diff\n",
    "    return st.norm.cdf(z_score)"
   ]
  },
  {
   "cell_type": "markdown",
   "metadata": {},
   "source": [
    "## Question 1\n",
    "\n",
    "In village A, 53.5% of citizens walk to work vs. village B where 48.5% of citizens walk to work. (true population probabilities)\n",
    "\n",
    "If you polled a random sample of 250 people from village A and 130 people from village B on whether or not they walk to work, what is the likelihood that your polling group from village B would have a *higher* percentage of walkers than village A?"
   ]
  },
  {
   "cell_type": "code",
   "execution_count": 3,
   "metadata": {},
   "outputs": [
    {
     "data": {
      "text/plain": [
       "0.17726064399873104"
      ]
     },
     "execution_count": 3,
     "metadata": {},
     "output_type": "execute_result"
    }
   ],
   "source": [
    "calculate_sample_error(.535, 250, .485, 130)"
   ]
  },
  {
   "cell_type": "markdown",
   "metadata": {},
   "source": [
    "## Question 2\n",
    "Answer the same question, but assuming:\n",
    "    \n",
    "In village A, 60% of citizens walk to work vs. village B where 49% of citizens walk to work. You poll 100 people in each village."
   ]
  },
  {
   "cell_type": "code",
   "execution_count": 4,
   "metadata": {},
   "outputs": [
    {
     "data": {
      "text/plain": [
       "0.058022955871784604"
      ]
     },
     "execution_count": 4,
     "metadata": {},
     "output_type": "execute_result"
    }
   ],
   "source": [
    "calculate_sample_error(.60, 100, .49, 100)"
   ]
  }
 ],
 "metadata": {
  "kernelspec": {
   "display_name": "Python 3",
   "language": "python",
   "name": "python3"
  },
  "language_info": {
   "codemirror_mode": {
    "name": "ipython",
    "version": 3
   },
   "file_extension": ".py",
   "mimetype": "text/x-python",
   "name": "python",
   "nbconvert_exporter": "python",
   "pygments_lexer": "ipython3",
   "version": "3.7.3"
  }
 },
 "nbformat": 4,
 "nbformat_minor": 2
}
