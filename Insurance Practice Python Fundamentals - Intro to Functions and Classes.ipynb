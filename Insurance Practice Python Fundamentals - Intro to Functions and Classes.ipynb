{
 "cells": [
  {
   "cell_type": "markdown",
   "metadata": {},
   "source": [
    "## Functions and Classes"
   ]
  },
  {
   "cell_type": "markdown",
   "metadata": {},
   "source": [
    "### Overview"
   ]
  },
  {
   "cell_type": "markdown",
   "metadata": {},
   "source": [
    "#### Write functions and classes with docstrings that demonstrate knowledge of list comprehension and mathematical operations\n",
    "#### Write doc strings that explain functions to other users... for example:\n",
    "\n",
    "#### Read about function docstrings [here](https://www.programiz.com/python-programming/docstrings)"
   ]
  },
  {
   "cell_type": "code",
   "execution_count": 1,
   "metadata": {},
   "outputs": [],
   "source": [
    "def plus_x_times_y(input_number, plus_x, times_y):\n",
    "    \"\"\"\n",
    "    Given a numeric input, add a specified number, and then multiply the result by another.\n",
    "    Args:\n",
    "        input_number (float): numeric input\n",
    "        plus_x (float): number to add to input\n",
    "        times_y (float): number to multiply after adding <plus_x>\n",
    "    Returns:\n",
    "        float\n",
    "    \"\"\"\n",
    "    return (input_number + plus_x) * times_y"
   ]
  },
  {
   "cell_type": "markdown",
   "metadata": {},
   "source": [
    "### Exercises"
   ]
  },
  {
   "cell_type": "markdown",
   "metadata": {},
   "source": [
    "#### 1) Write a function 'divisible_by()' that takes arguments 'numerator', 'divisor' and returns True/False indicating whether or not numerator is divisible by denominator"
   ]
  },
  {
   "cell_type": "code",
   "execution_count": 2,
   "metadata": {},
   "outputs": [],
   "source": [
    "def divisible_by(numerator, denominator):\n",
    "    \"\"\"\n",
    "    write a docstring\n",
    "    \"\"\"\n",
    "    # return something"
   ]
  },
  {
   "cell_type": "markdown",
   "metadata": {},
   "source": [
    "#### Show that it works"
   ]
  },
  {
   "cell_type": "code",
   "execution_count": 3,
   "metadata": {},
   "outputs": [],
   "source": [
    "divisible_by(10, 3)"
   ]
  },
  {
   "cell_type": "markdown",
   "metadata": {},
   "source": [
    "#### 2) Write another function 'get_factors()' that takes a single argument 'input_number' and returns that numbers factors in a list. Use your divisible_by() function inside it. Don't forget to write the docstring.\n",
    "\n",
    "#### Instead of a for loop, use list comprehension. Read about list comprehension [here](https://www.pythonforbeginners.com/basics/list-comprehensions-in-python)\n",
    "\n",
    "#### Example:\n",
    "#### get_factors(36)\n",
    "#### >>> [1, 2, 3, 4, 6, 9, 12, 18, 36]"
   ]
  },
  {
   "cell_type": "code",
   "execution_count": 4,
   "metadata": {},
   "outputs": [],
   "source": [
    "def get_factors(input_number):\n",
    "    \"\"\"\n",
    "    write a docstring\n",
    "    \"\"\"\n",
    "    # return something"
   ]
  },
  {
   "cell_type": "markdown",
   "metadata": {},
   "source": [
    "#### Show that it works"
   ]
  },
  {
   "cell_type": "code",
   "execution_count": 5,
   "metadata": {},
   "outputs": [],
   "source": [
    "get_factors(36)"
   ]
  },
  {
   "cell_type": "markdown",
   "metadata": {},
   "source": [
    "#### 3) Write another function 'is_prime()' that takes a single argument 'input_number' and returns True/False indicating whether or not numerator is prime (i.e. it's only factors are 1 and itself). Use your get_factors() function inside of it.\n",
    "\n",
    "#### Example:\n",
    "#### is_prime(7)\n",
    "#### >>> True"
   ]
  },
  {
   "cell_type": "code",
   "execution_count": 6,
   "metadata": {},
   "outputs": [],
   "source": [
    "def is_prime(input_number):\n",
    "    \"\"\"\n",
    "    write a docstring\n",
    "    \"\"\"\n",
    "    # return something"
   ]
  },
  {
   "cell_type": "markdown",
   "metadata": {},
   "source": [
    "#### Show that it works"
   ]
  },
  {
   "cell_type": "code",
   "execution_count": 7,
   "metadata": {},
   "outputs": [],
   "source": [
    "is_prime(7)"
   ]
  },
  {
   "cell_type": "markdown",
   "metadata": {},
   "source": [
    "#### 4) Write a function get_prime_factors() that combines your is_prime() and get_factors() functions to return prime factors. Use list comprehension.\n",
    "\n",
    "#### Example:\n",
    "#### get_prime_factors(36)\n",
    "#### >>> [2, 3]"
   ]
  },
  {
   "cell_type": "code",
   "execution_count": 8,
   "metadata": {},
   "outputs": [],
   "source": [
    "def get_prime_factors(input_number):\n",
    "    \"\"\"\n",
    "    write a docstring\n",
    "    \"\"\"\n",
    "    # return something"
   ]
  },
  {
   "cell_type": "markdown",
   "metadata": {},
   "source": [
    "#### Show that it works"
   ]
  },
  {
   "cell_type": "code",
   "execution_count": 9,
   "metadata": {},
   "outputs": [],
   "source": [
    "get_prime_factors(36)"
   ]
  },
  {
   "cell_type": "markdown",
   "metadata": {},
   "source": [
    "#### 5) Write a function print_factor_tree() that prints something like a [factor tree](https://www.mathsisfun.com/definitions/factor-tree.html) in the form of a string. More than 1 acceptable answer.\n",
    "\n",
    "#### Use an f-string to concatenate factors. Read about f-strings [here](https://www.geeksforgeeks.org/formatted-string-literals-f-strings-python/).\n",
    "\n",
    "#### Example:\n",
    "#### print_factor_tree(36)\n",
    "#### 36 x 1\n",
    "#### 18 x 2\n",
    "#### 12 x 3\n",
    "#### 9 x 4\n",
    "#### 6 x 6\n",
    "#### 4 x 9\n",
    "#### 3 x 12\n",
    "#### 2 x 18\n",
    "#### 1 x 36\n",
    "\n",
    "#### The output doesn't have to look *exactly* like this."
   ]
  },
  {
   "cell_type": "code",
   "execution_count": 10,
   "metadata": {},
   "outputs": [],
   "source": [
    "def print_factor_tree(input_number):\n",
    "    \"\"\"\n",
    "    write a docstring\n",
    "    \"\"\"\n",
    "    # print something"
   ]
  },
  {
   "cell_type": "code",
   "execution_count": 11,
   "metadata": {},
   "outputs": [],
   "source": [
    "print_factor_tree(36)"
   ]
  },
  {
   "cell_type": "markdown",
   "metadata": {},
   "source": [
    "#### 6) Write a class object Factorizer() that takes arguments 'input_number' and 'denominator' that can apply any of the above functions in 1) - 5). Define the functions again inside the Factorizer class so that this could be used standalone.\n",
    "\n",
    "#### Read about python classes [here](https://www.w3schools.com/python/python_classes.asp).\n",
    "#### There are a couple of examples in the notebook hosted [here](https://github.com/OlivierNDO/python_misc/blob/master/class_object_examples.ipynb).\n",
    "\n",
    "#### Examples:\n",
    "\n",
    "#### factorize_10 = Factorizer(10)\n",
    "\n",
    "#### factorize_10.get_factors()\n",
    "#### >>> [1, 2, 5, 10]\n",
    "\n",
    "#### factorize_10.is_prime()\n",
    "#### >>> False\n",
    "\n",
    "\n",
    "#### factorize_10.get_prime_factors()\n",
    "#### >>> False\n",
    "\n",
    "#### factorize_10.print_factor_tree()\n",
    "#### 10 x 1\n",
    "#### 5 x 2\n",
    "#### 2 x 5\n",
    "#### 1 x 10\n",
    "\n",
    "#### factorize_10.divisible_by(3)\n",
    "#### >>> False"
   ]
  },
  {
   "cell_type": "markdown",
   "metadata": {},
   "source": [
    "#### For this to be completely correct, it should work without defining any of the above functions outside of the class."
   ]
  },
  {
   "cell_type": "code",
   "execution_count": 12,
   "metadata": {},
   "outputs": [],
   "source": [
    "del divisible_by; del get_factors; del is_prime; del get_prime_factors; del print_factor_tree;"
   ]
  },
  {
   "cell_type": "code",
   "execution_count": 13,
   "metadata": {},
   "outputs": [],
   "source": [
    "class Factorizer:\n",
    "    def __init__(self, input_number):\n",
    "        self.input_number = input_number\n",
    "    \n",
    "    # write methods"
   ]
  },
  {
   "cell_type": "markdown",
   "metadata": {},
   "source": [
    "#### Show that it works"
   ]
  },
  {
   "cell_type": "code",
   "execution_count": null,
   "metadata": {},
   "outputs": [],
   "source": []
  },
  {
   "cell_type": "code",
   "execution_count": null,
   "metadata": {},
   "outputs": [],
   "source": []
  },
  {
   "cell_type": "code",
   "execution_count": null,
   "metadata": {},
   "outputs": [],
   "source": []
  },
  {
   "cell_type": "code",
   "execution_count": null,
   "metadata": {},
   "outputs": [],
   "source": []
  },
  {
   "cell_type": "code",
   "execution_count": null,
   "metadata": {},
   "outputs": [],
   "source": []
  },
  {
   "cell_type": "code",
   "execution_count": null,
   "metadata": {},
   "outputs": [],
   "source": []
  },
  {
   "cell_type": "code",
   "execution_count": null,
   "metadata": {},
   "outputs": [],
   "source": []
  },
  {
   "cell_type": "code",
   "execution_count": null,
   "metadata": {},
   "outputs": [],
   "source": []
  }
 ],
 "metadata": {
  "kernelspec": {
   "display_name": "Python 3",
   "language": "python",
   "name": "python3"
  },
  "language_info": {
   "codemirror_mode": {
    "name": "ipython",
    "version": 3
   },
   "file_extension": ".py",
   "mimetype": "text/x-python",
   "name": "python",
   "nbconvert_exporter": "python",
   "pygments_lexer": "ipython3",
   "version": "3.7.3"
  }
 },
 "nbformat": 4,
 "nbformat_minor": 2
}
