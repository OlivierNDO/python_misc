{
 "cells": [
  {
   "cell_type": "markdown",
   "metadata": {},
   "source": [
    " <img src=\"https://mma.prnewswire.com/media/809139/Fractal_Analytics_Logo.jpg?p=publish&w=200\"/>"
   ]
  },
  {
   "cell_type": "markdown",
   "metadata": {},
   "source": [
    "## Boston Home Prices Regression - Cross Validation Example"
   ]
  },
  {
   "cell_type": "markdown",
   "metadata": {},
   "source": [
    "#### Load Modules"
   ]
  },
  {
   "cell_type": "code",
   "execution_count": 1,
   "metadata": {},
   "outputs": [
    {
     "data": {
      "text/html": [
       "<script>\n",
       "code_show=true; \n",
       "function code_toggle() {\n",
       "    if (code_show){\n",
       "        $('div.cell.code_cell.rendered.selected div.input').hide();\n",
       "    } else {\n",
       "        $('div.cell.code_cell.rendered.selected div.input').show();\n",
       "    }\n",
       "    code_show = !code_show\n",
       "} \n",
       "$( document ).ready(code_toggle);\n",
       "</script>\n",
       "To show/hide this cell's raw code input, click <a href=\"javascript:code_toggle()\">here</a>."
      ],
      "text/plain": [
       "<IPython.core.display.HTML object>"
      ]
     },
     "metadata": {},
     "output_type": "display_data"
    }
   ],
   "source": [
    "from functools import reduce\n",
    "import itertools\n",
    "import collections\n",
    "import datetime\n",
    "from IPython.display import HTML\n",
    "from IPython.display import display\n",
    "import matplotlib.pyplot as plt\n",
    "import math\n",
    "import numpy as np\n",
    "import os\n",
    "import pandas as pd\n",
    "import random\n",
    "import seaborn as sns\n",
    "import sklearn\n",
    "from sklearn import metrics\n",
    "from sklearn.linear_model import LinearRegression\n",
    "from sklearn.model_selection import train_test_split\n",
    "from sklearn import datasets\n",
    "import time\n",
    "import warnings\n",
    "warnings.filterwarnings('ignore')\n",
    "\n",
    "# Taken from https://stackoverflow.com/questions/31517194/how-to-hide-one-specific-cell-input-or-output-in-ipython-notebook\n",
    "tag = HTML('''<script>\n",
    "code_show=true; \n",
    "function code_toggle() {\n",
    "    if (code_show){\n",
    "        $('div.cell.code_cell.rendered.selected div.input').hide();\n",
    "    } else {\n",
    "        $('div.cell.code_cell.rendered.selected div.input').show();\n",
    "    }\n",
    "    code_show = !code_show\n",
    "} \n",
    "$( document ).ready(code_toggle);\n",
    "</script>\n",
    "To show/hide this cell's raw code input, click <a href=\"javascript:code_toggle()\">here</a>.''')\n",
    "display(tag)"
   ]
  },
  {
   "cell_type": "markdown",
   "metadata": {},
   "source": [
    "#### Define Functions"
   ]
  },
  {
   "cell_type": "code",
   "execution_count": 2,
   "metadata": {},
   "outputs": [
    {
     "data": {
      "text/html": [
       "<script>\n",
       "code_show=true; \n",
       "function code_toggle() {\n",
       "    if (code_show){\n",
       "        $('div.cell.code_cell.rendered.selected div.input').hide();\n",
       "    } else {\n",
       "        $('div.cell.code_cell.rendered.selected div.input').show();\n",
       "    }\n",
       "    code_show = !code_show\n",
       "} \n",
       "$( document ).ready(code_toggle);\n",
       "</script>\n",
       "To show/hide this cell's raw code input, click <a href=\"javascript:code_toggle()\">here</a>."
      ],
      "text/plain": [
       "<IPython.core.display.HTML object>"
      ]
     },
     "metadata": {},
     "output_type": "display_data"
    }
   ],
   "source": [
    "def unnest_list_of_lists(LOL):\n",
    "    \"\"\"unnest list of lists\"\"\"\n",
    "    return list(itertools.chain.from_iterable(LOL))\n",
    "\n",
    "\n",
    "def get_unique_count_dict(lst):\n",
    "    \"\"\"\n",
    "    Generate and return dictionary with counts of unique items in a list\n",
    "    Args:\n",
    "        lst (list): list for which to generate unique element counts\n",
    "    \"\"\"\n",
    "    key_values = collections.Counter(lst).keys()\n",
    "    count_values = collections.Counter(lst).values()\n",
    "    return dict(zip(key_values, count_values))\n",
    "\n",
    "\n",
    "def get_unique_count_df_column(dframe, column, print_message = True):\n",
    "    \"\"\"\n",
    "    Generate and return dictionary with counts of unique items in a list\n",
    "    Args:\n",
    "        dframe (pandas.DataFrame): pandas.DataFrame with column for which to generate unique element counts\n",
    "        column (str): column name within dframe for which to generate unique element counts\n",
    "        print_message (bool): True / False. print column timestamp message. defaults to True. \n",
    "    \"\"\"\n",
    "    key_values = list(collections.Counter(list(dframe[column])).keys())\n",
    "    count_values = list(collections.Counter(list(dframe[column])).values())\n",
    "    output_df = pd.DataFrame({'Value' : key_values, 'Frequency' : count_values})\n",
    "    print_timestamp_message(f\"Generating frequency counts for DataFrame column '{column}'\")\n",
    "    return output_df\n",
    "\n",
    "\n",
    "def print_timestamp_message(message, timestamp_format = '%Y-%m-%d %H:%M:%S'):\n",
    "    \"\"\"\n",
    "    Print formatted timestamp followed by custom message\n",
    "    Args:\n",
    "        message (str): string to concatenate with timestamp\n",
    "        timestamp_format (str): format for datetime string. defaults to '%Y-%m-%d %H:%M:%S'\n",
    "    \"\"\"\n",
    "    ts_string = datetime.datetime.fromtimestamp(time.time()).strftime(timestamp_format)\n",
    "    print(f'{ts_string}: {message}')\n",
    "\n",
    "\n",
    "def merge_list_of_dframes(list_of_dframes):\n",
    "    return reduce(lambda  left,right: pd.merge(left,right, how='outer'), list_of_dframes)\n",
    "    \n",
    "    \n",
    "def create_partition_column(dframe, n_partitions, partition_colname = 'Partition', shuffle = True):\n",
    "    \"\"\"\n",
    "    Create a pandas.DataFrame() column in place with a partition number\n",
    "    Args:\n",
    "        dframe (pandas.DataFrame): pandas.DataFrame object to alter in place\n",
    "        n_partitions (int): number of partitions to create\n",
    "        partition_colname (str): column name to use for newly created partition column\n",
    "        shuffle (bool): True / False. whether or not to shuffle partition list prior to assigning to DataFrame column\n",
    "    \"\"\"\n",
    "    partition_list = list(range(1, n_partitions + 1)) * math.ceil(dframe.shape[0] / n_partitions)\n",
    "    if shuffle:\n",
    "        random.shuffle(partition_list)\n",
    "    dframe[partition_colname] = partition_list[0:dframe.shape[0]]\n",
    "    print_timestamp_message(f\"Creating column '{partition_colname}' with values 1 to {n_partitions}\")\n",
    "\n",
    "    \n",
    "def fit_regression_kfold_eval(dframe, x_cols, y_col, iteration_name, partition_col = 'Partition'):\n",
    "    \"\"\"\n",
    "    Fit LinearRegression() sklearn model on a DataFrame, evaluated over K partitions\n",
    "    Args:\n",
    "        dframe (pandas.DataFrame): DataFrame object with X fields, Y field, and partition column to evaluate regression\n",
    "        x_cols (list): list of independent variable column names\n",
    "        y_col (str): dependent variable column name\n",
    "        iteration_name (str): name for model iteration. used for documentation purposes.\n",
    "        partition_col (str): name of existing partition column in DataFrame. defaults to 'Partition'\n",
    "    \"\"\"\n",
    "    # Loop Over K-Folds\n",
    "    rmse_list = []\n",
    "    k_range = range(min(dframe[partition_col]), max(dframe[partition_col]) + 1)\n",
    "    for i, k in enumerate(k_range):\n",
    "        # Separate K-Fold\n",
    "        fit_df = dframe[dframe[partition_col] != k]\n",
    "        eval_df = dframe[dframe[partition_col] == k]\n",
    "        \n",
    "        # Fit Model\n",
    "        linear_model = LinearRegression()\n",
    "        linear_model.fit(fit_df[x_cols], fit_df[[y_col]])\n",
    "        \n",
    "        # Predict & Evaluate\n",
    "        predictions = linear_model.predict(eval_df[x_cols])\n",
    "        rmse = np.sqrt(metrics.mean_squared_error(eval_df[y_col], predictions))\n",
    "        rmse_list.append(rmse)\n",
    "    \n",
    "    # Return Evaluation Output\n",
    "    output_df = pd.DataFrame({'K_Fold_Holdout': list(k_range) + ['Average'],\n",
    "                              f'RMSE_{iteration_name}' : rmse_list + [np.mean(rmse_list)]})\n",
    "    return output_df\n",
    "    \n",
    "    \n",
    "def compare_train_iterations(result_df_one, result_df_two, kfold_colname = 'K_Fold_Holdout'):\n",
    "    \"\"\"\n",
    "    Compare error metric of two linear regression iterations using DataFrame output\n",
    "    from fit_regression_kfold_eval() function. Returns DataFrame object with result comparison\n",
    "    and plots a bar chart\n",
    "    Args:\n",
    "        result_df_one (pandas.DataFrame): DataFrame output from fit_regression_kfold_eval() function\n",
    "        result_df_two (pandas.DataFrame): DataFrame output from fit_regression_kfold_eval() function\n",
    "        kfold_colname (str): column name used to indicate k-fold. defaults to 'K_Fold_Holdout'\n",
    "    Returns:\n",
    "        DataFrame object with result comparison\n",
    "    \"\"\"\n",
    "    # Merge and Transform DataFrames\n",
    "    compare_results = pd.merge(result_df_one, result_df_two, on = [kfold_colname])\n",
    "    eval_col_one = [c for c in result_df_one.columns if c != kfold_colname][0]\n",
    "    eval_col_two = [c for c in result_df_two.columns if c != kfold_colname][0]\n",
    "    iter_name_one = eval_col_one.split('_')[1]\n",
    "    iter_name_two = eval_col_two.split('_')[1]\n",
    "    compare_results['Delta'] = compare_results[eval_col_two] - compare_results[eval_col_one]\n",
    "    compare_results['Percent_Delta'] = compare_results['Delta'] / compare_results[eval_col_one]\n",
    "    compare_results['Error_Change'] = ['Decrease' if e < 0 else 'Increase' for e in compare_results['Percent_Delta']]\n",
    "    \n",
    "    # Create Plot\n",
    "    error_metric = eval_col_one.split('_')[0]\n",
    "    p = sns.barplot(x = kfold_colname, y = 'Percent_Delta', hue = 'Error_Change',\n",
    "                    data = compare_results,\n",
    "                    palette = dict({'Increase':'red', 'Decrease' : 'Green'}),\n",
    "                    alpha = 0.6)\n",
    "\n",
    "    p.set(ylabel = f'{error_metric} % Delta')\n",
    "    p.set(xlabel = 'K-Fold Iteration')\n",
    "    \n",
    "    delta_float = np.round(float(compare_results[compare_results[kfold_colname] == 'Average']['Delta']),2)\n",
    "    percent_delta_float = np.round(float(compare_results[compare_results[kfold_colname] == 'Average']['Percent_Delta']) * 100, 1)\n",
    "    percent_delta_lab = f'{delta_float} ({percent_delta_float} %)'\n",
    "    title_str = f'Mean Change in {error_metric} from {iter_name_one} to {iter_name_two}: {percent_delta_lab}'\n",
    "    p.set(title = title_str)\n",
    "    plt.legend([],[], frameon=False)\n",
    "    plt.show()\n",
    "    return compare_results\n",
    "\n",
    "\n",
    "def fit_regression_test_eval(train_dframe, test_dframe, x_cols, y_col, iteration_name, partition_col = 'Partition'):\n",
    "    \"\"\"\n",
    "    Fit LinearRegression() sklearn model on a DataFrame, evaluated over K partitions\n",
    "    Args:\n",
    "        dframe (pandas.DataFrame): DataFrame object with X fields, Y field, and partition column to evaluate regression\n",
    "        x_cols (list): list of independent variable column names\n",
    "        y_col (str): dependent variable column name\n",
    "        iteration_name (str): name for model iteration. used for documentation purposes.\n",
    "        partition_col (str): name of existing partition column in DataFrame. defaults to 'Partition'\n",
    "    \"\"\"\n",
    "    # Fit Model\n",
    "    linear_model = LinearRegression()\n",
    "    linear_model.fit(train_dframe[x_cols], train_dframe[[y_col]])\n",
    "\n",
    "    # Predict & Evaluate\n",
    "    predictions = linear_model.predict(test_dframe[x_cols])\n",
    "    rmse = np.sqrt(metrics.mean_squared_error(test_dframe[y_col], predictions))\n",
    "    output_df = pd.DataFrame({'K_Fold_Holdout': ['Test'],\n",
    "                              f'RMSE_{iteration_name}' : rmse})\n",
    "    return output_df\n",
    "\n",
    "\n",
    "display(tag)"
   ]
  },
  {
   "cell_type": "markdown",
   "metadata": {},
   "source": [
    "#### Read Dataset (Home Prices)"
   ]
  },
  {
   "cell_type": "code",
   "execution_count": 3,
   "metadata": {},
   "outputs": [
    {
     "data": {
      "text/html": [
       "<div>\n",
       "<style scoped>\n",
       "    .dataframe tbody tr th:only-of-type {\n",
       "        vertical-align: middle;\n",
       "    }\n",
       "\n",
       "    .dataframe tbody tr th {\n",
       "        vertical-align: top;\n",
       "    }\n",
       "\n",
       "    .dataframe thead th {\n",
       "        text-align: right;\n",
       "    }\n",
       "</style>\n",
       "<table border=\"1\" class=\"dataframe\">\n",
       "  <thead>\n",
       "    <tr style=\"text-align: right;\">\n",
       "      <th></th>\n",
       "      <th>CRIM</th>\n",
       "      <th>ZN</th>\n",
       "      <th>INDUS</th>\n",
       "      <th>CHAS</th>\n",
       "      <th>NOX</th>\n",
       "      <th>RM</th>\n",
       "      <th>AGE</th>\n",
       "      <th>DIS</th>\n",
       "      <th>RAD</th>\n",
       "      <th>TAX</th>\n",
       "      <th>PTRATIO</th>\n",
       "      <th>B</th>\n",
       "      <th>LSTAT</th>\n",
       "      <th>Price</th>\n",
       "    </tr>\n",
       "  </thead>\n",
       "  <tbody>\n",
       "    <tr>\n",
       "      <th>0</th>\n",
       "      <td>0.00632</td>\n",
       "      <td>18.0</td>\n",
       "      <td>2.31</td>\n",
       "      <td>0.0</td>\n",
       "      <td>0.538</td>\n",
       "      <td>6.575</td>\n",
       "      <td>65.2</td>\n",
       "      <td>4.0900</td>\n",
       "      <td>1.0</td>\n",
       "      <td>296.0</td>\n",
       "      <td>15.3</td>\n",
       "      <td>396.90</td>\n",
       "      <td>4.98</td>\n",
       "      <td>24.0</td>\n",
       "    </tr>\n",
       "    <tr>\n",
       "      <th>1</th>\n",
       "      <td>0.02731</td>\n",
       "      <td>0.0</td>\n",
       "      <td>7.07</td>\n",
       "      <td>0.0</td>\n",
       "      <td>0.469</td>\n",
       "      <td>6.421</td>\n",
       "      <td>78.9</td>\n",
       "      <td>4.9671</td>\n",
       "      <td>2.0</td>\n",
       "      <td>242.0</td>\n",
       "      <td>17.8</td>\n",
       "      <td>396.90</td>\n",
       "      <td>9.14</td>\n",
       "      <td>21.6</td>\n",
       "    </tr>\n",
       "    <tr>\n",
       "      <th>2</th>\n",
       "      <td>0.02729</td>\n",
       "      <td>0.0</td>\n",
       "      <td>7.07</td>\n",
       "      <td>0.0</td>\n",
       "      <td>0.469</td>\n",
       "      <td>7.185</td>\n",
       "      <td>61.1</td>\n",
       "      <td>4.9671</td>\n",
       "      <td>2.0</td>\n",
       "      <td>242.0</td>\n",
       "      <td>17.8</td>\n",
       "      <td>392.83</td>\n",
       "      <td>4.03</td>\n",
       "      <td>34.7</td>\n",
       "    </tr>\n",
       "    <tr>\n",
       "      <th>3</th>\n",
       "      <td>0.03237</td>\n",
       "      <td>0.0</td>\n",
       "      <td>2.18</td>\n",
       "      <td>0.0</td>\n",
       "      <td>0.458</td>\n",
       "      <td>6.998</td>\n",
       "      <td>45.8</td>\n",
       "      <td>6.0622</td>\n",
       "      <td>3.0</td>\n",
       "      <td>222.0</td>\n",
       "      <td>18.7</td>\n",
       "      <td>394.63</td>\n",
       "      <td>2.94</td>\n",
       "      <td>33.4</td>\n",
       "    </tr>\n",
       "    <tr>\n",
       "      <th>4</th>\n",
       "      <td>0.06905</td>\n",
       "      <td>0.0</td>\n",
       "      <td>2.18</td>\n",
       "      <td>0.0</td>\n",
       "      <td>0.458</td>\n",
       "      <td>7.147</td>\n",
       "      <td>54.2</td>\n",
       "      <td>6.0622</td>\n",
       "      <td>3.0</td>\n",
       "      <td>222.0</td>\n",
       "      <td>18.7</td>\n",
       "      <td>396.90</td>\n",
       "      <td>5.33</td>\n",
       "      <td>36.2</td>\n",
       "    </tr>\n",
       "  </tbody>\n",
       "</table>\n",
       "</div>"
      ],
      "text/plain": [
       "      CRIM    ZN  INDUS  CHAS    NOX     RM   AGE     DIS  RAD    TAX  \\\n",
       "0  0.00632  18.0   2.31   0.0  0.538  6.575  65.2  4.0900  1.0  296.0   \n",
       "1  0.02731   0.0   7.07   0.0  0.469  6.421  78.9  4.9671  2.0  242.0   \n",
       "2  0.02729   0.0   7.07   0.0  0.469  7.185  61.1  4.9671  2.0  242.0   \n",
       "3  0.03237   0.0   2.18   0.0  0.458  6.998  45.8  6.0622  3.0  222.0   \n",
       "4  0.06905   0.0   2.18   0.0  0.458  7.147  54.2  6.0622  3.0  222.0   \n",
       "\n",
       "   PTRATIO       B  LSTAT  Price  \n",
       "0     15.3  396.90   4.98   24.0  \n",
       "1     17.8  396.90   9.14   21.6  \n",
       "2     17.8  392.83   4.03   34.7  \n",
       "3     18.7  394.63   2.94   33.4  \n",
       "4     18.7  396.90   5.33   36.2  "
      ]
     },
     "execution_count": 3,
     "metadata": {},
     "output_type": "execute_result"
    }
   ],
   "source": [
    "boston_data = sklearn.datasets.load_boston()\n",
    "housing_df = pd.DataFrame(boston_data.data, columns = boston_data.feature_names)\n",
    "housing_df['Price'] = boston_data.target\n",
    "housing_df.head()"
   ]
  },
  {
   "cell_type": "markdown",
   "metadata": {},
   "source": [
    "## Creating Cross Validation Partitions"
   ]
  },
  {
   "cell_type": "markdown",
   "metadata": {},
   "source": [
    "#### Set Random Seed (so that random sampling will be identical in the future)"
   ]
  },
  {
   "cell_type": "code",
   "execution_count": 4,
   "metadata": {},
   "outputs": [],
   "source": [
    "random.seed(9232020)"
   ]
  },
  {
   "cell_type": "markdown",
   "metadata": {},
   "source": [
    "#### Separate Train and Test Set Partitions (80%, 20%) *Before* Doing Anything Else"
   ]
  },
  {
   "cell_type": "code",
   "execution_count": 5,
   "metadata": {},
   "outputs": [],
   "source": [
    "train_df, test_df = sklearn.model_selection.train_test_split(housing_df, test_size = 0.2, random_state = 9232020)"
   ]
  },
  {
   "cell_type": "code",
   "execution_count": 6,
   "metadata": {},
   "outputs": [
    {
     "name": "stdout",
     "output_type": "stream",
     "text": [
      "No. Training Set Records: 404 ... No. Test Set Records: 102\n"
     ]
    }
   ],
   "source": [
    "print(f'No. Training Set Records: {train_df.shape[0]} ... No. Test Set Records: {test_df.shape[0]}')"
   ]
  },
  {
   "cell_type": "markdown",
   "metadata": {},
   "source": [
    "#### Split 80% Training Set into 10 separate 8% K-Fold Partitions"
   ]
  },
  {
   "cell_type": "code",
   "execution_count": 7,
   "metadata": {},
   "outputs": [
    {
     "name": "stdout",
     "output_type": "stream",
     "text": [
      "2020-09-23 13:19:22: Creating column 'Partition' with values 1 to 10\n"
     ]
    }
   ],
   "source": [
    "create_partition_column(dframe = train_df, n_partitions = 10)"
   ]
  },
  {
   "cell_type": "code",
   "execution_count": 8,
   "metadata": {},
   "outputs": [
    {
     "data": {
      "text/html": [
       "<div>\n",
       "<style scoped>\n",
       "    .dataframe tbody tr th:only-of-type {\n",
       "        vertical-align: middle;\n",
       "    }\n",
       "\n",
       "    .dataframe tbody tr th {\n",
       "        vertical-align: top;\n",
       "    }\n",
       "\n",
       "    .dataframe thead th {\n",
       "        text-align: right;\n",
       "    }\n",
       "</style>\n",
       "<table border=\"1\" class=\"dataframe\">\n",
       "  <thead>\n",
       "    <tr style=\"text-align: right;\">\n",
       "      <th></th>\n",
       "      <th>CRIM</th>\n",
       "      <th>ZN</th>\n",
       "      <th>INDUS</th>\n",
       "      <th>CHAS</th>\n",
       "      <th>NOX</th>\n",
       "      <th>RM</th>\n",
       "      <th>AGE</th>\n",
       "      <th>DIS</th>\n",
       "      <th>RAD</th>\n",
       "      <th>TAX</th>\n",
       "      <th>PTRATIO</th>\n",
       "      <th>B</th>\n",
       "      <th>LSTAT</th>\n",
       "      <th>Price</th>\n",
       "      <th>Partition</th>\n",
       "    </tr>\n",
       "  </thead>\n",
       "  <tbody>\n",
       "    <tr>\n",
       "      <th>55</th>\n",
       "      <td>0.01311</td>\n",
       "      <td>90.0</td>\n",
       "      <td>1.22</td>\n",
       "      <td>0.0</td>\n",
       "      <td>0.403</td>\n",
       "      <td>7.249</td>\n",
       "      <td>21.9</td>\n",
       "      <td>8.6966</td>\n",
       "      <td>5.0</td>\n",
       "      <td>226.0</td>\n",
       "      <td>17.9</td>\n",
       "      <td>395.93</td>\n",
       "      <td>4.81</td>\n",
       "      <td>35.4</td>\n",
       "      <td>4</td>\n",
       "    </tr>\n",
       "    <tr>\n",
       "      <th>458</th>\n",
       "      <td>7.75223</td>\n",
       "      <td>0.0</td>\n",
       "      <td>18.10</td>\n",
       "      <td>0.0</td>\n",
       "      <td>0.713</td>\n",
       "      <td>6.301</td>\n",
       "      <td>83.7</td>\n",
       "      <td>2.7831</td>\n",
       "      <td>24.0</td>\n",
       "      <td>666.0</td>\n",
       "      <td>20.2</td>\n",
       "      <td>272.21</td>\n",
       "      <td>16.23</td>\n",
       "      <td>14.9</td>\n",
       "      <td>1</td>\n",
       "    </tr>\n",
       "    <tr>\n",
       "      <th>487</th>\n",
       "      <td>4.83567</td>\n",
       "      <td>0.0</td>\n",
       "      <td>18.10</td>\n",
       "      <td>0.0</td>\n",
       "      <td>0.583</td>\n",
       "      <td>5.905</td>\n",
       "      <td>53.2</td>\n",
       "      <td>3.1523</td>\n",
       "      <td>24.0</td>\n",
       "      <td>666.0</td>\n",
       "      <td>20.2</td>\n",
       "      <td>388.22</td>\n",
       "      <td>11.45</td>\n",
       "      <td>20.6</td>\n",
       "      <td>9</td>\n",
       "    </tr>\n",
       "    <tr>\n",
       "      <th>339</th>\n",
       "      <td>0.05497</td>\n",
       "      <td>0.0</td>\n",
       "      <td>5.19</td>\n",
       "      <td>0.0</td>\n",
       "      <td>0.515</td>\n",
       "      <td>5.985</td>\n",
       "      <td>45.4</td>\n",
       "      <td>4.8122</td>\n",
       "      <td>5.0</td>\n",
       "      <td>224.0</td>\n",
       "      <td>20.2</td>\n",
       "      <td>396.90</td>\n",
       "      <td>9.74</td>\n",
       "      <td>19.0</td>\n",
       "      <td>10</td>\n",
       "    </tr>\n",
       "    <tr>\n",
       "      <th>230</th>\n",
       "      <td>0.53700</td>\n",
       "      <td>0.0</td>\n",
       "      <td>6.20</td>\n",
       "      <td>0.0</td>\n",
       "      <td>0.504</td>\n",
       "      <td>5.981</td>\n",
       "      <td>68.1</td>\n",
       "      <td>3.6715</td>\n",
       "      <td>8.0</td>\n",
       "      <td>307.0</td>\n",
       "      <td>17.4</td>\n",
       "      <td>378.35</td>\n",
       "      <td>11.65</td>\n",
       "      <td>24.3</td>\n",
       "      <td>7</td>\n",
       "    </tr>\n",
       "  </tbody>\n",
       "</table>\n",
       "</div>"
      ],
      "text/plain": [
       "        CRIM    ZN  INDUS  CHAS    NOX     RM   AGE     DIS   RAD    TAX  \\\n",
       "55   0.01311  90.0   1.22   0.0  0.403  7.249  21.9  8.6966   5.0  226.0   \n",
       "458  7.75223   0.0  18.10   0.0  0.713  6.301  83.7  2.7831  24.0  666.0   \n",
       "487  4.83567   0.0  18.10   0.0  0.583  5.905  53.2  3.1523  24.0  666.0   \n",
       "339  0.05497   0.0   5.19   0.0  0.515  5.985  45.4  4.8122   5.0  224.0   \n",
       "230  0.53700   0.0   6.20   0.0  0.504  5.981  68.1  3.6715   8.0  307.0   \n",
       "\n",
       "     PTRATIO       B  LSTAT  Price  Partition  \n",
       "55      17.9  395.93   4.81   35.4          4  \n",
       "458     20.2  272.21  16.23   14.9          1  \n",
       "487     20.2  388.22  11.45   20.6          9  \n",
       "339     20.2  396.90   9.74   19.0         10  \n",
       "230     17.4  378.35  11.65   24.3          7  "
      ]
     },
     "execution_count": 8,
     "metadata": {},
     "output_type": "execute_result"
    }
   ],
   "source": [
    "train_df.head()"
   ]
  },
  {
   "cell_type": "markdown",
   "metadata": {},
   "source": [
    "## Baseline Model\n",
    "#### Price ~ $\\beta_{0}$ + $\\beta_{1}$ $RM_{i}$ + $\\epsilon_{i}$"
   ]
  },
  {
   "cell_type": "markdown",
   "metadata": {},
   "source": [
    "#### Again - the K-fold process is run only on the 80% training set..."
   ]
  },
  {
   "cell_type": "code",
   "execution_count": 9,
   "metadata": {},
   "outputs": [
    {
     "data": {
      "text/html": [
       "<div>\n",
       "<style scoped>\n",
       "    .dataframe tbody tr th:only-of-type {\n",
       "        vertical-align: middle;\n",
       "    }\n",
       "\n",
       "    .dataframe tbody tr th {\n",
       "        vertical-align: top;\n",
       "    }\n",
       "\n",
       "    .dataframe thead th {\n",
       "        text-align: right;\n",
       "    }\n",
       "</style>\n",
       "<table border=\"1\" class=\"dataframe\">\n",
       "  <thead>\n",
       "    <tr style=\"text-align: right;\">\n",
       "      <th></th>\n",
       "      <th>K_Fold_Holdout</th>\n",
       "      <th>RMSE_Baseline</th>\n",
       "    </tr>\n",
       "  </thead>\n",
       "  <tbody>\n",
       "    <tr>\n",
       "      <th>0</th>\n",
       "      <td>1</td>\n",
       "      <td>6.482461</td>\n",
       "    </tr>\n",
       "    <tr>\n",
       "      <th>1</th>\n",
       "      <td>2</td>\n",
       "      <td>6.320826</td>\n",
       "    </tr>\n",
       "    <tr>\n",
       "      <th>2</th>\n",
       "      <td>3</td>\n",
       "      <td>7.377156</td>\n",
       "    </tr>\n",
       "    <tr>\n",
       "      <th>3</th>\n",
       "      <td>4</td>\n",
       "      <td>4.965395</td>\n",
       "    </tr>\n",
       "    <tr>\n",
       "      <th>4</th>\n",
       "      <td>5</td>\n",
       "      <td>6.045454</td>\n",
       "    </tr>\n",
       "    <tr>\n",
       "      <th>5</th>\n",
       "      <td>6</td>\n",
       "      <td>6.755175</td>\n",
       "    </tr>\n",
       "    <tr>\n",
       "      <th>6</th>\n",
       "      <td>7</td>\n",
       "      <td>6.695174</td>\n",
       "    </tr>\n",
       "    <tr>\n",
       "      <th>7</th>\n",
       "      <td>8</td>\n",
       "      <td>8.582217</td>\n",
       "    </tr>\n",
       "    <tr>\n",
       "      <th>8</th>\n",
       "      <td>9</td>\n",
       "      <td>8.078318</td>\n",
       "    </tr>\n",
       "    <tr>\n",
       "      <th>9</th>\n",
       "      <td>10</td>\n",
       "      <td>5.947852</td>\n",
       "    </tr>\n",
       "    <tr>\n",
       "      <th>10</th>\n",
       "      <td>Average</td>\n",
       "      <td>6.725003</td>\n",
       "    </tr>\n",
       "  </tbody>\n",
       "</table>\n",
       "</div>"
      ],
      "text/plain": [
       "   K_Fold_Holdout  RMSE_Baseline\n",
       "0               1       6.482461\n",
       "1               2       6.320826\n",
       "2               3       7.377156\n",
       "3               4       4.965395\n",
       "4               5       6.045454\n",
       "5               6       6.755175\n",
       "6               7       6.695174\n",
       "7               8       8.582217\n",
       "8               9       8.078318\n",
       "9              10       5.947852\n",
       "10        Average       6.725003"
      ]
     },
     "execution_count": 9,
     "metadata": {},
     "output_type": "execute_result"
    }
   ],
   "source": [
    "train_results_baseline = fit_regression_kfold_eval(dframe = train_df,\n",
    "                                                   x_cols = ['RM'],\n",
    "                                                   y_col = 'Price',\n",
    "                                                   iteration_name = 'Baseline')\n",
    "train_results_baseline"
   ]
  },
  {
   "cell_type": "markdown",
   "metadata": {},
   "source": [
    "#### Test Set: Check Generalization"
   ]
  },
  {
   "cell_type": "code",
   "execution_count": 10,
   "metadata": {},
   "outputs": [
    {
     "data": {
      "text/html": [
       "<div>\n",
       "<style scoped>\n",
       "    .dataframe tbody tr th:only-of-type {\n",
       "        vertical-align: middle;\n",
       "    }\n",
       "\n",
       "    .dataframe tbody tr th {\n",
       "        vertical-align: top;\n",
       "    }\n",
       "\n",
       "    .dataframe thead th {\n",
       "        text-align: right;\n",
       "    }\n",
       "</style>\n",
       "<table border=\"1\" class=\"dataframe\">\n",
       "  <thead>\n",
       "    <tr style=\"text-align: right;\">\n",
       "      <th></th>\n",
       "      <th>K_Fold_Holdout</th>\n",
       "      <th>RMSE_Baseline</th>\n",
       "    </tr>\n",
       "  </thead>\n",
       "  <tbody>\n",
       "    <tr>\n",
       "      <th>0</th>\n",
       "      <td>Test</td>\n",
       "      <td>6.128178</td>\n",
       "    </tr>\n",
       "  </tbody>\n",
       "</table>\n",
       "</div>"
      ],
      "text/plain": [
       "  K_Fold_Holdout  RMSE_Baseline\n",
       "0           Test       6.128178"
      ]
     },
     "execution_count": 10,
     "metadata": {},
     "output_type": "execute_result"
    }
   ],
   "source": [
    "test_results_baseline = fit_regression_test_eval(train_dframe = train_df,\n",
    "                                             test_dframe = test_df,\n",
    "                                             x_cols = ['RM'],\n",
    "                                             y_col = 'Price',\n",
    "                                             iteration_name = 'Baseline')\n",
    "test_results_list = [test_results_baseline]\n",
    "test_results_baseline"
   ]
  },
  {
   "cell_type": "markdown",
   "metadata": {},
   "source": [
    "## Model Iteration i100: Decide Whether or Not to Add Crime Variable ('CRIM')\n",
    "#### Price ~ $\\beta_{0}$ + $\\beta_{1}$ $RM_{i}$ + $\\beta_{1}$ $CRIM_{i}$ + $\\epsilon_{i}$"
   ]
  },
  {
   "cell_type": "code",
   "execution_count": 11,
   "metadata": {},
   "outputs": [
    {
     "data": {
      "text/html": [
       "<div>\n",
       "<style scoped>\n",
       "    .dataframe tbody tr th:only-of-type {\n",
       "        vertical-align: middle;\n",
       "    }\n",
       "\n",
       "    .dataframe tbody tr th {\n",
       "        vertical-align: top;\n",
       "    }\n",
       "\n",
       "    .dataframe thead th {\n",
       "        text-align: right;\n",
       "    }\n",
       "</style>\n",
       "<table border=\"1\" class=\"dataframe\">\n",
       "  <thead>\n",
       "    <tr style=\"text-align: right;\">\n",
       "      <th></th>\n",
       "      <th>K_Fold_Holdout</th>\n",
       "      <th>RMSE_i100</th>\n",
       "    </tr>\n",
       "  </thead>\n",
       "  <tbody>\n",
       "    <tr>\n",
       "      <th>0</th>\n",
       "      <td>1</td>\n",
       "      <td>5.308373</td>\n",
       "    </tr>\n",
       "    <tr>\n",
       "      <th>1</th>\n",
       "      <td>2</td>\n",
       "      <td>6.252203</td>\n",
       "    </tr>\n",
       "    <tr>\n",
       "      <th>2</th>\n",
       "      <td>3</td>\n",
       "      <td>7.575141</td>\n",
       "    </tr>\n",
       "    <tr>\n",
       "      <th>3</th>\n",
       "      <td>4</td>\n",
       "      <td>4.347813</td>\n",
       "    </tr>\n",
       "    <tr>\n",
       "      <th>4</th>\n",
       "      <td>5</td>\n",
       "      <td>5.523907</td>\n",
       "    </tr>\n",
       "    <tr>\n",
       "      <th>5</th>\n",
       "      <td>6</td>\n",
       "      <td>6.650481</td>\n",
       "    </tr>\n",
       "    <tr>\n",
       "      <th>6</th>\n",
       "      <td>7</td>\n",
       "      <td>5.921372</td>\n",
       "    </tr>\n",
       "    <tr>\n",
       "      <th>7</th>\n",
       "      <td>8</td>\n",
       "      <td>8.169082</td>\n",
       "    </tr>\n",
       "    <tr>\n",
       "      <th>8</th>\n",
       "      <td>9</td>\n",
       "      <td>7.698792</td>\n",
       "    </tr>\n",
       "    <tr>\n",
       "      <th>9</th>\n",
       "      <td>10</td>\n",
       "      <td>5.640989</td>\n",
       "    </tr>\n",
       "    <tr>\n",
       "      <th>10</th>\n",
       "      <td>Average</td>\n",
       "      <td>6.308815</td>\n",
       "    </tr>\n",
       "  </tbody>\n",
       "</table>\n",
       "</div>"
      ],
      "text/plain": [
       "   K_Fold_Holdout  RMSE_i100\n",
       "0               1   5.308373\n",
       "1               2   6.252203\n",
       "2               3   7.575141\n",
       "3               4   4.347813\n",
       "4               5   5.523907\n",
       "5               6   6.650481\n",
       "6               7   5.921372\n",
       "7               8   8.169082\n",
       "8               9   7.698792\n",
       "9              10   5.640989\n",
       "10        Average   6.308815"
      ]
     },
     "execution_count": 11,
     "metadata": {},
     "output_type": "execute_result"
    }
   ],
   "source": [
    "train_results_i100 = fit_regression_kfold_eval(dframe = train_df,\n",
    "                                                   x_cols = ['RM', 'CRIM'],\n",
    "                                                   y_col = 'Price',\n",
    "                                                   iteration_name = 'i100')\n",
    "train_results_i100"
   ]
  },
  {
   "cell_type": "markdown",
   "metadata": {},
   "source": [
    "#### Training Set: Compare to Previous Iteration & Make Decision"
   ]
  },
  {
   "cell_type": "code",
   "execution_count": 12,
   "metadata": {},
   "outputs": [
    {
     "data": {
      "image/png": "[encoded data removed]",
      "text/plain": [
       "<Figure size 432x288 with 1 Axes>"
      ]
     },
     "metadata": {
      "needs_background": "light"
     },
     "output_type": "display_data"
    }
   ],
   "source": [
    "compare_i100_df = compare_train_iterations(train_results_baseline, train_results_i100)"
   ]
  },
  {
   "cell_type": "markdown",
   "metadata": {},
   "source": [
    "#### Test Set: Check Generalization"
   ]
  },
  {
   "cell_type": "code",
   "execution_count": 13,
   "metadata": {},
   "outputs": [],
   "source": [
    "test_results_i100 = fit_regression_test_eval(train_dframe = train_df,\n",
    "                                             test_dframe = test_df,\n",
    "                                             x_cols = ['RM', 'CRIM'],\n",
    "                                             y_col = 'Price',\n",
    "                                             iteration_name = 'i100')\n",
    "\n",
    "test_results_list.append(test_results_i100)"
   ]
  },
  {
   "cell_type": "code",
   "execution_count": 14,
   "metadata": {},
   "outputs": [
    {
     "data": {
      "text/html": [
       "<script>\n",
       "code_show=true; \n",
       "function code_toggle() {\n",
       "    if (code_show){\n",
       "        $('div.cell.code_cell.rendered.selected div.input').hide();\n",
       "    } else {\n",
       "        $('div.cell.code_cell.rendered.selected div.input').show();\n",
       "    }\n",
       "    code_show = !code_show\n",
       "} \n",
       "$( document ).ready(code_toggle);\n",
       "</script>\n",
       "To show/hide this cell's raw code input, click <a href=\"javascript:code_toggle()\">here</a>."
      ],
      "text/plain": [
       "<IPython.core.display.HTML object>"
      ]
     },
     "metadata": {},
     "output_type": "display_data"
    },
    {
     "data": {
      "image/png": "[encoded data removed]",
      "text/plain": [
       "<Figure size 432x288 with 1 Axes>"
      ]
     },
     "metadata": {
      "needs_background": "light"
     },
     "output_type": "display_data"
    }
   ],
   "source": [
    "test_results_df = merge_list_of_dframes(test_results_list)\n",
    "test_results_df = test_results_df.melt('K_Fold_Holdout', var_name='Iteration', value_name='RMSE')\n",
    "test_results_df['Iteration_Name'] = [s.split('_')[1] for s in test_results_df['Iteration']]\n",
    "baseline_rmse = test_results_df[test_results_df.Iteration == 'RMSE_Baseline']['RMSE']\n",
    "test_results_df['Change_Vs_Baseline'] = [x - baseline_rmse for x in test_results_df['RMSE']]\n",
    "test_results_df['Percent_Change_Vs_Baseline'] = [x / baseline_rmse for x in test_results_df['Change_Vs_Baseline']]\n",
    "g = sns.barplot(x=\"K_Fold_Holdout\", y=\"Percent_Change_Vs_Baseline\", hue='Iteration_Name', data = test_results_df)\n",
    "g.set(title = 'Test Set: % Change in RMSE vs. Baseline')\n",
    "plt.legend(bbox_to_anchor=(1.05, 1), loc=2, borderaxespad=0.)\n",
    "display(tag)"
   ]
  },
  {
   "cell_type": "markdown",
   "metadata": {},
   "source": [
    "## Model Iteration i200: Decide Whether or Not to Add Age Variable ('AGE')\n",
    "#### Price ~ $\\beta_{0}$ + $\\beta_{1}$ $RM_{i}$ + $\\beta_{1}$ $CRIM_{i}$ + $\\beta_{2}$ $AGE_{i}$ + $\\epsilon_{i}$"
   ]
  },
  {
   "cell_type": "code",
   "execution_count": 15,
   "metadata": {},
   "outputs": [],
   "source": [
    "train_results_i200 = fit_regression_kfold_eval(dframe = train_df,\n",
    "                                               x_cols = ['RM', 'CRIM', 'AGE'],\n",
    "                                               y_col = 'Price',\n",
    "                                               iteration_name = 'i200')"
   ]
  },
  {
   "cell_type": "markdown",
   "metadata": {},
   "source": [
    "#### Training Set: Compare to Previous Iteration & Make Decision"
   ]
  },
  {
   "cell_type": "code",
   "execution_count": 16,
   "metadata": {},
   "outputs": [
    {
     "data": {
      "image/png": "[encoded data removed]",
      "text/plain": [
       "<Figure size 432x288 with 1 Axes>"
      ]
     },
     "metadata": {
      "needs_background": "light"
     },
     "output_type": "display_data"
    }
   ],
   "source": [
    "compare_i200_df = compare_train_iterations(train_results_i100, train_results_i200)"
   ]
  },
  {
   "cell_type": "markdown",
   "metadata": {},
   "source": [
    "#### Test Set: Check Generalization"
   ]
  },
  {
   "cell_type": "code",
   "execution_count": 17,
   "metadata": {},
   "outputs": [],
   "source": [
    "test_results_i200 = fit_regression_test_eval(train_dframe = train_df,\n",
    "                                             test_dframe = test_df,\n",
    "                                             x_cols = ['RM', 'CRIM', 'AGE'],\n",
    "                                             y_col = 'Price',\n",
    "                                             iteration_name = 'i200')\n",
    "test_results_list.append(test_results_i200)"
   ]
  },
  {
   "cell_type": "code",
   "execution_count": 18,
   "metadata": {},
   "outputs": [
    {
     "data": {
      "text/html": [
       "<script>\n",
       "code_show=true; \n",
       "function code_toggle() {\n",
       "    if (code_show){\n",
       "        $('div.cell.code_cell.rendered.selected div.input').hide();\n",
       "    } else {\n",
       "        $('div.cell.code_cell.rendered.selected div.input').show();\n",
       "    }\n",
       "    code_show = !code_show\n",
       "} \n",
       "$( document ).ready(code_toggle);\n",
       "</script>\n",
       "To show/hide this cell's raw code input, click <a href=\"javascript:code_toggle()\">here</a>."
      ],
      "text/plain": [
       "<IPython.core.display.HTML object>"
      ]
     },
     "metadata": {},
     "output_type": "display_data"
    },
    {
     "data": {
      "image/png": "[encoded data removed]",
      "text/plain": [
       "<Figure size 432x288 with 1 Axes>"
      ]
     },
     "metadata": {
      "needs_background": "light"
     },
     "output_type": "display_data"
    }
   ],
   "source": [
    "test_results_df = merge_list_of_dframes(test_results_list)\n",
    "test_results_df = test_results_df.melt('K_Fold_Holdout', var_name='Iteration', value_name='RMSE')\n",
    "test_results_df['Iteration_Name'] = [s.split('_')[1] for s in test_results_df['Iteration']]\n",
    "baseline_rmse = test_results_df[test_results_df.Iteration == 'RMSE_Baseline']['RMSE']\n",
    "test_results_df['Change_Vs_Baseline'] = [x - baseline_rmse for x in test_results_df['RMSE']]\n",
    "test_results_df['Percent_Change_Vs_Baseline'] = [x / baseline_rmse for x in test_results_df['Change_Vs_Baseline']]\n",
    "g = sns.barplot(x=\"K_Fold_Holdout\", y=\"Percent_Change_Vs_Baseline\", hue='Iteration_Name', data = test_results_df)\n",
    "g.set(title = 'Test Set: % Change in RMSE vs. Baseline')\n",
    "plt.legend(bbox_to_anchor=(1.05, 1), loc=2, borderaxespad=0.)\n",
    "display(tag)"
   ]
  },
  {
   "cell_type": "markdown",
   "metadata": {},
   "source": [
    "## Model Iteration i300: Decide Whether or Not to Add Zone Variable ('ZN')\n",
    "#### Price ~ $\\beta_{0}$ + $\\beta_{1}$ $RM_{i}$ + $\\beta_{1}$ $CRIM_{i}$ + $\\beta_{2}$ $AGE_{i}$ + $\\beta_{3}$ $ZN_{i}$ + $\\epsilon_{i}$"
   ]
  },
  {
   "cell_type": "code",
   "execution_count": 19,
   "metadata": {},
   "outputs": [],
   "source": [
    "train_results_i300 = fit_regression_kfold_eval(dframe = train_df,\n",
    "                                               x_cols = ['RM', 'CRIM', 'AGE', 'ZN'],\n",
    "                                               y_col = 'Price',\n",
    "                                               iteration_name = 'i300')"
   ]
  },
  {
   "cell_type": "markdown",
   "metadata": {},
   "source": [
    "#### Training Set: Compare to Previous Iteration & Make Decision"
   ]
  },
  {
   "cell_type": "code",
   "execution_count": 20,
   "metadata": {},
   "outputs": [
    {
     "data": {
      "image/png": "[encoded data removed]",
      "text/plain": [
       "<Figure size 432x288 with 1 Axes>"
      ]
     },
     "metadata": {
      "needs_background": "light"
     },
     "output_type": "display_data"
    }
   ],
   "source": [
    "compare_i300_df = compare_train_iterations(train_results_i200, train_results_i300)"
   ]
  },
  {
   "cell_type": "markdown",
   "metadata": {},
   "source": [
    "#### Test Set: Check Generalization"
   ]
  },
  {
   "cell_type": "code",
   "execution_count": 21,
   "metadata": {},
   "outputs": [],
   "source": [
    "test_results_i300 = fit_regression_test_eval(train_dframe = train_df,\n",
    "                                             test_dframe = test_df,\n",
    "                                             x_cols = ['RM', 'CRIM', 'AGE', 'ZN'],\n",
    "                                             y_col = 'Price',\n",
    "                                             iteration_name = 'i300')\n",
    "\n",
    "test_results_list.append(test_results_i300)"
   ]
  },
  {
   "cell_type": "code",
   "execution_count": 22,
   "metadata": {},
   "outputs": [
    {
     "data": {
      "text/html": [
       "<script>\n",
       "code_show=true; \n",
       "function code_toggle() {\n",
       "    if (code_show){\n",
       "        $('div.cell.code_cell.rendered.selected div.input').hide();\n",
       "    } else {\n",
       "        $('div.cell.code_cell.rendered.selected div.input').show();\n",
       "    }\n",
       "    code_show = !code_show\n",
       "} \n",
       "$( document ).ready(code_toggle);\n",
       "</script>\n",
       "To show/hide this cell's raw code input, click <a href=\"javascript:code_toggle()\">here</a>."
      ],
      "text/plain": [
       "<IPython.core.display.HTML object>"
      ]
     },
     "metadata": {},
     "output_type": "display_data"
    },
    {
     "data": {
      "image/png": "[encoded data removed]",
      "text/plain": [
       "<Figure size 432x288 with 1 Axes>"
      ]
     },
     "metadata": {
      "needs_background": "light"
     },
     "output_type": "display_data"
    }
   ],
   "source": [
    "test_results_df = merge_list_of_dframes(test_results_list)\n",
    "test_results_df = test_results_df.melt('K_Fold_Holdout', var_name='Iteration', value_name='RMSE')\n",
    "test_results_df['Iteration_Name'] = [s.split('_')[1] for s in test_results_df['Iteration']]\n",
    "baseline_rmse = test_results_df[test_results_df.Iteration == 'RMSE_Baseline']['RMSE']\n",
    "test_results_df['Change_Vs_Baseline'] = [x - baseline_rmse for x in test_results_df['RMSE']]\n",
    "test_results_df['Percent_Change_Vs_Baseline'] = [x / baseline_rmse for x in test_results_df['Change_Vs_Baseline']]\n",
    "g = sns.barplot(x=\"K_Fold_Holdout\", y=\"Percent_Change_Vs_Baseline\", hue='Iteration_Name', data = test_results_df)\n",
    "g.set(title = 'Test Set: % Change in RMSE vs. Baseline')\n",
    "plt.legend(bbox_to_anchor=(1.05, 1), loc=2, borderaxespad=0.)\n",
    "display(tag)"
   ]
  },
  {
   "cell_type": "markdown",
   "metadata": {},
   "source": [
    "## <font color='red'>Note!!!</font>\n",
    "### If you would have made a decision based on the test set, you would have made the model more complex without any added performance..."
   ]
  },
  {
   "cell_type": "code",
   "execution_count": null,
   "metadata": {},
   "outputs": [],
   "source": []
  }
 ],
 "metadata": {
  "@webio": {
   "lastCommId": null,
   "lastKernelId": null
  },
  "kernelspec": {
   "display_name": "Python 3",
   "language": "python",
   "name": "python3"
  },
  "language_info": {
   "codemirror_mode": {
    "name": "ipython",
    "version": 3
   },
   "file_extension": ".py",
   "mimetype": "text/x-python",
   "name": "python",
   "nbconvert_exporter": "python",
   "pygments_lexer": "ipython3",
   "version": "3.7.3"
  }
 },
 "nbformat": 4,
 "nbformat_minor": 2
}
