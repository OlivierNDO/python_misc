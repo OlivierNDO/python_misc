{
 "cells": [
  {
   "cell_type": "markdown",
   "id": "mediterranean-annotation",
   "metadata": {},
   "source": [
    "## Bayes Theorem - Conditional Probability"
   ]
  },
  {
   "cell_type": "code",
   "execution_count": 1,
   "id": "rocky-mention",
   "metadata": {},
   "outputs": [],
   "source": [
    "from IPython.display import Image\n",
    "from IPython.core.display import HTML\n",
    "import pandas as pd"
   ]
  },
  {
   "cell_type": "code",
   "execution_count": 2,
   "id": "advised-scientist",
   "metadata": {},
   "outputs": [
    {
     "data": {
      "text/html": [
       "<img src=\"https://cdn.educba.com/academy/wp-content/uploads/2019/10/bayes-theorem-in-c.png\"/>"
      ],
      "text/plain": [
       "<IPython.core.display.Image object>"
      ]
     },
     "execution_count": 2,
     "metadata": {},
     "output_type": "execute_result"
    }
   ],
   "source": [
    "Image(url= \"https://cdn.educba.com/academy/wp-content/uploads/2019/10/bayes-theorem-in-c.png\")"
   ]
  },
  {
   "cell_type": "markdown",
   "id": "athletic-arena",
   "metadata": {},
   "source": [
    "### Example 1:"
   ]
  },
  {
   "cell_type": "markdown",
   "id": "spanish-particular",
   "metadata": {},
   "source": [
    "Example: You are a data scientist in a company and you have to asses that - of the Span Detector created by your team. If\n",
    "the spam detector puts a mail it in the spam folder what is the probability that it was actually a spam? The following details\n",
    "are given to you:\n",
    "    \n",
    "> 3% of the mail you receive is spam\n",
    "\n",
    "> When a mail is spam, the spam detector detects it with the 99% accuracy\n",
    "\n",
    "> 0.2% of the time when the mail is not spam, it will mark it as spam"
   ]
  },
  {
   "cell_type": "code",
   "execution_count": 3,
   "id": "accessory-samba",
   "metadata": {},
   "outputs": [],
   "source": [
    "# prob_a : spam 3%\n",
    "# prob_b : detection given spam is true 99%\n",
    "# prob_b | (1 - prob_a) : probability of detection when not spam\n",
    "\n",
    "def bayes_conditional_probability(prob_a, prob_b, prob_b_a):\n",
    "    \"\"\"\n",
    "    Calculate conditional probability of \"A\" being true\n",
    "    given that \"B\" is true\n",
    "    \"\"\"\n",
    "    prob_AB = prob_a * prob_b\n",
    "    prob_notA = (1 - prob_a)\n",
    "    return prob_AB / (prob_AB + prob_b_a * prob_notA)"
   ]
  },
  {
   "cell_type": "code",
   "execution_count": 4,
   "id": "systematic-feelings",
   "metadata": {},
   "outputs": [
    {
     "data": {
      "text/plain": [
       "0.9386852085967131"
      ]
     },
     "execution_count": 4,
     "metadata": {},
     "output_type": "execute_result"
    }
   ],
   "source": [
    "bayes_conditional_probability(prob_a = 0.03, prob_b = 0.99, prob_b_a = 0.002)"
   ]
  },
  {
   "cell_type": "markdown",
   "id": "experienced-marks",
   "metadata": {},
   "source": [
    "### Example 2:"
   ]
  },
  {
   "cell_type": "markdown",
   "id": "stuck-supplement",
   "metadata": {},
   "source": [
    "Example: You are planning a wedding, and two invited guests have dependent probabilities of attending.\n",
    "    \n",
    "> Tom has a 60% chance of accepting the invitation (A)\n",
    "\n",
    "> If Tom accepts, your other friend Barry is 90% likely to attend. (B when A is true)\n",
    "\n",
    "> If Tom  declines, Barry has a 40% chance of attending. (B when A is not true)\n",
    "\n",
    "If Barry attends, what is the likelihood that Tom is also in attendance?"
   ]
  },
  {
   "cell_type": "markdown",
   "id": "current-exposure",
   "metadata": {},
   "source": [
    "##### Using the function"
   ]
  },
  {
   "cell_type": "code",
   "execution_count": 5,
   "id": "considered-wildlife",
   "metadata": {},
   "outputs": [
    {
     "data": {
      "text/plain": [
       "0.7714285714285714"
      ]
     },
     "execution_count": 5,
     "metadata": {},
     "output_type": "execute_result"
    }
   ],
   "source": [
    "bayes_conditional_probability(prob_a = 0.6, prob_b = 0.9, prob_b_a = 0.4)"
   ]
  },
  {
   "cell_type": "markdown",
   "id": "naval-diabetes",
   "metadata": {},
   "source": [
    "##### Talking through the logic manually"
   ]
  },
  {
   "cell_type": "code",
   "execution_count": 6,
   "id": "appointed-samba",
   "metadata": {},
   "outputs": [],
   "source": [
    "# Tom Yes 60%\n",
    "\n",
    "# Tom Yes 60 ; Barry (yes 54, no 6)\n",
    "# Tom No 40 ; Barry (yes 16, no 24)\n",
    "\n",
    "# Barry Yes, Tom No\n",
    "# Barry Yes, Tom Yes\n",
    "# Barry No, Tom No\n",
    "# Barry No, Tom Yes"
   ]
  },
  {
   "cell_type": "code",
   "execution_count": 7,
   "id": "julian-faith",
   "metadata": {},
   "outputs": [
    {
     "data": {
      "text/plain": [
       "0.7714285714285715"
      ]
     },
     "execution_count": 7,
     "metadata": {},
     "output_type": "execute_result"
    }
   ],
   "source": [
    "(54 / 70)"
   ]
  },
  {
   "cell_type": "markdown",
   "id": "differential-guest",
   "metadata": {},
   "source": [
    "##### Simulation"
   ]
  },
  {
   "cell_type": "code",
   "execution_count": 8,
   "id": "received-pipeline",
   "metadata": {},
   "outputs": [],
   "source": [
    "def wedding_simulator(n = 1000, tom_accept = 0.6, barry_accept_tom_accept = 0.9, barry_accept_tom_decline = 0.4):\n",
    "    # When Tom attends\n",
    "    tom_yes = ['Yes'] * int(n * tom_accept)\n",
    "    tom_no = ['No'] * int(n - len(tom_yes))\n",
    "    \n",
    "    barry_yes_tom_no = int(len(tom_no) * barry_accept_tom_decline) * ['Yes']\n",
    "    barry_no_tom_no = int(len(tom_no) - len(barry_yes_tom_no)) * ['No']\n",
    "\n",
    "    barry_yes_tom_yes = int(len(tom_yes) * barry_accept_tom_decline) * ['Yes']\n",
    "    barry_no_tom_yes = int(len(tom_yes) - len(barry_yes_tom_yes)) * ['No']\n",
    "    \n",
    "    \n",
    "    \n",
    "    # All Outcomes\n",
    "    tom = tom_yes + tom_no\n",
    "    barry = barry_yes_tom_yes + barry_no_tom_yes + barry_yes_tom_no + barry_no_tom_no\n",
    "    \n",
    "    # Counts\n",
    "    tom_barry_df = pd.DataFrame({'Tom' : tom, 'Barry' : barry})\n",
    "    \n",
    "    return tom_barry_df.pivot_table(index='Tom', columns = 'Barry', aggfunc='size')"
   ]
  },
  {
   "cell_type": "code",
   "execution_count": 9,
   "id": "proprietary-foster",
   "metadata": {},
   "outputs": [
    {
     "data": {
      "text/html": [
       "<div>\n",
       "<style scoped>\n",
       "    .dataframe tbody tr th:only-of-type {\n",
       "        vertical-align: middle;\n",
       "    }\n",
       "\n",
       "    .dataframe tbody tr th {\n",
       "        vertical-align: top;\n",
       "    }\n",
       "\n",
       "    .dataframe thead th {\n",
       "        text-align: right;\n",
       "    }\n",
       "</style>\n",
       "<table border=\"1\" class=\"dataframe\">\n",
       "  <thead>\n",
       "    <tr style=\"text-align: right;\">\n",
       "      <th>Barry</th>\n",
       "      <th>No</th>\n",
       "      <th>Yes</th>\n",
       "    </tr>\n",
       "    <tr>\n",
       "      <th>Tom</th>\n",
       "      <th></th>\n",
       "      <th></th>\n",
       "    </tr>\n",
       "  </thead>\n",
       "  <tbody>\n",
       "    <tr>\n",
       "      <th>No</th>\n",
       "      <td>24</td>\n",
       "      <td>16</td>\n",
       "    </tr>\n",
       "    <tr>\n",
       "      <th>Yes</th>\n",
       "      <td>36</td>\n",
       "      <td>24</td>\n",
       "    </tr>\n",
       "  </tbody>\n",
       "</table>\n",
       "</div>"
      ],
      "text/plain": [
       "Barry  No  Yes\n",
       "Tom           \n",
       "No     24   16\n",
       "Yes    36   24"
      ]
     },
     "execution_count": 9,
     "metadata": {},
     "output_type": "execute_result"
    }
   ],
   "source": [
    "wedding_simulator(n = 100)"
   ]
  },
  {
   "cell_type": "code",
   "execution_count": 10,
   "id": "handed-extra",
   "metadata": {},
   "outputs": [
    {
     "data": {
      "text/html": [
       "<div>\n",
       "<style scoped>\n",
       "    .dataframe tbody tr th:only-of-type {\n",
       "        vertical-align: middle;\n",
       "    }\n",
       "\n",
       "    .dataframe tbody tr th {\n",
       "        vertical-align: top;\n",
       "    }\n",
       "\n",
       "    .dataframe thead th {\n",
       "        text-align: right;\n",
       "    }\n",
       "</style>\n",
       "<table border=\"1\" class=\"dataframe\">\n",
       "  <thead>\n",
       "    <tr style=\"text-align: right;\">\n",
       "      <th>Barry</th>\n",
       "      <th>No</th>\n",
       "      <th>Yes</th>\n",
       "    </tr>\n",
       "    <tr>\n",
       "      <th>Tom</th>\n",
       "      <th></th>\n",
       "      <th></th>\n",
       "    </tr>\n",
       "  </thead>\n",
       "  <tbody>\n",
       "    <tr>\n",
       "      <th>No</th>\n",
       "      <td>240</td>\n",
       "      <td>160</td>\n",
       "    </tr>\n",
       "    <tr>\n",
       "      <th>Yes</th>\n",
       "      <td>360</td>\n",
       "      <td>240</td>\n",
       "    </tr>\n",
       "  </tbody>\n",
       "</table>\n",
       "</div>"
      ],
      "text/plain": [
       "Barry   No  Yes\n",
       "Tom            \n",
       "No     240  160\n",
       "Yes    360  240"
      ]
     },
     "execution_count": 10,
     "metadata": {},
     "output_type": "execute_result"
    }
   ],
   "source": [
    "wedding_simulator(n = 1000)"
   ]
  },
  {
   "cell_type": "code",
   "execution_count": null,
   "id": "fixed-jewelry",
   "metadata": {},
   "outputs": [],
   "source": []
  },
  {
   "cell_type": "markdown",
   "id": "acquired-length",
   "metadata": {},
   "source": [
    "### Example 3:"
   ]
  },
  {
   "cell_type": "markdown",
   "id": "derived-season",
   "metadata": {},
   "source": [
    "If you flip a coin 10 times, what is the combined probability of the following outcomes (i.e. at least one of these events occurs in a set of 10 flips):\n",
    "\n",
    "    > All flips are heads (no tails)\n",
    "\n",
    "    > Flips 1, 2, and 3 are tails\n",
    "\n",
    "    > At least 7 flips are tails"
   ]
  },
  {
   "cell_type": "code",
   "execution_count": 11,
   "id": "violent-birmingham",
   "metadata": {},
   "outputs": [],
   "source": [
    "import random\n",
    "import tqdm\n",
    "\n",
    "def coin_toss():\n",
    "    \"\"\"\n",
    "    Returns either 'head' or 'tail'\n",
    "    \"\"\"\n",
    "    outcomes = ['head', 'tail']\n",
    "    return random.choice(outcomes)\n",
    "\n",
    "\n",
    "def multiple_coin_tosses(n = 10):\n",
    "    \"\"\"\n",
    "    Returns a list of 'head' and/or 'tail' strings of n length\n",
    "    \"\"\"\n",
    "    tosses = []\n",
    "    for x in range(n):\n",
    "        tosses.append(coin_toss())\n",
    "    return tosses\n",
    "\n",
    "\n",
    "def all_heads(coin_toss_list):\n",
    "    \"\"\"\n",
    "    Every string in list is equal to 'heads' (returns True or False)\n",
    "    \"\"\"\n",
    "    return len([x for x in coin_toss_list if x == 'head']) == len(coin_toss_list)\n",
    "\n",
    "\n",
    "def tails_123(coin_toss_list):\n",
    "    \"\"\"\n",
    "    The *first* three strings in a list are equal to tails (returns True or False)\n",
    "    \"\"\"\n",
    "    return coin_toss_list[:3] == ['tail', 'tail', 'tail']\n",
    "\n",
    "\n",
    "def tails_7_plus(coin_toss_list):\n",
    "    \"\"\"\n",
    "    At least 7 strings in a list are equal to 'tails'\n",
    "    \"\"\"\n",
    "    return len([x for x in coin_toss_list if x == 'tail']) >= 7\n",
    "\n",
    "\n",
    "def multiple_coin_toss_simulation(n_simulations = 10000, toss_per_simulation = 10):\n",
    "    all_heads_list = []\n",
    "    tails_123_list = []\n",
    "    tails_7_plus_list = []\n",
    "    \n",
    "    for i in range(n_simulations):\n",
    "        coin_toss_list = multiple_coin_tosses(n = toss_per_simulation)\n",
    "        all_heads_list.append(all_heads(coin_toss_list))\n",
    "        tails_123_list.append(tails_123(coin_toss_list))\n",
    "        tails_7_plus_list.append(tails_7_plus(coin_toss_list))\n",
    "        \n",
    "    \n",
    "    # Counts\n",
    "    outcome_df = pd.DataFrame({'All Heads' : all_heads_list,\n",
    "                               'Tails 1, 2, 3' : tails_123_list,\n",
    "                               '7+ Tails' : tails_7_plus_list})\n",
    "    outcome_df['count'] = 1\n",
    "    \n",
    "    outcome_df = outcome_df.\\\n",
    "    groupby(['All Heads', 'Tails 1, 2, 3', '7+ Tails'], as_index = False).\\\n",
    "    agg({'count' : 'sum'})\n",
    "    \n",
    "    outcome_df['percentage'] = outcome_df['count'] / n_simulations\n",
    "    \n",
    "    return outcome_df"
   ]
  },
  {
   "cell_type": "code",
   "execution_count": 12,
   "id": "processed-funeral",
   "metadata": {},
   "outputs": [
    {
     "data": {
      "text/html": [
       "<div>\n",
       "<style scoped>\n",
       "    .dataframe tbody tr th:only-of-type {\n",
       "        vertical-align: middle;\n",
       "    }\n",
       "\n",
       "    .dataframe tbody tr th {\n",
       "        vertical-align: top;\n",
       "    }\n",
       "\n",
       "    .dataframe thead th {\n",
       "        text-align: right;\n",
       "    }\n",
       "</style>\n",
       "<table border=\"1\" class=\"dataframe\">\n",
       "  <thead>\n",
       "    <tr style=\"text-align: right;\">\n",
       "      <th></th>\n",
       "      <th>All Heads</th>\n",
       "      <th>Tails 1, 2, 3</th>\n",
       "      <th>7+ Tails</th>\n",
       "      <th>count</th>\n",
       "      <th>percentage</th>\n",
       "    </tr>\n",
       "  </thead>\n",
       "  <tbody>\n",
       "    <tr>\n",
       "      <th>0</th>\n",
       "      <td>False</td>\n",
       "      <td>False</td>\n",
       "      <td>False</td>\n",
       "      <td>7613</td>\n",
       "      <td>0.7613</td>\n",
       "    </tr>\n",
       "    <tr>\n",
       "      <th>1</th>\n",
       "      <td>False</td>\n",
       "      <td>False</td>\n",
       "      <td>True</td>\n",
       "      <td>1134</td>\n",
       "      <td>0.1134</td>\n",
       "    </tr>\n",
       "    <tr>\n",
       "      <th>2</th>\n",
       "      <td>False</td>\n",
       "      <td>True</td>\n",
       "      <td>False</td>\n",
       "      <td>652</td>\n",
       "      <td>0.0652</td>\n",
       "    </tr>\n",
       "    <tr>\n",
       "      <th>3</th>\n",
       "      <td>False</td>\n",
       "      <td>True</td>\n",
       "      <td>True</td>\n",
       "      <td>590</td>\n",
       "      <td>0.0590</td>\n",
       "    </tr>\n",
       "    <tr>\n",
       "      <th>4</th>\n",
       "      <td>True</td>\n",
       "      <td>False</td>\n",
       "      <td>False</td>\n",
       "      <td>11</td>\n",
       "      <td>0.0011</td>\n",
       "    </tr>\n",
       "  </tbody>\n",
       "</table>\n",
       "</div>"
      ],
      "text/plain": [
       "   All Heads  Tails 1, 2, 3  7+ Tails  count  percentage\n",
       "0      False          False     False   7613      0.7613\n",
       "1      False          False      True   1134      0.1134\n",
       "2      False           True     False    652      0.0652\n",
       "3      False           True      True    590      0.0590\n",
       "4       True          False     False     11      0.0011"
      ]
     },
     "execution_count": 12,
     "metadata": {},
     "output_type": "execute_result"
    }
   ],
   "source": [
    "multiple_coin_toss_simulation()"
   ]
  },
  {
   "cell_type": "markdown",
   "id": "numerous-nightmare",
   "metadata": {},
   "source": [
    "### Let's repeat the simulation and get a distribution for % where at least one condition is met\n",
    "#### (i.e. all except first row - false, false, false)"
   ]
  },
  {
   "cell_type": "code",
   "execution_count": 13,
   "id": "specified-makeup",
   "metadata": {},
   "outputs": [],
   "source": [
    "n_repeats = 2000\n",
    "\n",
    "one_plus_conditions = []\n",
    "\n",
    "for x in range(n_repeats):\n",
    "    output = multiple_coin_toss_simulation()\n",
    "    all_false = output[(output['All Heads'] == False) & (output['Tails 1, 2, 3'] == False) & (output['7+ Tails'] == False)]\n",
    "    one_plus_conditions.append(1 - float(all_false['percentage'][0]))"
   ]
  },
  {
   "cell_type": "code",
   "execution_count": 15,
   "id": "legendary-marking",
   "metadata": {},
   "outputs": [
    {
     "data": {
      "image/png": "[encoded data removed]",
      "text/plain": [
       "<Figure size 432x288 with 1 Axes>"
      ]
     },
     "metadata": {
      "needs_background": "light"
     },
     "output_type": "display_data"
    }
   ],
   "source": [
    "import numpy as np\n",
    "import matplotlib.pyplot as plt\n",
    "simulation_avg = np.mean(one_plus_conditions)\n",
    "\n",
    "plt.hist(one_plus_conditions, bins = 40, alpha = 0.5)\n",
    "plt.title(f'Average of Simulations: {round(simulation_avg * 100, 2)}%')\n",
    "plt.show()"
   ]
  }
 ],
 "metadata": {
  "@webio": {
   "lastCommId": null,
   "lastKernelId": null
  },
  "kernelspec": {
   "display_name": "gpu_env_102",
   "language": "python",
   "name": "gpu_env_102"
  },
  "language_info": {
   "codemirror_mode": {
    "name": "ipython",
    "version": 3
   },
   "file_extension": ".py",
   "mimetype": "text/x-python",
   "name": "python",
   "nbconvert_exporter": "python",
   "pygments_lexer": "ipython3",
   "version": "3.7.3"
  }
 },
 "nbformat": 4,
 "nbformat_minor": 5
}
