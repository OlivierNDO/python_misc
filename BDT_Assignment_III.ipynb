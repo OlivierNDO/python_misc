{
 "cells": [
  {
   "cell_type": "markdown",
   "metadata": {},
   "source": [
    "## Big Data Technology\n",
    "## Assignment III\n",
    "## Nick Olivier (qdj592)\n",
    "## 10/16/2018"
   ]
  },
  {
   "cell_type": "markdown",
   "metadata": {},
   "source": [
    "### Packages"
   ]
  },
  {
   "cell_type": "code",
   "execution_count": 1,
   "metadata": {
    "collapsed": true
   },
   "outputs": [],
   "source": [
    "import numpy as np, pandas as pd, bs4 as bs, matplotlib.pyplot as plt, seaborn as sns\n",
    "import nltk, urllib.parse, urllib.request, string\n",
    "from nltk.corpus import stopwords\n",
    "from urllib.error import URLError\n",
    "from bs4 import BeautifulSoup\n",
    "from selenium import webdriver\n",
    "import time, re, string\n",
    "from time import sleep\n",
    "from scipy import spatial\n",
    "from sklearn.feature_extraction.text import CountVectorizer\n",
    "from sklearn.feature_extraction.text import TfidfVectorizer\n",
    "from sklearn.metrics.pairwise import pairwise_distances"
   ]
  },
  {
   "cell_type": "markdown",
   "metadata": {},
   "source": [
    "### User Input"
   ]
  },
  {
   "cell_type": "code",
   "execution_count": 2,
   "metadata": {
    "collapsed": true
   },
   "outputs": [],
   "source": [
    "url_list = ['https://en.wikipedia.org/wiki/World_War_II',\n",
    "            'https://en.wikipedia.org/wiki/World_War_I',\n",
    "            'https://en.wikipedia.org/wiki/War_of_1812',\n",
    "            'https://en.wikipedia.org/wiki/Basketball',\n",
    "            'https://en.wikipedia.org/wiki/Association_football']\n",
    "\n",
    "xpath_list = ['//p', '//p', '//p', '//p', '//p']\n",
    "\n",
    "file_name_list = ['WWII', 'WWI', 'War of\\n1812', 'Basketball', 'Assoc.\\nFootball']\n",
    "\n",
    "ph_path = 'C:/tmp/phantomjs.exe'"
   ]
  },
  {
   "cell_type": "markdown",
   "metadata": {},
   "source": [
    "### Define Functions"
   ]
  },
  {
   "cell_type": "code",
   "execution_count": 3,
   "metadata": {
    "collapsed": true
   },
   "outputs": [],
   "source": [
    "def punc_repl(s):\n",
    "    for c in string.punctuation:\n",
    "        s=s.replace(c,\"\")\n",
    "    return s\n",
    "\n",
    "def semi_rand_intervals(max_time, n_nums):\n",
    "    return np.random.choice(np.linspace(0, max_time, 1000), n_nums)\n",
    "\n",
    "def phantom_scrape(phan_path, web_url, x_path):\n",
    "    # Driver\n",
    "    driver = webdriver.PhantomJS(executable_path = phan_path)\n",
    "    driver.get(web_url)\n",
    "    # Random Sleep Intervals\n",
    "    time.sleep(semi_rand_intervals(2,1))\n",
    "    tmp_list = []\n",
    "    for i in driver.find_elements_by_xpath(x_path):\n",
    "        tmp_list.append(i.text)\n",
    "        time.sleep(semi_rand_intervals(.35,1))\n",
    "    return tmp_list\n",
    "\n",
    "def scrape_clean_tokenize(phan_path, web_url, x_path, file_nm):\n",
    "    stops = set(stopwords.words(\"english\"))\n",
    "    tmp = phantom_scrape(phan_path, web_url, x_path)\n",
    "    raw_txt = max(tmp, key=len)\n",
    "    bt_txt = BeautifulSoup(raw_txt, \"lxml\").get_text()\n",
    "    cl_txt = re.sub('\\d', ' ', punc_repl(bt_txt))\n",
    "    wd_lst = nltk.word_tokenize(cl_txt)\n",
    "    lower_wd_lst = [s.lower() for s in wd_lst]\n",
    "    filt_wd_lst = [w for w in lower_wd_lst if w not in stops]\n",
    "    output_df = pd.DataFrame({'file': file_nm,\n",
    "                              'word': filt_wd_lst})\n",
    "    return output_df\n",
    "\n",
    "def scrape_clean_tokenize_mult(phan_path, web_url_lst, x_path_lst, file_nm_lst):\n",
    "    pl_holder = []\n",
    "    for i, x in enumerate(web_url_lst):\n",
    "        tmp = scrape_clean_tokenize(phan_path,\n",
    "                                    web_url_lst[i],\n",
    "                                    x_path_lst[i],\n",
    "                                    file_nm_lst[i])\n",
    "        pl_holder.append(tmp)\n",
    "    output_df = pd.concat(pl_holder, axis = 0, ignore_index = True)\n",
    "    return output_df\n",
    "        \n",
    "def token_df_to_cos_matrix(token_df, top_n_words = 20):\n",
    "    uniq_files = [uf for uf in set(token_df['file'])]\n",
    "    uniq_words = [uw for uw in set(token_df['word'])]\n",
    "    word_counts = []\n",
    "    for uw in uniq_words:\n",
    "        word_counts.append(len([w for w in token_df['word'] if w == uw]))\n",
    "    word_count_df = pd.DataFrame({'word': uniq_words,\n",
    "                                  'word_count': word_counts}).\\\n",
    "    sort_values('word_count', ascending=False).\\\n",
    "    head(top_n_words)\n",
    "    top_uniq_words = [w for w in word_count_df['word']]\n",
    "    outer_plholder = []\n",
    "    for file in uniq_files:\n",
    "        inner_plholder = []\n",
    "        for word in top_uniq_words:\n",
    "            wlist = [w for w in token_df[token_df.file == file]['word']]\n",
    "            inner_plholder.append(wlist.count(word))\n",
    "        outer_plholder.append(inner_plholder)\n",
    "    cos_matrix = 1-pairwise_distances(outer_plholder, metric='cosine')\n",
    "    return cos_matrix\n",
    "\n",
    "def plt_cos_matrix(cos_matrix, names, plt_title):\n",
    "    fig = plt.figure(figsize = (12,6))\n",
    "    ax = fig.add_subplot(111)\n",
    "    cax = ax.matshow(cos_matrix, vmin=0, vmax=1)\n",
    "    fig.colorbar(cax)\n",
    "    ax.set_xticks(np.arange(len(names)))\n",
    "    ax.set_xticklabels(names)\n",
    "    ax.set_yticks(np.arange(len(names)))\n",
    "    ax.set_yticklabels(names)\n",
    "    plt.title(plt_title, y=1.1)\n",
    "    plt.show()"
   ]
  },
  {
   "cell_type": "markdown",
   "metadata": {},
   "source": [
    "### Execute Functions"
   ]
  },
  {
   "cell_type": "code",
   "execution_count": 5,
   "metadata": {},
   "outputs": [
    {
     "name": "stderr",
     "output_type": "stream",
     "text": [
      "C:\\Users\\user\\Anaconda3\\envs\\febenv\\lib\\site-packages\\selenium\\webdriver\\phantomjs\\webdriver.py:49: UserWarning: Selenium support for PhantomJS has been deprecated, please use headless versions of Chrome or Firefox instead\n",
      "  warnings.warn('Selenium support for PhantomJS has been deprecated, please use headless '\n"
     ]
    },
    {
     "data": {
      "image/png": "[encoded data removed]",
      "text/plain": [
       "<matplotlib.figure.Figure at 0x2d544cc76a0>"
      ]
     },
     "metadata": {},
     "output_type": "display_data"
    }
   ],
   "source": [
    "tokens = scrape_clean_tokenize_mult(ph_path, url_list, xpath_list, file_name_list)\n",
    "cos_matrix = token_df_to_cos_matrix(tokens, top_n_words = 5000)\n",
    "plt_cos_matrix(cos_matrix, file_name_list, 'Wikipedia Article Cosine Similarity')"
   ]
  }
 ],
 "metadata": {
  "kernelspec": {
   "display_name": "Python 3",
   "language": "python",
   "name": "python3"
  },
  "language_info": {
   "codemirror_mode": {
    "name": "ipython",
    "version": 3
   },
   "file_extension": ".py",
   "mimetype": "text/x-python",
   "name": "python",
   "nbconvert_exporter": "python",
   "pygments_lexer": "ipython3",
   "version": "3.6.3"
  }
 },
 "nbformat": 4,
 "nbformat_minor": 2
}
