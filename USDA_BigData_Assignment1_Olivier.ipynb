{
 "cells": [
  {
   "cell_type": "markdown",
   "metadata": {},
   "source": [
    "### Assignment 1\n",
    "#### Nick Olivier\n",
    "#### 09/04/18"
   ]
  },
  {
   "cell_type": "code",
   "execution_count": 65,
   "metadata": {
    "collapsed": true
   },
   "outputs": [],
   "source": [
    "# Packages\n",
    "#######################################################################\n",
    "import numpy as np, pandas as pd, seaborn as sns, matplotlib.pyplot as plt"
   ]
  },
  {
   "cell_type": "code",
   "execution_count": 66,
   "metadata": {},
   "outputs": [],
   "source": [
    "# Define Functions\n",
    "#######################################################################\n",
    "def missing_by_col(pd_df, missing_vals = ['na', 'NA', 'null', 'NULL']):\n",
    "    df_copy = pd_df\n",
    "    colname_list = []\n",
    "    missing_list = []\n",
    "    not_missing_list = []\n",
    "    for col in df_copy.columns:\n",
    "        col_as_list = [x for x in df_copy[col]]\n",
    "        num_nan = sum(pd.isnull(df_copy[col]))\n",
    "        num_other_missing = len([y for y in col_as_list if y in missing_vals])\n",
    "        colname_list.append(col)\n",
    "        missing_list.append((num_nan + num_other_missing))\n",
    "        not_missing_list.append((len(df_copy[col])) - (num_nan + num_other_missing))\n",
    "    output = pd.DataFrame({'Field': colname_list,\n",
    "                           'Missing_True': missing_list,\n",
    "                           'Missing_False': not_missing_list})\n",
    "    return output\n",
    "\n",
    "def convert_floats_ints(pd_df, float_list, int_list):\n",
    "    df_copy = pd_df\n",
    "    df_copy[float_list] = df_copy[float_list].astype(float)\n",
    "    df_copy[int_list] = df_copy[int_list].astype(int)\n",
    "    return df_copy"
   ]
  },
  {
   "cell_type": "markdown",
   "metadata": {},
   "source": [
    "### Assignment 1 Description\n",
    "#### Step 1: Pick a data set from https://people.sc.fsu.edu/~jburkardt/data/csv/csv.html and load the zillow.csv into a dataframe"
   ]
  },
  {
   "cell_type": "code",
   "execution_count": null,
   "metadata": {
    "collapsed": true
   },
   "outputs": [],
   "source": [
    "# Read Zillow File & Look at First Few Rows\n",
    "#######################################################################\n",
    "df = pd.read_csv('https://people.sc.fsu.edu/~jburkardt/data/csv/zillow.csv')\n",
    "df.columns = ['Index', 'Living Space (sq ft)', 'Beds', 'Baths', 'Zip', 'Year', 'List Price ($)']\n",
    "df.head(5)"
   ]
  },
  {
   "cell_type": "markdown",
   "metadata": {},
   "source": [
    "#### Step 2: Clean dataframe by replacing missing data\n",
    "##### Print the count missing value in each column (# of True vs # of False)\n",
    "##### Convert all non categorical data to type int or float"
   ]
  },
  {
   "cell_type": "code",
   "execution_count": 27,
   "metadata": {},
   "outputs": [
    {
     "data": {
      "text/html": [
       "<div>\n",
       "<style>\n",
       "    .dataframe thead tr:only-child th {\n",
       "        text-align: right;\n",
       "    }\n",
       "\n",
       "    .dataframe thead th {\n",
       "        text-align: left;\n",
       "    }\n",
       "\n",
       "    .dataframe tbody tr th {\n",
       "        vertical-align: top;\n",
       "    }\n",
       "</style>\n",
       "<table border=\"1\" class=\"dataframe\">\n",
       "  <thead>\n",
       "    <tr style=\"text-align: right;\">\n",
       "      <th></th>\n",
       "      <th>Field</th>\n",
       "      <th>Missing_False</th>\n",
       "      <th>Missing_True</th>\n",
       "    </tr>\n",
       "  </thead>\n",
       "  <tbody>\n",
       "    <tr>\n",
       "      <th>0</th>\n",
       "      <td>Index</td>\n",
       "      <td>20</td>\n",
       "      <td>0</td>\n",
       "    </tr>\n",
       "    <tr>\n",
       "      <th>1</th>\n",
       "      <td>Living Space (sq ft)</td>\n",
       "      <td>20</td>\n",
       "      <td>0</td>\n",
       "    </tr>\n",
       "    <tr>\n",
       "      <th>2</th>\n",
       "      <td>Beds</td>\n",
       "      <td>20</td>\n",
       "      <td>0</td>\n",
       "    </tr>\n",
       "    <tr>\n",
       "      <th>3</th>\n",
       "      <td>Baths</td>\n",
       "      <td>20</td>\n",
       "      <td>0</td>\n",
       "    </tr>\n",
       "    <tr>\n",
       "      <th>4</th>\n",
       "      <td>Zip</td>\n",
       "      <td>20</td>\n",
       "      <td>0</td>\n",
       "    </tr>\n",
       "    <tr>\n",
       "      <th>5</th>\n",
       "      <td>Year</td>\n",
       "      <td>20</td>\n",
       "      <td>0</td>\n",
       "    </tr>\n",
       "    <tr>\n",
       "      <th>6</th>\n",
       "      <td>List Price ($)</td>\n",
       "      <td>20</td>\n",
       "      <td>0</td>\n",
       "    </tr>\n",
       "  </tbody>\n",
       "</table>\n",
       "</div>"
      ],
      "text/plain": [
       "                  Field  Missing_False  Missing_True\n",
       "0                 Index             20             0\n",
       "1  Living Space (sq ft)             20             0\n",
       "2                  Beds             20             0\n",
       "3                 Baths             20             0\n",
       "4                   Zip             20             0\n",
       "5                  Year             20             0\n",
       "6        List Price ($)             20             0"
      ]
     },
     "execution_count": 27,
     "metadata": {},
     "output_type": "execute_result"
    }
   ],
   "source": [
    "missing_by_col(df)"
   ]
  },
  {
   "cell_type": "code",
   "execution_count": 30,
   "metadata": {},
   "outputs": [],
   "source": [
    "df = convert_floats_ints(df, ['Beds'], [c for c in df.columns if c != 'Beds'])"
   ]
  },
  {
   "cell_type": "markdown",
   "metadata": {},
   "source": [
    "#### Step 3: Find the correlation of all columns that have type int or float"
   ]
  },
  {
   "cell_type": "code",
   "execution_count": 32,
   "metadata": {},
   "outputs": [
    {
     "data": {
      "text/html": [
       "<div>\n",
       "<style>\n",
       "    .dataframe thead tr:only-child th {\n",
       "        text-align: right;\n",
       "    }\n",
       "\n",
       "    .dataframe thead th {\n",
       "        text-align: left;\n",
       "    }\n",
       "\n",
       "    .dataframe tbody tr th {\n",
       "        vertical-align: top;\n",
       "    }\n",
       "</style>\n",
       "<table border=\"1\" class=\"dataframe\">\n",
       "  <thead>\n",
       "    <tr style=\"text-align: right;\">\n",
       "      <th></th>\n",
       "      <th>Index</th>\n",
       "      <th>Living Space (sq ft)</th>\n",
       "      <th>Beds</th>\n",
       "      <th>Baths</th>\n",
       "      <th>Zip</th>\n",
       "      <th>Year</th>\n",
       "      <th>List Price ($)</th>\n",
       "    </tr>\n",
       "  </thead>\n",
       "  <tbody>\n",
       "    <tr>\n",
       "      <th>Index</th>\n",
       "      <td>1.000000</td>\n",
       "      <td>0.071324</td>\n",
       "      <td>-0.049520</td>\n",
       "      <td>0.026341</td>\n",
       "      <td>-0.468281</td>\n",
       "      <td>0.161067</td>\n",
       "      <td>0.043812</td>\n",
       "    </tr>\n",
       "    <tr>\n",
       "      <th>Living Space (sq ft)</th>\n",
       "      <td>0.071324</td>\n",
       "      <td>1.000000</td>\n",
       "      <td>0.798973</td>\n",
       "      <td>0.825679</td>\n",
       "      <td>0.333485</td>\n",
       "      <td>-0.030235</td>\n",
       "      <td>0.820899</td>\n",
       "    </tr>\n",
       "    <tr>\n",
       "      <th>Beds</th>\n",
       "      <td>-0.049520</td>\n",
       "      <td>0.798973</td>\n",
       "      <td>1.000000</td>\n",
       "      <td>0.741245</td>\n",
       "      <td>0.430314</td>\n",
       "      <td>-0.115121</td>\n",
       "      <td>0.588464</td>\n",
       "    </tr>\n",
       "    <tr>\n",
       "      <th>Baths</th>\n",
       "      <td>0.026341</td>\n",
       "      <td>0.825679</td>\n",
       "      <td>0.741245</td>\n",
       "      <td>1.000000</td>\n",
       "      <td>0.367207</td>\n",
       "      <td>0.077005</td>\n",
       "      <td>0.712438</td>\n",
       "    </tr>\n",
       "    <tr>\n",
       "      <th>Zip</th>\n",
       "      <td>-0.468281</td>\n",
       "      <td>0.333485</td>\n",
       "      <td>0.430314</td>\n",
       "      <td>0.367207</td>\n",
       "      <td>1.000000</td>\n",
       "      <td>-0.018947</td>\n",
       "      <td>0.444229</td>\n",
       "    </tr>\n",
       "    <tr>\n",
       "      <th>Year</th>\n",
       "      <td>0.161067</td>\n",
       "      <td>-0.030235</td>\n",
       "      <td>-0.115121</td>\n",
       "      <td>0.077005</td>\n",
       "      <td>-0.018947</td>\n",
       "      <td>1.000000</td>\n",
       "      <td>0.200663</td>\n",
       "    </tr>\n",
       "    <tr>\n",
       "      <th>List Price ($)</th>\n",
       "      <td>0.043812</td>\n",
       "      <td>0.820899</td>\n",
       "      <td>0.588464</td>\n",
       "      <td>0.712438</td>\n",
       "      <td>0.444229</td>\n",
       "      <td>0.200663</td>\n",
       "      <td>1.000000</td>\n",
       "    </tr>\n",
       "  </tbody>\n",
       "</table>\n",
       "</div>"
      ],
      "text/plain": [
       "                         Index  Living Space (sq ft)      Beds     Baths  \\\n",
       "Index                 1.000000              0.071324 -0.049520  0.026341   \n",
       "Living Space (sq ft)  0.071324              1.000000  0.798973  0.825679   \n",
       "Beds                 -0.049520              0.798973  1.000000  0.741245   \n",
       "Baths                 0.026341              0.825679  0.741245  1.000000   \n",
       "Zip                  -0.468281              0.333485  0.430314  0.367207   \n",
       "Year                  0.161067             -0.030235 -0.115121  0.077005   \n",
       "List Price ($)        0.043812              0.820899  0.588464  0.712438   \n",
       "\n",
       "                           Zip      Year  List Price ($)  \n",
       "Index                -0.468281  0.161067        0.043812  \n",
       "Living Space (sq ft)  0.333485 -0.030235        0.820899  \n",
       "Beds                  0.430314 -0.115121        0.588464  \n",
       "Baths                 0.367207  0.077005        0.712438  \n",
       "Zip                   1.000000 -0.018947        0.444229  \n",
       "Year                 -0.018947  1.000000        0.200663  \n",
       "List Price ($)        0.444229  0.200663        1.000000  "
      ]
     },
     "execution_count": 32,
     "metadata": {},
     "output_type": "execute_result"
    }
   ],
   "source": [
    "df.corr()"
   ]
  },
  {
   "cell_type": "markdown",
   "metadata": {},
   "source": [
    "#### Step 4: Use Seaborn to plot one variable and the output to vizualize the correlation\n",
    "##### Do this for 3 different variables\n",
    "##### Hint: Use variables that are highly correlated to the output column"
   ]
  },
  {
   "cell_type": "code",
   "execution_count": 46,
   "metadata": {},
   "outputs": [
    {
     "data": {
      "image/png": "[encoded data removed]",
      "text/plain": [
       "<matplotlib.figure.Figure at 0xe2976bba20>"
      ]
     },
     "metadata": {},
     "output_type": "display_data"
    },
    {
     "data": {
      "image/png": "[encoded data removed]",
      "text/plain": [
       "<matplotlib.figure.Figure at 0xe29773a198>"
      ]
     },
     "metadata": {},
     "output_type": "display_data"
    },
    {
     "data": {
      "image/png": "[encoded data removed]",
      "text/plain": [
       "<matplotlib.figure.Figure at 0xe29777b9b0>"
      ]
     },
     "metadata": {},
     "output_type": "display_data"
    }
   ],
   "source": [
    "# List Price ~ Living Space\n",
    "chart1, ax1 = plt.subplots()\n",
    "sns.regplot(x = 'Living Space (sq ft)', y = 'List Price ($)', data = df, ax = ax1, color = 'blue')\n",
    "\n",
    "# List Price ~ Baths\n",
    "chart2, ax2 = plt.subplots()\n",
    "sns.regplot(x = 'Baths', y = 'List Price ($)', data = df, ax = ax2, color = 'green')\n",
    "\n",
    "# List Price ~ Beds\n",
    "chart3, ax3 = plt.subplots()\n",
    "sns.regplot(x = 'Beds', y = 'List Price ($)', data = df, ax = ax3, color = 'red')\n",
    "\n",
    "plt.show()"
   ]
  },
  {
   "cell_type": "markdown",
   "metadata": {},
   "source": [
    "#### Step 5: Pick a column with categorical data and create a box plot representing the unique values\n",
    "##### Print all the unique values in the column\n",
    "##### Create the box plot"
   ]
  },
  {
   "cell_type": "code",
   "execution_count": 64,
   "metadata": {},
   "outputs": [
    {
     "name": "stdout",
     "output_type": "stream",
     "text": [
      "Unique Zip Codes:\n",
      "\t> 32301, 32303, 32308, 32309, 32310, 32311, 32312\n"
     ]
    },
    {
     "data": {
      "image/png": "[encoded data removed]",
      "text/plain": [
       "<matplotlib.figure.Figure at 0xe29794e518>"
      ]
     },
     "metadata": {},
     "output_type": "display_data"
    }
   ],
   "source": [
    "ax = sns.boxplot(x = 'Zip', y = 'List Price ($)', data = df)\n",
    "print('Unique Zip Codes:\\n\\t> ' + ', '.join([str(z) for z in np.unique(df['Zip'])]))\n",
    "plt.show()"
   ]
  }
 ],
 "metadata": {
  "kernelspec": {
   "display_name": "Python 3",
   "language": "python",
   "name": "python3"
  },
  "language_info": {
   "codemirror_mode": {
    "name": "ipython",
    "version": 3
   },
   "file_extension": ".py",
   "mimetype": "text/x-python",
   "name": "python",
   "nbconvert_exporter": "python",
   "pygments_lexer": "ipython3",
   "version": "3.6.3"
  }
 },
 "nbformat": 4,
 "nbformat_minor": 2
}
