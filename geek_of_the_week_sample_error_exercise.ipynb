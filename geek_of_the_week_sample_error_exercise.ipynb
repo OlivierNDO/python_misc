{
 "cells": [
  {
   "cell_type": "markdown",
   "metadata": {},
   "source": [
    "#### Configuration"
   ]
  },
  {
   "cell_type": "code",
   "execution_count": 1,
   "metadata": {},
   "outputs": [],
   "source": [
    "from itertools import compress\n",
    "import matplotlib.pyplot as plt\n",
    "import numpy as np\n",
    "import random\n",
    "import scipy.stats as st\n",
    "import tqdm"
   ]
  },
  {
   "cell_type": "markdown",
   "metadata": {},
   "source": [
    "#### Define Functions"
   ]
  },
  {
   "cell_type": "code",
   "execution_count": 2,
   "metadata": {},
   "outputs": [],
   "source": [
    "def calculate_sample_error(prob_a, sample_a, prob_b, sample_b):\n",
    "    \"\"\"\n",
    "    For given unequal proportions of two populations for which some condition is true,\n",
    "    estimate the likelihood that samples of the two populations would lead you to the incorrect conclusion.\n",
    "    \n",
    "    Example:\n",
    "    \n",
    "        In village A, 52% <prob_a> of citizens wear hats. In village B, 47% <prob_b> of citizens wear hats.\n",
    "        Estimate the likelihood that samples of 100 <sample_a> citizens from A and\n",
    "        100 <sample_b> from B are taken, what is the likelihood that sample B would\n",
    "        have a higher % of hat-wearers than sample A? (given sample_a and sample_b are large enough, random samples)\n",
    "        \n",
    "    Usage:\n",
    "        Executing -> 'calculate_sample_error(0.52, 0.47, 100, 100)'\n",
    "        Should return ->  0.23946\n",
    "    \"\"\"\n",
    "    # Maximum and minimum probabilities\n",
    "    prob_list = [prob_a, prob_b]\n",
    "    sample_list = [sample_a, sample_b]\n",
    "    max_prob, min_prob = max(prob_list), min(prob_list)\n",
    "    \n",
    "    # Samples associated with minimum and maximum probabilities\n",
    "    max_sample = list(compress(sample_list, [p == max_prob for p in prob_list]))[0]\n",
    "    min_sample = list(compress(sample_list, [p == min_prob for p in prob_list]))[0]\n",
    "    \n",
    "    # Estimate likelihood\n",
    "    mean_diff = max_prob - min_prob\n",
    "    stdev_diff = np.sqrt(((max_prob * (1 - max_prob)) / max_sample) + ((min_prob * (1 - min_prob)) / min_sample))\n",
    "    z_score = (0 - mean_diff) / stdev_diff\n",
    "    return st.norm.cdf(z_score)"
   ]
  },
  {
   "cell_type": "markdown",
   "metadata": {},
   "source": [
    "#### Execute Functions"
   ]
  },
  {
   "cell_type": "markdown",
   "metadata": {},
   "source": [
    "##### Question 1\n",
    "In village A, 53.5% of citizens walk to work vs. village B where 48.5% of citizens walk to work. (true population probabilities)\n",
    "\n",
    "If you polled a random sample of 250 people from village A and 130 people from village B on whether or not they walk to work, what is the likelihood that your polling group from village B would have a higher percentage of walkers than village A?"
   ]
  },
  {
   "cell_type": "markdown",
   "metadata": {},
   "source": [
    "- estimate using the function "
   ]
  },
  {
   "cell_type": "code",
   "execution_count": 3,
   "metadata": {},
   "outputs": [
    {
     "data": {
      "text/plain": [
       "0.17726064399873104"
      ]
     },
     "execution_count": 3,
     "metadata": {},
     "output_type": "execute_result"
    }
   ],
   "source": [
    "calculate_sample_error(.535, 250, .485, 130)"
   ]
  },
  {
   "cell_type": "markdown",
   "metadata": {},
   "source": [
    "- estimate by running simulations (will differ slightly due to randomness)"
   ]
  },
  {
   "cell_type": "code",
   "execution_count": 4,
   "metadata": {},
   "outputs": [
    {
     "data": {
      "application/vnd.jupyter.widget-view+json": {
       "model_id": "f9270c74bbb64952a5be4f60f5b65dfc",
       "version_major": 2,
       "version_minor": 0
      },
      "text/plain": [
       "HBox(children=(IntProgress(value=0, max=250000), HTML(value='')))"
      ]
     },
     "metadata": {},
     "output_type": "display_data"
    },
    {
     "name": "stdout",
     "output_type": "stream",
     "text": [
      "\n"
     ]
    },
    {
     "data": {
      "image/png": "[encoded data removed]",
      "text/plain": [
       "<Figure size 432x288 with 1 Axes>"
      ]
     },
     "metadata": {
      "needs_background": "light"
     },
     "output_type": "display_data"
    }
   ],
   "source": [
    "# Configuration\n",
    "a_walkers = 0.535\n",
    "b_walkers = 0.485\n",
    "a_sample = 250\n",
    "b_sample = 130\n",
    "n_people_per_village = 10000\n",
    "n_simulations = 250000\n",
    "\n",
    "# Create list of 'yes' and 'no' responses given the known population values\n",
    "village_a_no = ['yes'] * int(a_walkers * n_people_per_village)\n",
    "village_a_yes = ['no'] * int(n_people_per_village - int(a_walkers * n_people_per_village))\n",
    "village_a = village_a_no + village_a_yes\n",
    "random.shuffle(village_a)\n",
    "\n",
    "village_b_no = ['yes'] * int(b_walkers * n_people_per_village)\n",
    "village_b_yes = ['no'] * int(n_people_per_village - int(b_walkers * n_people_per_village))\n",
    "village_b = village_b_no + village_b_yes\n",
    "random.shuffle(village_b)\n",
    "\n",
    "# Use a loop to simulate repeated sampling/polling\n",
    "b_less_a = []\n",
    "b_greater_a = []\n",
    "\n",
    "for i in tqdm.tqdm_notebook(range(n_simulations)):\n",
    "    \n",
    "    # Shuffle and sample villages a & b\n",
    "    sample_a = random.sample(village_a, a_sample)\n",
    "    sample_b = random.sample(village_b, b_sample)\n",
    "    \n",
    "    # Calculate % frequencies of walkers in each sample \n",
    "    yes_a = np.mean([1 if x == 'yes' else 0 for x in sample_a])\n",
    "    yes_b = np.mean([1 if x == 'yes' else 0 for x in sample_b])\n",
    "    b_less_a.append(yes_b - yes_a)\n",
    "    b_greater_a.append(yes_b > yes_a)\n",
    "\n",
    "    \n",
    "perc_lab = str(np.round(np.mean(b_greater_a) * 100,2))\n",
    "    \n",
    "plt.hist(b_less_a, facecolor='green', alpha=0.3, bins = 60)\n",
    "plt.axvline(x=0)\n",
    "plt.title('% Walkers Village B Less Village A\\n % Samples where B is greater: {} %'.format(perc_lab))\n",
    "plt.ylabel('No. Simulations')\n",
    "plt.xlabel('%B less %A')\n",
    "plt.show()"
   ]
  },
  {
   "cell_type": "markdown",
   "metadata": {},
   "source": [
    "##### Question 2\n",
    "Answer the same question, but assuming:\n",
    "\n",
    "In village A, 60% of citizens walk to work vs. village B where 49% of citizens walk to work. You poll 100 people in each village."
   ]
  },
  {
   "cell_type": "markdown",
   "metadata": {},
   "source": [
    "- estimate using the function"
   ]
  },
  {
   "cell_type": "code",
   "execution_count": 5,
   "metadata": {},
   "outputs": [
    {
     "data": {
      "text/plain": [
       "0.058022955871784604"
      ]
     },
     "execution_count": 5,
     "metadata": {},
     "output_type": "execute_result"
    }
   ],
   "source": [
    "calculate_sample_error(.60, 100, .49, 100)"
   ]
  },
  {
   "cell_type": "markdown",
   "metadata": {},
   "source": [
    "- estimate by running simulations (will differ slightly due to randomness)"
   ]
  },
  {
   "cell_type": "code",
   "execution_count": 6,
   "metadata": {},
   "outputs": [
    {
     "data": {
      "application/vnd.jupyter.widget-view+json": {
       "model_id": "c243077e6f244591af6cacab96481329",
       "version_major": 2,
       "version_minor": 0
      },
      "text/plain": [
       "HBox(children=(IntProgress(value=0, max=250000), HTML(value='')))"
      ]
     },
     "metadata": {},
     "output_type": "display_data"
    },
    {
     "name": "stdout",
     "output_type": "stream",
     "text": [
      "\n"
     ]
    },
    {
     "data": {
      "image/png": "[encoded data removed]",
      "text/plain": [
       "<Figure size 432x288 with 1 Axes>"
      ]
     },
     "metadata": {
      "needs_background": "light"
     },
     "output_type": "display_data"
    }
   ],
   "source": [
    "# Configuration\n",
    "a_walkers = 0.60\n",
    "b_walkers = 0.49\n",
    "a_sample = 100\n",
    "b_sample = 100\n",
    "n_people_per_village = 10000\n",
    "n_simulations = 250000\n",
    "\n",
    "# Create list of 'yes' and 'no' responses given the known population values\n",
    "village_a_no = ['yes'] * int(a_walkers * n_people_per_village)\n",
    "village_a_yes = ['no'] * int(n_people_per_village - int(a_walkers * n_people_per_village))\n",
    "village_a = village_a_no + village_a_yes\n",
    "random.shuffle(village_a)\n",
    "\n",
    "village_b_no = ['yes'] * int(b_walkers * n_people_per_village)\n",
    "village_b_yes = ['no'] * int(n_people_per_village - int(b_walkers * n_people_per_village))\n",
    "village_b = village_b_no + village_b_yes\n",
    "random.shuffle(village_b)\n",
    "\n",
    "# Use a loop to simulate repeated sampling/polling\n",
    "b_less_a = []\n",
    "b_greater_a = []\n",
    "\n",
    "for i in tqdm.tqdm_notebook(range(n_simulations)):\n",
    "    \n",
    "    # Shuffle and sample villages a & b\n",
    "    sample_a = random.sample(village_a, a_sample)\n",
    "    sample_b = random.sample(village_b, b_sample)\n",
    "    \n",
    "    # Calculate % frequencies of walkers in each sample \n",
    "    yes_a = np.mean([1 if x == 'yes' else 0 for x in sample_a])\n",
    "    yes_b = np.mean([1 if x == 'yes' else 0 for x in sample_b])\n",
    "    b_less_a.append(yes_b - yes_a)\n",
    "    b_greater_a.append(yes_b > yes_a)\n",
    "\n",
    "    \n",
    "perc_lab = str(np.round(np.mean(b_greater_a) * 100,2))\n",
    "    \n",
    "plt.hist(b_less_a, facecolor='green', alpha=0.3, bins = 60)\n",
    "plt.axvline(x=0)\n",
    "plt.title('% Walkers Village B Less Village A\\n % Samples where B is greater: {} %'.format(perc_lab))\n",
    "plt.ylabel('No. Simulations')\n",
    "plt.xlabel('%B less %A')\n",
    "plt.show()"
   ]
  }
 ],
 "metadata": {
  "kernelspec": {
   "display_name": "Python 3",
   "language": "python",
   "name": "python3"
  },
  "language_info": {
   "codemirror_mode": {
    "name": "ipython",
    "version": 3
   },
   "file_extension": ".py",
   "mimetype": "text/x-python",
   "name": "python",
   "nbconvert_exporter": "python",
   "pygments_lexer": "ipython3",
   "version": "3.7.3"
  }
 },
 "nbformat": 4,
 "nbformat_minor": 2
}
