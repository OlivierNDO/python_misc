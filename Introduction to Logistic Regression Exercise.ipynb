{
 "cells": [
  {
   "cell_type": "markdown",
   "metadata": {},
   "source": [
    "![](https://d1vwxdpzbgdqj.cloudfront.net/s3-public-images/learning-partners/greatlearning-brand.png)"
   ]
  },
  {
   "cell_type": "markdown",
   "metadata": {},
   "source": [
    "# Introduction to Logistic Regression\n",
    "> Agenda:\n",
    "    \n",
    "> <font color='blue'>1) Read iris dataset and create exploratory plots</font>\n",
    "\n",
    "> <font color='blue'>2) Split dataset into train/test for cross validation</font>\n",
    "\n",
    "> <font color='blue'>3) Fit a binary logistic regression</font>\n",
    "\n",
    "> $log_{b} \\frac{p}{(1 - p)}$ Setosa = $\\beta_{0}$ + $\\beta_{1}$ $SepalLength_{i}$ + $\\epsilon_{i}$\n",
    "\n",
    "> <font color='blue'>4) Assess prediction accuracy on test set</font>\n",
    "\n",
    "> <font color='blue'>5) Prove your theoretical understanding - predict using only the coefficients</font>"
   ]
  },
  {
   "cell_type": "markdown",
   "metadata": {},
   "source": [
    "### Configuration & Module Imports"
   ]
  },
  {
   "cell_type": "code",
   "execution_count": 1,
   "metadata": {},
   "outputs": [
    {
     "data": {
      "text/html": [
       "<script>\n",
       "code_show=true; \n",
       "function code_toggle() {\n",
       "    if (code_show){\n",
       "        $('div.cell.code_cell.rendered.selected div.input').hide();\n",
       "    } else {\n",
       "        $('div.cell.code_cell.rendered.selected div.input').show();\n",
       "    }\n",
       "    code_show = !code_show\n",
       "} \n",
       "$( document ).ready(code_toggle);\n",
       "</script>\n",
       "To show/hide this cell's raw code input, click <a href=\"javascript:code_toggle()\">here</a>."
      ],
      "text/plain": [
       "<IPython.core.display.HTML object>"
      ]
     },
     "metadata": {},
     "output_type": "display_data"
    }
   ],
   "source": [
    "from IPython.display import HTML\n",
    "from IPython.display import display\n",
    "import matplotlib.pyplot as plt\n",
    "import numpy as np\n",
    "import pandas as pd\n",
    "import warnings\n",
    "import seaborn as sns\n",
    "from sklearn import datasets\n",
    "from sklearn.linear_model import LinearRegression\n",
    "from sklearn.model_selection import train_test_split\n",
    "import statsmodels.api as sm\n",
    "warnings.filterwarnings('ignore')\n",
    "\n",
    "# Taken from https://stackoverflow.com/questions/31517194/how-to-hide-one-specific-cell-input-or-output-in-ipython-notebook\n",
    "tag = HTML('''<script>\n",
    "code_show=true; \n",
    "function code_toggle() {\n",
    "    if (code_show){\n",
    "        $('div.cell.code_cell.rendered.selected div.input').hide();\n",
    "    } else {\n",
    "        $('div.cell.code_cell.rendered.selected div.input').show();\n",
    "    }\n",
    "    code_show = !code_show\n",
    "} \n",
    "$( document ).ready(code_toggle);\n",
    "</script>\n",
    "To show/hide this cell's raw code input, click <a href=\"javascript:code_toggle()\">here</a>.''')\n",
    "display(tag)"
   ]
  },
  {
   "cell_type": "markdown",
   "metadata": {},
   "source": [
    "### User Defined Functions\n",
    "#### <font color='orange'>(already done for you)</font>"
   ]
  },
  {
   "cell_type": "code",
   "execution_count": 2,
   "metadata": {},
   "outputs": [
    {
     "data": {
      "text/html": [
       "<script>\n",
       "code_show=true; \n",
       "function code_toggle() {\n",
       "    if (code_show){\n",
       "        $('div.cell.code_cell.rendered.selected div.input').hide();\n",
       "    } else {\n",
       "        $('div.cell.code_cell.rendered.selected div.input').show();\n",
       "    }\n",
       "    code_show = !code_show\n",
       "} \n",
       "$( document ).ready(code_toggle);\n",
       "</script>\n",
       "To show/hide this cell's raw code input, click <a href=\"javascript:code_toggle()\">here</a>."
      ],
      "text/plain": [
       "<IPython.core.display.HTML object>"
      ]
     },
     "metadata": {},
     "output_type": "display_data"
    }
   ],
   "source": [
    "def read_reformat_iris_data(numeric_cols = ['sepal_length', 'sepal_width', 'petal_length', 'petal_width',\n",
    "                                            'iris_type_setosa', 'iris_type_versicolor', 'iris_type_virginica']):\n",
    "    \"\"\"\n",
    "    Reads sklearn iris dataset, reformatting utils.Bunch object into digestable pandas.DataFrame\n",
    "    Args:\n",
    "        numeric_cols (list): list of field names to convert to numeric in returned DataFrame\n",
    "    Returns:\n",
    "        pandas.DataFrame object with fields:\n",
    "            >> 'sepal_length'\n",
    "            >> 'sepal_width'\n",
    "            >> 'petal_length'\n",
    "            >> 'petal_width'\n",
    "            >> 'iris_type'\n",
    "            >> 'iris_type_setosa'\n",
    "            >> 'iris_type_versicolor'\n",
    "            >> 'iris_type_virginica'\n",
    "    \"\"\"\n",
    "    iris = datasets.load_iris()\n",
    "    iris_df = pd.DataFrame(iris['data'], columns = [s.replace(' (cm)', '').replace(' ', '_') for s in iris['feature_names']])\n",
    "    target_dict = dict(zip([0,1,2], list(iris['target_names'])))\n",
    "    iris_df['iris_type'] = [target_dict.get(x) for x in iris['target']]\n",
    "    iris_df['iris_type_setosa'] = [1 if x == 'setosa' else 0 for x in iris_df['iris_type']]\n",
    "    iris_df['iris_type_versicolor'] = [1 if x == 'versicolor' else 0 for x in iris_df['iris_type']]\n",
    "    iris_df['iris_type_virginica'] = [1 if x == 'virginica' else 0 for x in iris_df['iris_type']]\n",
    "    iris_df[numeric_cols] = iris_df[numeric_cols].apply(pd.to_numeric)\n",
    "    return iris_df\n",
    "\n",
    "\n",
    "def extract_logreg_coefficients(logit_model):\n",
    "    \"\"\"\n",
    "    Extract coefficients from fitted statsmodel.Logit() object\n",
    "    Args:\n",
    "        logit_model (statsmodel.Logit): fitted model object\n",
    "    Returns:\n",
    "        dictionary with variable names as keys and coefficients as elements\n",
    "    \"\"\"\n",
    "    coef_table = pd.read_html(logit_model.summary().tables[1].as_html(),header=0,index_col=0)[0]['coef']\n",
    "    return dict(zip(coef_table.index, coef_table.values))\n",
    "\n",
    "\n",
    "display(tag)"
   ]
  },
  {
   "cell_type": "markdown",
   "metadata": {},
   "source": [
    "# <font color='blue'>1) Read iris dataset and create exploratory plots</font>"
   ]
  },
  {
   "cell_type": "markdown",
   "metadata": {},
   "source": [
    "### Read Iris Dataset\n",
    "#### <font color='orange'>(already done for you)</font>\n",
    "![](https://s3.amazonaws.com/assets.datacamp.com/blog_assets/Machine+Learning+R/iris-machinelearning.png)"
   ]
  },
  {
   "cell_type": "code",
   "execution_count": 3,
   "metadata": {},
   "outputs": [],
   "source": [
    "iris_df = read_reformat_iris_data()"
   ]
  },
  {
   "cell_type": "markdown",
   "metadata": {},
   "source": [
    "### Look at first 5 rows from iris_df"
   ]
  },
  {
   "cell_type": "code",
   "execution_count": 4,
   "metadata": {},
   "outputs": [
    {
     "data": {
      "text/html": [
       "<div>\n",
       "<style scoped>\n",
       "    .dataframe tbody tr th:only-of-type {\n",
       "        vertical-align: middle;\n",
       "    }\n",
       "\n",
       "    .dataframe tbody tr th {\n",
       "        vertical-align: top;\n",
       "    }\n",
       "\n",
       "    .dataframe thead th {\n",
       "        text-align: right;\n",
       "    }\n",
       "</style>\n",
       "<table border=\"1\" class=\"dataframe\">\n",
       "  <thead>\n",
       "    <tr style=\"text-align: right;\">\n",
       "      <th></th>\n",
       "      <th>sepal_length</th>\n",
       "      <th>sepal_width</th>\n",
       "      <th>petal_length</th>\n",
       "      <th>petal_width</th>\n",
       "      <th>iris_type</th>\n",
       "      <th>iris_type_setosa</th>\n",
       "      <th>iris_type_versicolor</th>\n",
       "      <th>iris_type_virginica</th>\n",
       "    </tr>\n",
       "  </thead>\n",
       "  <tbody>\n",
       "    <tr>\n",
       "      <th>0</th>\n",
       "      <td>5.1</td>\n",
       "      <td>3.5</td>\n",
       "      <td>1.4</td>\n",
       "      <td>0.2</td>\n",
       "      <td>setosa</td>\n",
       "      <td>1</td>\n",
       "      <td>0</td>\n",
       "      <td>0</td>\n",
       "    </tr>\n",
       "    <tr>\n",
       "      <th>1</th>\n",
       "      <td>4.9</td>\n",
       "      <td>3.0</td>\n",
       "      <td>1.4</td>\n",
       "      <td>0.2</td>\n",
       "      <td>setosa</td>\n",
       "      <td>1</td>\n",
       "      <td>0</td>\n",
       "      <td>0</td>\n",
       "    </tr>\n",
       "    <tr>\n",
       "      <th>2</th>\n",
       "      <td>4.7</td>\n",
       "      <td>3.2</td>\n",
       "      <td>1.3</td>\n",
       "      <td>0.2</td>\n",
       "      <td>setosa</td>\n",
       "      <td>1</td>\n",
       "      <td>0</td>\n",
       "      <td>0</td>\n",
       "    </tr>\n",
       "    <tr>\n",
       "      <th>3</th>\n",
       "      <td>4.6</td>\n",
       "      <td>3.1</td>\n",
       "      <td>1.5</td>\n",
       "      <td>0.2</td>\n",
       "      <td>setosa</td>\n",
       "      <td>1</td>\n",
       "      <td>0</td>\n",
       "      <td>0</td>\n",
       "    </tr>\n",
       "    <tr>\n",
       "      <th>4</th>\n",
       "      <td>5.0</td>\n",
       "      <td>3.6</td>\n",
       "      <td>1.4</td>\n",
       "      <td>0.2</td>\n",
       "      <td>setosa</td>\n",
       "      <td>1</td>\n",
       "      <td>0</td>\n",
       "      <td>0</td>\n",
       "    </tr>\n",
       "  </tbody>\n",
       "</table>\n",
       "</div>"
      ],
      "text/plain": [
       "   sepal_length  sepal_width  petal_length  petal_width iris_type  \\\n",
       "0           5.1          3.5           1.4          0.2    setosa   \n",
       "1           4.9          3.0           1.4          0.2    setosa   \n",
       "2           4.7          3.2           1.3          0.2    setosa   \n",
       "3           4.6          3.1           1.5          0.2    setosa   \n",
       "4           5.0          3.6           1.4          0.2    setosa   \n",
       "\n",
       "   iris_type_setosa  iris_type_versicolor  iris_type_virginica  \n",
       "0                 1                     0                    0  \n",
       "1                 1                     0                    0  \n",
       "2                 1                     0                    0  \n",
       "3                 1                     0                    0  \n",
       "4                 1                     0                    0  "
      ]
     },
     "execution_count": 4,
     "metadata": {},
     "output_type": "execute_result"
    }
   ],
   "source": [
    "iris_df.head()"
   ]
  },
  {
   "cell_type": "markdown",
   "metadata": {},
   "source": [
    "### Use a pair plot from the seaborn module to quickly visualize relationships"
   ]
  },
  {
   "cell_type": "code",
   "execution_count": 7,
   "metadata": {},
   "outputs": [
    {
     "data": {
      "image/png": "[encoded data removed]",
      "text/plain": [
       "<Figure size 804.75x720 with 20 Axes>"
      ]
     },
     "metadata": {
      "needs_background": "light"
     },
     "output_type": "display_data"
    }
   ],
   "source": [
    "sns.pairplot(iris_df[['sepal_length', 'sepal_width', 'petal_length', 'petal_width', 'iris_type']],\n",
    "             hue = 'iris_type')\n",
    "plt.show()"
   ]
  },
  {
   "cell_type": "markdown",
   "metadata": {},
   "source": [
    "### Let's look more closely at Setosa {0,1} and Sepal Length"
   ]
  },
  {
   "cell_type": "code",
   "execution_count": 8,
   "metadata": {},
   "outputs": [
    {
     "data": {
      "text/plain": [
       "Text(0.5, 21.70625000000002, 'Sepal Length')"
      ]
     },
     "execution_count": 8,
     "metadata": {},
     "output_type": "execute_result"
    },
    {
     "data": {
      "image/png": "[encoded data removed]",
      "text/plain": [
       "<Figure size 444.75x360 with 1 Axes>"
      ]
     },
     "metadata": {
      "needs_background": "light"
     },
     "output_type": "display_data"
    }
   ],
   "source": [
    "x_var = 'sepal_length'\n",
    "y_var = 'iris_type_setosa'\n",
    "color_var = 'iris_type'\n",
    "title_str = 'Sepal Length: Setosa Iris Flowers vs. Others'\n",
    "x_axis_str = 'Sepal Length'\n",
    "y_axis_str = 'Iris Type Setosa'\n",
    "\n",
    "\n",
    "sns.lmplot(x_var, y_var, hue = color_var, data = iris_df, fit_reg = False)\n",
    "plt.title(title_str)\n",
    "plt.ylabel(y_axis_str)\n",
    "plt.xlabel(x_axis_str)"
   ]
  },
  {
   "cell_type": "markdown",
   "metadata": {},
   "source": [
    "# <font color='blue'>2) Split dataset into train/test for cross validation</font>"
   ]
  },
  {
   "cell_type": "markdown",
   "metadata": {},
   "source": [
    "### Train Test Split"
   ]
  },
  {
   "cell_type": "code",
   "execution_count": 9,
   "metadata": {},
   "outputs": [],
   "source": [
    "train_df, test_df = train_test_split(iris_df, test_size = 0.2, random_state = 2020)"
   ]
  },
  {
   "cell_type": "markdown",
   "metadata": {},
   "source": [
    "### Create X and Y Variables ... Notice Constant Added to X for Regression Intercept"
   ]
  },
  {
   "cell_type": "markdown",
   "metadata": {},
   "source": [
    "##### $log_{b} \\frac{p}{(1 - p)}$ Setosa = $\\beta_{0}$ + $\\beta_{1}$ $SepalLength_{i}$ + $\\epsilon_{i}$\n",
    "\n",
    "##### i.e. log odds of Setosa [0,1] are a function of intercept plus beta coefficient X Sepal Length plus error term"
   ]
  },
  {
   "cell_type": "code",
   "execution_count": 10,
   "metadata": {},
   "outputs": [],
   "source": [
    "y_col = 'iris_type_setosa'\n",
    "x_cols = ['sepal_length']\n",
    "train_x = sm.add_constant(train_df[x_cols]) \n",
    "test_x = sm.add_constant(test_df[x_cols])\n",
    "train_y = train_df[[y_col]]\n",
    "test_y = test_df[[y_col]]"
   ]
  },
  {
   "cell_type": "code",
   "execution_count": 11,
   "metadata": {},
   "outputs": [
    {
     "data": {
      "text/html": [
       "<div>\n",
       "<style scoped>\n",
       "    .dataframe tbody tr th:only-of-type {\n",
       "        vertical-align: middle;\n",
       "    }\n",
       "\n",
       "    .dataframe tbody tr th {\n",
       "        vertical-align: top;\n",
       "    }\n",
       "\n",
       "    .dataframe thead th {\n",
       "        text-align: right;\n",
       "    }\n",
       "</style>\n",
       "<table border=\"1\" class=\"dataframe\">\n",
       "  <thead>\n",
       "    <tr style=\"text-align: right;\">\n",
       "      <th></th>\n",
       "      <th>const</th>\n",
       "      <th>sepal_length</th>\n",
       "    </tr>\n",
       "  </thead>\n",
       "  <tbody>\n",
       "    <tr>\n",
       "      <th>105</th>\n",
       "      <td>1.0</td>\n",
       "      <td>7.6</td>\n",
       "    </tr>\n",
       "    <tr>\n",
       "      <th>40</th>\n",
       "      <td>1.0</td>\n",
       "      <td>5.0</td>\n",
       "    </tr>\n",
       "    <tr>\n",
       "      <th>7</th>\n",
       "      <td>1.0</td>\n",
       "      <td>5.0</td>\n",
       "    </tr>\n",
       "    <tr>\n",
       "      <th>17</th>\n",
       "      <td>1.0</td>\n",
       "      <td>5.1</td>\n",
       "    </tr>\n",
       "    <tr>\n",
       "      <th>115</th>\n",
       "      <td>1.0</td>\n",
       "      <td>6.4</td>\n",
       "    </tr>\n",
       "  </tbody>\n",
       "</table>\n",
       "</div>"
      ],
      "text/plain": [
       "     const  sepal_length\n",
       "105    1.0           7.6\n",
       "40     1.0           5.0\n",
       "7      1.0           5.0\n",
       "17     1.0           5.1\n",
       "115    1.0           6.4"
      ]
     },
     "execution_count": 11,
     "metadata": {},
     "output_type": "execute_result"
    }
   ],
   "source": [
    "train_x.head()"
   ]
  },
  {
   "cell_type": "markdown",
   "metadata": {},
   "source": [
    "# <font color='blue'>3) Fit a binary logistic regression</font>"
   ]
  },
  {
   "cell_type": "markdown",
   "metadata": {},
   "source": [
    "### Fit on Training Set"
   ]
  },
  {
   "cell_type": "code",
   "execution_count": 12,
   "metadata": {},
   "outputs": [
    {
     "name": "stdout",
     "output_type": "stream",
     "text": [
      "Optimization terminated successfully.\n",
      "         Current function value: 0.236027\n",
      "         Iterations 9\n"
     ]
    }
   ],
   "source": [
    "log_reg = sm.Logit(train_y, train_x).fit()"
   ]
  },
  {
   "cell_type": "markdown",
   "metadata": {},
   "source": [
    "### Print Regression Output Summary"
   ]
  },
  {
   "cell_type": "code",
   "execution_count": 13,
   "metadata": {},
   "outputs": [
    {
     "name": "stdout",
     "output_type": "stream",
     "text": [
      "                           Logit Regression Results                           \n",
      "==============================================================================\n",
      "Dep. Variable:       iris_type_setosa   No. Observations:                  120\n",
      "Model:                          Logit   Df Residuals:                      118\n",
      "Method:                           MLE   Df Model:                            1\n",
      "Date:                Thu, 15 Oct 2020   Pseudo R-squ.:                  0.6292\n",
      "Time:                        22:02:03   Log-Likelihood:                -28.323\n",
      "converged:                       True   LL-Null:                       -76.382\n",
      "Covariance Type:            nonrobust   LLR p-value:                 1.083e-22\n",
      "================================================================================\n",
      "                   coef    std err          z      P>|z|      [0.025      0.975]\n",
      "--------------------------------------------------------------------------------\n",
      "const           29.2346      5.853      4.994      0.000      17.762      40.707\n",
      "sepal_length    -5.4065      1.077     -5.021      0.000      -7.517      -3.296\n",
      "================================================================================\n"
     ]
    }
   ],
   "source": [
    "print(log_reg.summary())"
   ]
  },
  {
   "cell_type": "markdown",
   "metadata": {},
   "source": [
    "# <font color='blue'>4) Assess prediction accuracy on test set</font>"
   ]
  },
  {
   "cell_type": "markdown",
   "metadata": {},
   "source": [
    "### Predict on Test Set and Evaluate Results"
   ]
  },
  {
   "cell_type": "code",
   "execution_count": 14,
   "metadata": {},
   "outputs": [],
   "source": [
    "test_df['pred_values'] = log_reg.predict(test_x)"
   ]
  },
  {
   "cell_type": "code",
   "execution_count": 15,
   "metadata": {},
   "outputs": [
    {
     "data": {
      "text/html": [
       "<div>\n",
       "<style scoped>\n",
       "    .dataframe tbody tr th:only-of-type {\n",
       "        vertical-align: middle;\n",
       "    }\n",
       "\n",
       "    .dataframe tbody tr th {\n",
       "        vertical-align: top;\n",
       "    }\n",
       "\n",
       "    .dataframe thead th {\n",
       "        text-align: right;\n",
       "    }\n",
       "</style>\n",
       "<table border=\"1\" class=\"dataframe\">\n",
       "  <thead>\n",
       "    <tr style=\"text-align: right;\">\n",
       "      <th></th>\n",
       "      <th>sepal_length</th>\n",
       "      <th>sepal_width</th>\n",
       "      <th>petal_length</th>\n",
       "      <th>petal_width</th>\n",
       "      <th>iris_type</th>\n",
       "      <th>iris_type_setosa</th>\n",
       "      <th>iris_type_versicolor</th>\n",
       "      <th>iris_type_virginica</th>\n",
       "      <th>pred_values</th>\n",
       "    </tr>\n",
       "  </thead>\n",
       "  <tbody>\n",
       "    <tr>\n",
       "      <th>104</th>\n",
       "      <td>6.5</td>\n",
       "      <td>3.0</td>\n",
       "      <td>5.8</td>\n",
       "      <td>2.2</td>\n",
       "      <td>virginica</td>\n",
       "      <td>0</td>\n",
       "      <td>0</td>\n",
       "      <td>1</td>\n",
       "      <td>0.002710</td>\n",
       "    </tr>\n",
       "    <tr>\n",
       "      <th>8</th>\n",
       "      <td>4.4</td>\n",
       "      <td>2.9</td>\n",
       "      <td>1.4</td>\n",
       "      <td>0.2</td>\n",
       "      <td>setosa</td>\n",
       "      <td>1</td>\n",
       "      <td>0</td>\n",
       "      <td>0</td>\n",
       "      <td>0.995704</td>\n",
       "    </tr>\n",
       "    <tr>\n",
       "      <th>61</th>\n",
       "      <td>5.9</td>\n",
       "      <td>3.0</td>\n",
       "      <td>4.2</td>\n",
       "      <td>1.5</td>\n",
       "      <td>versicolor</td>\n",
       "      <td>0</td>\n",
       "      <td>1</td>\n",
       "      <td>0</td>\n",
       "      <td>0.065128</td>\n",
       "    </tr>\n",
       "    <tr>\n",
       "      <th>54</th>\n",
       "      <td>6.5</td>\n",
       "      <td>2.8</td>\n",
       "      <td>4.6</td>\n",
       "      <td>1.5</td>\n",
       "      <td>versicolor</td>\n",
       "      <td>0</td>\n",
       "      <td>1</td>\n",
       "      <td>0</td>\n",
       "      <td>0.002710</td>\n",
       "    </tr>\n",
       "    <tr>\n",
       "      <th>78</th>\n",
       "      <td>6.0</td>\n",
       "      <td>2.9</td>\n",
       "      <td>4.5</td>\n",
       "      <td>1.5</td>\n",
       "      <td>versicolor</td>\n",
       "      <td>0</td>\n",
       "      <td>1</td>\n",
       "      <td>0</td>\n",
       "      <td>0.038989</td>\n",
       "    </tr>\n",
       "  </tbody>\n",
       "</table>\n",
       "</div>"
      ],
      "text/plain": [
       "     sepal_length  sepal_width  petal_length  petal_width   iris_type  \\\n",
       "104           6.5          3.0           5.8          2.2   virginica   \n",
       "8             4.4          2.9           1.4          0.2      setosa   \n",
       "61            5.9          3.0           4.2          1.5  versicolor   \n",
       "54            6.5          2.8           4.6          1.5  versicolor   \n",
       "78            6.0          2.9           4.5          1.5  versicolor   \n",
       "\n",
       "     iris_type_setosa  iris_type_versicolor  iris_type_virginica  pred_values  \n",
       "104                 0                     0                    1     0.002710  \n",
       "8                   1                     0                    0     0.995704  \n",
       "61                  0                     1                    0     0.065128  \n",
       "54                  0                     1                    0     0.002710  \n",
       "78                  0                     1                    0     0.038989  "
      ]
     },
     "execution_count": 15,
     "metadata": {},
     "output_type": "execute_result"
    }
   ],
   "source": [
    "test_df.head()"
   ]
  },
  {
   "cell_type": "code",
   "execution_count": 16,
   "metadata": {},
   "outputs": [
    {
     "data": {
      "text/plain": [
       "(array([15.,  1.,  1.,  1.,  0.,  1.,  0.,  1.,  1.,  9.]),\n",
       " array([9.20853615e-04, 1.00399168e-01, 1.99877482e-01, 2.99355796e-01,\n",
       "        3.98834110e-01, 4.98312424e-01, 5.97790738e-01, 6.97269052e-01,\n",
       "        7.96747366e-01, 8.96225680e-01, 9.95703994e-01]),\n",
       " <a list of 10 Patch objects>)"
      ]
     },
     "execution_count": 16,
     "metadata": {},
     "output_type": "execute_result"
    },
    {
     "data": {
      "image/png": "[encoded data removed]",
      "text/plain": [
       "<Figure size 432x288 with 1 Axes>"
      ]
     },
     "metadata": {
      "needs_background": "light"
     },
     "output_type": "display_data"
    }
   ],
   "source": [
    "plt.hist(test_df['pred_values'])"
   ]
  },
  {
   "cell_type": "markdown",
   "metadata": {},
   "source": [
    "### Plot Predicted vs. Actual\n",
    "#### <font color='orange'>(already done for you)</font>"
   ]
  },
  {
   "cell_type": "code",
   "execution_count": 17,
   "metadata": {},
   "outputs": [
    {
     "data": {
      "image/png": "[encoded data removed]",
      "text/plain": [
       "<Figure size 432x288 with 1 Axes>"
      ]
     },
     "metadata": {
      "needs_background": "light"
     },
     "output_type": "display_data"
    }
   ],
   "source": [
    "fix, ax = plt.subplots()\n",
    "color_dict = {0 : 'blue', 1 : 'green'}\n",
    "ax.scatter(test_df['sepal_length'], test_df['pred_values'], c = test_df['iris_type_setosa'].apply(lambda x: color_dict[x]))\n",
    "plt.axhline(y = 0.5, color = 'black', linestyle = '-')\n",
    "plt.title('Test Set Predictions\\nSetosa ~ Green, Other Irises ~ Blue')\n",
    "plt.ylabel('Predicted Probability')\n",
    "plt.xlabel('Sepal Length')\n",
    "ax.legend(['blue', 'green'], ['Other Iris', 'Setosa'])\n",
    "plt.show()"
   ]
  },
  {
   "cell_type": "markdown",
   "metadata": {},
   "source": [
    "### Convert Predicted Probabilities to Binary, Calculate Accuracy"
   ]
  },
  {
   "cell_type": "code",
   "execution_count": 19,
   "metadata": {},
   "outputs": [],
   "source": [
    "test_df['pred_binary'] = [int(np.round(x, 0)) for x in test_df['pred_values']]"
   ]
  },
  {
   "cell_type": "code",
   "execution_count": 20,
   "metadata": {},
   "outputs": [
    {
     "data": {
      "text/html": [
       "<div>\n",
       "<style scoped>\n",
       "    .dataframe tbody tr th:only-of-type {\n",
       "        vertical-align: middle;\n",
       "    }\n",
       "\n",
       "    .dataframe tbody tr th {\n",
       "        vertical-align: top;\n",
       "    }\n",
       "\n",
       "    .dataframe thead th {\n",
       "        text-align: right;\n",
       "    }\n",
       "</style>\n",
       "<table border=\"1\" class=\"dataframe\">\n",
       "  <thead>\n",
       "    <tr style=\"text-align: right;\">\n",
       "      <th></th>\n",
       "      <th>sepal_length</th>\n",
       "      <th>sepal_width</th>\n",
       "      <th>petal_length</th>\n",
       "      <th>petal_width</th>\n",
       "      <th>iris_type</th>\n",
       "      <th>iris_type_setosa</th>\n",
       "      <th>iris_type_versicolor</th>\n",
       "      <th>iris_type_virginica</th>\n",
       "      <th>pred_values</th>\n",
       "      <th>pred_binary</th>\n",
       "    </tr>\n",
       "  </thead>\n",
       "  <tbody>\n",
       "    <tr>\n",
       "      <th>104</th>\n",
       "      <td>6.5</td>\n",
       "      <td>3.0</td>\n",
       "      <td>5.8</td>\n",
       "      <td>2.2</td>\n",
       "      <td>virginica</td>\n",
       "      <td>0</td>\n",
       "      <td>0</td>\n",
       "      <td>1</td>\n",
       "      <td>0.002710</td>\n",
       "      <td>0</td>\n",
       "    </tr>\n",
       "    <tr>\n",
       "      <th>8</th>\n",
       "      <td>4.4</td>\n",
       "      <td>2.9</td>\n",
       "      <td>1.4</td>\n",
       "      <td>0.2</td>\n",
       "      <td>setosa</td>\n",
       "      <td>1</td>\n",
       "      <td>0</td>\n",
       "      <td>0</td>\n",
       "      <td>0.995704</td>\n",
       "      <td>1</td>\n",
       "    </tr>\n",
       "    <tr>\n",
       "      <th>61</th>\n",
       "      <td>5.9</td>\n",
       "      <td>3.0</td>\n",
       "      <td>4.2</td>\n",
       "      <td>1.5</td>\n",
       "      <td>versicolor</td>\n",
       "      <td>0</td>\n",
       "      <td>1</td>\n",
       "      <td>0</td>\n",
       "      <td>0.065128</td>\n",
       "      <td>0</td>\n",
       "    </tr>\n",
       "    <tr>\n",
       "      <th>54</th>\n",
       "      <td>6.5</td>\n",
       "      <td>2.8</td>\n",
       "      <td>4.6</td>\n",
       "      <td>1.5</td>\n",
       "      <td>versicolor</td>\n",
       "      <td>0</td>\n",
       "      <td>1</td>\n",
       "      <td>0</td>\n",
       "      <td>0.002710</td>\n",
       "      <td>0</td>\n",
       "    </tr>\n",
       "    <tr>\n",
       "      <th>78</th>\n",
       "      <td>6.0</td>\n",
       "      <td>2.9</td>\n",
       "      <td>4.5</td>\n",
       "      <td>1.5</td>\n",
       "      <td>versicolor</td>\n",
       "      <td>0</td>\n",
       "      <td>1</td>\n",
       "      <td>0</td>\n",
       "      <td>0.038989</td>\n",
       "      <td>0</td>\n",
       "    </tr>\n",
       "  </tbody>\n",
       "</table>\n",
       "</div>"
      ],
      "text/plain": [
       "     sepal_length  sepal_width  petal_length  petal_width   iris_type  \\\n",
       "104           6.5          3.0           5.8          2.2   virginica   \n",
       "8             4.4          2.9           1.4          0.2      setosa   \n",
       "61            5.9          3.0           4.2          1.5  versicolor   \n",
       "54            6.5          2.8           4.6          1.5  versicolor   \n",
       "78            6.0          2.9           4.5          1.5  versicolor   \n",
       "\n",
       "     iris_type_setosa  iris_type_versicolor  iris_type_virginica  pred_values  \\\n",
       "104                 0                     0                    1     0.002710   \n",
       "8                   1                     0                    0     0.995704   \n",
       "61                  0                     1                    0     0.065128   \n",
       "54                  0                     1                    0     0.002710   \n",
       "78                  0                     1                    0     0.038989   \n",
       "\n",
       "     pred_binary  \n",
       "104            0  \n",
       "8              1  \n",
       "61             0  \n",
       "54             0  \n",
       "78             0  "
      ]
     },
     "execution_count": 20,
     "metadata": {},
     "output_type": "execute_result"
    }
   ],
   "source": [
    "test_df.head()"
   ]
  },
  {
   "cell_type": "markdown",
   "metadata": {},
   "source": [
    "### Look at first 5 rows of predicted values, predicted binary value, and actual iris_type_setosa"
   ]
  },
  {
   "cell_type": "code",
   "execution_count": 10,
   "metadata": {},
   "outputs": [],
   "source": [
    "use_vars = ['pred_values', 'pred_binary', 'iris_type_setosa']\n"
   ]
  },
  {
   "cell_type": "markdown",
   "metadata": {},
   "source": [
    "### Calculate and print accuracy"
   ]
  },
  {
   "cell_type": "code",
   "execution_count": 21,
   "metadata": {},
   "outputs": [
    {
     "name": "stdout",
     "output_type": "stream",
     "text": [
      "Test Set Accuracy: 93.33%\n"
     ]
    }
   ],
   "source": [
    "correct = test_df[test_df.pred_binary == test_df.iris_type_setosa].shape[0]\n",
    "total = test_df.shape[0]\n",
    "accuracy = correct / total\n",
    "print(f'Test Set Accuracy: {np.round(accuracy * 100, 2)}%')"
   ]
  },
  {
   "cell_type": "markdown",
   "metadata": {},
   "source": [
    "# <font color='blue'>5) Prove your theoretical understanding - predict using only the coefficients</font>"
   ]
  },
  {
   "cell_type": "markdown",
   "metadata": {},
   "source": [
    "### Let's look at the regression summary again"
   ]
  },
  {
   "cell_type": "code",
   "execution_count": 22,
   "metadata": {},
   "outputs": [
    {
     "data": {
      "text/html": [
       "<table class=\"simpletable\">\n",
       "<caption>Logit Regression Results</caption>\n",
       "<tr>\n",
       "  <th>Dep. Variable:</th>   <td>iris_type_setosa</td> <th>  No. Observations:  </th>  <td>   120</td>  \n",
       "</tr>\n",
       "<tr>\n",
       "  <th>Model:</th>                 <td>Logit</td>      <th>  Df Residuals:      </th>  <td>   118</td>  \n",
       "</tr>\n",
       "<tr>\n",
       "  <th>Method:</th>                 <td>MLE</td>       <th>  Df Model:          </th>  <td>     1</td>  \n",
       "</tr>\n",
       "<tr>\n",
       "  <th>Date:</th>            <td>Thu, 15 Oct 2020</td> <th>  Pseudo R-squ.:     </th>  <td>0.6292</td>  \n",
       "</tr>\n",
       "<tr>\n",
       "  <th>Time:</th>                <td>22:08:39</td>     <th>  Log-Likelihood:    </th> <td> -28.323</td> \n",
       "</tr>\n",
       "<tr>\n",
       "  <th>converged:</th>             <td>True</td>       <th>  LL-Null:           </th> <td> -76.382</td> \n",
       "</tr>\n",
       "<tr>\n",
       "  <th>Covariance Type:</th>     <td>nonrobust</td>    <th>  LLR p-value:       </th> <td>1.083e-22</td>\n",
       "</tr>\n",
       "</table>\n",
       "<table class=\"simpletable\">\n",
       "<tr>\n",
       "        <td></td>          <th>coef</th>     <th>std err</th>      <th>z</th>      <th>P>|z|</th>  <th>[0.025</th>    <th>0.975]</th>  \n",
       "</tr>\n",
       "<tr>\n",
       "  <th>const</th>        <td>   29.2346</td> <td>    5.853</td> <td>    4.994</td> <td> 0.000</td> <td>   17.762</td> <td>   40.707</td>\n",
       "</tr>\n",
       "<tr>\n",
       "  <th>sepal_length</th> <td>   -5.4065</td> <td>    1.077</td> <td>   -5.021</td> <td> 0.000</td> <td>   -7.517</td> <td>   -3.296</td>\n",
       "</tr>\n",
       "</table>"
      ],
      "text/plain": [
       "<class 'statsmodels.iolib.summary.Summary'>\n",
       "\"\"\"\n",
       "                           Logit Regression Results                           \n",
       "==============================================================================\n",
       "Dep. Variable:       iris_type_setosa   No. Observations:                  120\n",
       "Model:                          Logit   Df Residuals:                      118\n",
       "Method:                           MLE   Df Model:                            1\n",
       "Date:                Thu, 15 Oct 2020   Pseudo R-squ.:                  0.6292\n",
       "Time:                        22:08:39   Log-Likelihood:                -28.323\n",
       "converged:                       True   LL-Null:                       -76.382\n",
       "Covariance Type:            nonrobust   LLR p-value:                 1.083e-22\n",
       "================================================================================\n",
       "                   coef    std err          z      P>|z|      [0.025      0.975]\n",
       "--------------------------------------------------------------------------------\n",
       "const           29.2346      5.853      4.994      0.000      17.762      40.707\n",
       "sepal_length    -5.4065      1.077     -5.021      0.000      -7.517      -3.296\n",
       "================================================================================\n",
       "\"\"\""
      ]
     },
     "execution_count": 22,
     "metadata": {},
     "output_type": "execute_result"
    }
   ],
   "source": [
    "log_reg.summary()"
   ]
  },
  {
   "cell_type": "markdown",
   "metadata": {},
   "source": [
    "### Recall our functional form we defined above:\n",
    "##### $log_{b} \\frac{p}{(1 - p)}$ Setosa = $\\beta_{0}$ + $\\beta_{1}$ $SepalLength_{i}$ + $\\epsilon_{i}$"
   ]
  },
  {
   "cell_type": "markdown",
   "metadata": {},
   "source": [
    "### Now we have $\\beta_{0}$ and $\\beta_{1}$ estimates\n",
    "##### Setosa Log Odds = 29.2346 + { -5.4065  X SepalLength}  + $\\epsilon_{i}$"
   ]
  },
  {
   "cell_type": "markdown",
   "metadata": {},
   "source": [
    "### Write a Function that Predicts Probabilities Using Coefficients Only"
   ]
  },
  {
   "cell_type": "code",
   "execution_count": 23,
   "metadata": {},
   "outputs": [],
   "source": [
    "coefficient_dict = extract_logreg_coefficients(log_reg)\n",
    "b0 = coefficient_dict.get('const')\n",
    "b1 = coefficient_dict.get('sepal_length')"
   ]
  },
  {
   "cell_type": "code",
   "execution_count": 25,
   "metadata": {},
   "outputs": [],
   "source": [
    "def predict_setosa_prob(sepal_length, b0 = b0, b1 = b1):\n",
    "    \"\"\"\n",
    "    Predict Setosa probability based on sepal length given an intercept and beta coefficient\n",
    "    Args:\n",
    "        sepal_length (float): float representing sepal length independent variable\n",
    "        b0 (float): float representing regression intercept term\n",
    "        b1 (float): float representing regression beta coefficient for sepal length\n",
    "    Returns:\n",
    "        float\n",
    "    \"\"\"\n",
    "    logit = b0 + (b1 * sepal_length)\n",
    "    probability = 1 / (1 + np.exp(-logit))\n",
    "    return probability"
   ]
  },
  {
   "cell_type": "markdown",
   "metadata": {},
   "source": [
    "### Compare to statsmodels API Prediction to Ensure it Works Correctly\n",
    "#### <font color='orange'>(already done for you)</font>"
   ]
  },
  {
   "cell_type": "code",
   "execution_count": 26,
   "metadata": {},
   "outputs": [
    {
     "data": {
      "text/html": [
       "<div>\n",
       "<style scoped>\n",
       "    .dataframe tbody tr th:only-of-type {\n",
       "        vertical-align: middle;\n",
       "    }\n",
       "\n",
       "    .dataframe tbody tr th {\n",
       "        vertical-align: top;\n",
       "    }\n",
       "\n",
       "    .dataframe thead th {\n",
       "        text-align: right;\n",
       "    }\n",
       "</style>\n",
       "<table border=\"1\" class=\"dataframe\">\n",
       "  <thead>\n",
       "    <tr style=\"text-align: right;\">\n",
       "      <th></th>\n",
       "      <th>function_prob</th>\n",
       "      <th>api_prob</th>\n",
       "    </tr>\n",
       "  </thead>\n",
       "  <tbody>\n",
       "    <tr>\n",
       "      <th>104</th>\n",
       "      <td>0.002711</td>\n",
       "      <td>0.002710</td>\n",
       "    </tr>\n",
       "    <tr>\n",
       "      <th>8</th>\n",
       "      <td>0.995705</td>\n",
       "      <td>0.995704</td>\n",
       "    </tr>\n",
       "    <tr>\n",
       "      <th>61</th>\n",
       "      <td>0.065147</td>\n",
       "      <td>0.065128</td>\n",
       "    </tr>\n",
       "    <tr>\n",
       "      <th>54</th>\n",
       "      <td>0.002711</td>\n",
       "      <td>0.002710</td>\n",
       "    </tr>\n",
       "    <tr>\n",
       "      <th>78</th>\n",
       "      <td>0.039000</td>\n",
       "      <td>0.038989</td>\n",
       "    </tr>\n",
       "  </tbody>\n",
       "</table>\n",
       "</div>"
      ],
      "text/plain": [
       "     function_prob  api_prob\n",
       "104       0.002711  0.002710\n",
       "8         0.995705  0.995704\n",
       "61        0.065147  0.065128\n",
       "54        0.002711  0.002710\n",
       "78        0.039000  0.038989"
      ]
     },
     "execution_count": 26,
     "metadata": {},
     "output_type": "execute_result"
    }
   ],
   "source": [
    "function_predictions = [predict_setosa_prob(x) for x in test_df['sepal_length']]\n",
    "api_predictions = log_reg.predict(sm.add_constant(test_df[['sepal_length']]))\n",
    "prediction_df = pd.DataFrame({'function_prob' : function_predictions,\n",
    "                              'api_prob' : api_predictions})\n",
    "prediction_df.head()"
   ]
  },
  {
   "cell_type": "markdown",
   "metadata": {},
   "source": [
    "### The function works correctly. Differences in the fourth decimal place are due to rounding in the statsmodel package."
   ]
  }
 ],
 "metadata": {
  "@webio": {
   "lastCommId": null,
   "lastKernelId": null
  },
  "kernelspec": {
   "display_name": "Python 3",
   "language": "python",
   "name": "python3"
  },
  "language_info": {
   "codemirror_mode": {
    "name": "ipython",
    "version": 3
   },
   "file_extension": ".py",
   "mimetype": "text/x-python",
   "name": "python",
   "nbconvert_exporter": "python",
   "pygments_lexer": "ipython3",
   "version": "3.7.3"
  }
 },
 "nbformat": 4,
 "nbformat_minor": 2
}
