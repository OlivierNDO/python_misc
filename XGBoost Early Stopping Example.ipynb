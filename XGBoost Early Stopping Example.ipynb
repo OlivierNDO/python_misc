{
 "cells": [
  {
   "cell_type": "markdown",
   "metadata": {},
   "source": [
    "### Import Packages"
   ]
  },
  {
   "cell_type": "code",
   "execution_count": 1,
   "metadata": {},
   "outputs": [],
   "source": [
    "import collections\n",
    "import datetime\n",
    "import itertools\n",
    "import matplotlib.pyplot as plt\n",
    "import numpy as np\n",
    "import pandas as pd\n",
    "import seaborn as sns\n",
    "import sklearn\n",
    "import random\n",
    "import time\n",
    "import xgboost as xgb"
   ]
  },
  {
   "cell_type": "markdown",
   "metadata": {},
   "source": [
    "### File Paths (config_fp...)"
   ]
  },
  {
   "cell_type": "code",
   "execution_count": 2,
   "metadata": {},
   "outputs": [],
   "source": [
    "config_fp_raw_data_dir = 'D:/insurance_data/'\n",
    "config_fp_raw_train_file = 'train.csv'\n",
    "config_fp_raw_test_file = 'test.csv'\n",
    "config_fp_proc_data_dir = 'D:/processed_insurance_data/'"
   ]
  },
  {
   "cell_type": "markdown",
   "metadata": {},
   "source": [
    "### Define Functions and Classes"
   ]
  },
  {
   "cell_type": "code",
   "execution_count": 3,
   "metadata": {},
   "outputs": [],
   "source": [
    "def print_timestamp_message(message, timestamp_format = '%Y-%m-%d %H:%M:%S'):\n",
    "    \"\"\"\n",
    "    Print formatted timestamp followed by custom message\n",
    "    \n",
    "    Args:\n",
    "        message (str): string to concatenate with timestamp\n",
    "        timestamp_format (str): format for datetime string. defaults to '%Y-%m-%d %H:%M:%S'\n",
    "    \"\"\"\n",
    "    ts_string = datetime.datetime.fromtimestamp(time.time()).strftime(timestamp_format)\n",
    "    print(f'{ts_string}: {message}')\n",
    "\n",
    "\n",
    "def common_list_values(list_one, list_two):\n",
    "    \"\"\"\n",
    "    Return a list of unique values shared by two lists\n",
    "    Args:\n",
    "        list_one (list): first list of values\n",
    "        list_two (list): second list of values\n",
    "    \"\"\"\n",
    "    return list(set(list_one).intersection(list_two))\n",
    "\n",
    "\n",
    "def actual_vs_pred_deciles(actual, predicted):\n",
    "    \"\"\"\n",
    "    Calculate average predicted vs. actual loss for every\n",
    "    decile of actual loss values. Returns a pandas DataFrame\n",
    "    with columns 'Actual_Decile', 'Actual_Value', 'Predicted_Value'\n",
    "    Args:\n",
    "        actual : actual values\n",
    "        predicted : predicted values\n",
    "    \"\"\"\n",
    "    actual_deciles = [ad for ad in pd.qcut(actual, 10, labels = False)]\n",
    "    output_df = pd.DataFrame({'Actual_Decile' : actual_deciles,\n",
    "                              'Actual_Value' : actual,\n",
    "                              'Predicted_Value' : predicted}).\\\n",
    "    groupby(['Actual_Decile'], as_index = False).\\\n",
    "    agg({'Actual_Value' : 'mean',\n",
    "         'Predicted_Value' : 'mean'})\n",
    "    return output_df\n",
    "\n",
    "\n",
    "def create_partition_column(pandas_df, identifier_col, n_partitions = 10, partition_colname = 'partition'):\n",
    "    \"\"\"\n",
    "    Add a partition column to a pandas DataFrame that ensures identifiers only occur in a single fold\n",
    "    Args:\n",
    "        pandas_df (pandas.DataFrame): DataFrame object to modify\n",
    "        identifier_col (str): existing column with identifiers (e.g. policy number)\n",
    "        n_partitions (int): number of partitions to create\n",
    "        partition_colname (str): new column name to create\n",
    "    \"\"\"\n",
    "    unique_ids = list(set(pandas_df[identifier_col]))\n",
    "    random.shuffle(unique_ids)\n",
    "    unique_partitions = list(range(1, n_partitions + 1, 1))\n",
    "    partitions = unique_partitions * int(np.ceil(len(unique_ids) / len(unique_partitions)))\n",
    "    id_partition_dict = dict(zip(unique_ids, partitions[:len(unique_ids)]))\n",
    "    print(f'Creating field {partition_colname} with {n_partitions} partitions')\n",
    "    pandas_df[partition_colname] = [id_partition_dict.get(x) for x in pandas_df[identifier_col]]\n",
    "    \n",
    "\n",
    "def recode_sparse_values(lst, min_freq = 0.01, recode_value = 'RECODE'):\n",
    "    \"\"\"\n",
    "    Recode values in iterable object below some percentage frequency\n",
    "    Args:\n",
    "        lst (list): ... or other iterable object\n",
    "        min_freq (float): minimum percentage frequency to not be recoded\n",
    "        recode_value (str): string to replace values below specified frequency\n",
    "    Returns:\n",
    "        list\n",
    "    \"\"\"\n",
    "    key_values = collections.Counter(lst).keys()\n",
    "    percent_count_values = [v / len(lst) for v in collections.Counter(lst).values()]\n",
    "    keep_values = [kv for i, kv in enumerate(key_values) if percent_count_values[i] > min_freq]\n",
    "    return_values = [x if x in keep_values else recode_value for x in lst]\n",
    "    return return_values\n",
    "\n",
    "\n",
    "class TrainTestTransformer:\n",
    "    def __init__(self,\n",
    "                 df_train, df_test, y_col, categ_cols, cont_cols,\n",
    "                 categ_min_freq = 0.01, categ_recode_value = 'RECODE'):\n",
    "        self.df_train = df_train\n",
    "        self.df_test = df_test\n",
    "        self.y_col = y_col\n",
    "        self.categ_cols = categ_cols\n",
    "        self.cont_cols = cont_cols\n",
    "        self.categ_min_freq = categ_min_freq\n",
    "        self.categ_recode_value = categ_recode_value\n",
    "        \n",
    "    def recode_sparse_categoricals(self):\n",
    "        temp_train_categ_df = pd.DataFrame()\n",
    "        temp_test_categ_df = pd.DataFrame()\n",
    "        for c in self.categ_cols:\n",
    "            temp_train_categ_df[c] = recode_sparse_values(self.df_train[c],\n",
    "                                                          min_freq = self.categ_min_freq,\n",
    "                                                          recode_value = self.categ_recode_value)\n",
    "            train_vals = set(list(temp_train_categ_df[c]))\n",
    "            temp_test_categ_df[c] = [v if v in train_vals else self.categ_recode_value for v in self.df_test[c]]\n",
    "            \n",
    "        return temp_train_categ_df, temp_test_categ_df[temp_train_categ_df.columns]\n",
    "        \n",
    "    def label_encode_categoricals(self):\n",
    "        recoded_train_categ_df, recoded_test_categ_df = self.recode_sparse_categoricals()\n",
    "        dummy_train = pd.get_dummies(recoded_train_categ_df)\n",
    "        dummy_test = pd.get_dummies(recoded_test_categ_df)\n",
    "        common_cols = common_list_values(dummy_train.columns, dummy_test.columns)\n",
    "        return dummy_train[common_cols], dummy_test[common_cols]\n",
    "    \n",
    "    def scale_continuous_fields(self):\n",
    "        temp_train_contin_df = pd.DataFrame()\n",
    "        temp_test_contin_df = pd.DataFrame()\n",
    "        for c in self.cont_cols:\n",
    "            train_mean = np.mean(self.df_train[c])\n",
    "            train_stdev = np.std(self.df_train[c])\n",
    "            temp_train_contin_df[c] = [(x - train_mean) / train_stdev if not np.isnan(x) else 0 for x in self.df_train[c]]\n",
    "            temp_test_contin_df[c] = [(x - train_mean) / train_stdev if not np.isnan(x) else 0 for x in self.df_test[c]]\n",
    "        return temp_train_contin_df, temp_test_contin_df\n",
    "    \n",
    "    def transform_train_test_xcols(self):\n",
    "        cont_train, cont_test = self.scale_continuous_fields()\n",
    "        categ_train, categ_test = self.label_encode_categoricals()\n",
    "        xy_cols = [self.y_col] + self.categ_cols + self.cont_cols\n",
    "        non_xy_cols = [c for c in self.df_train.columns if c not in xy_cols]\n",
    "        train_x = pd.concat([cont_train, categ_train], axis = 1)\n",
    "        test_x = pd.concat([cont_test, categ_test], axis = 1)\n",
    "        return train_x, test_x"
   ]
  },
  {
   "cell_type": "markdown",
   "metadata": {},
   "source": [
    "### Read Data and Define Columns"
   ]
  },
  {
   "cell_type": "markdown",
   "metadata": {},
   "source": [
    "##### Read Dataset"
   ]
  },
  {
   "cell_type": "code",
   "execution_count": 4,
   "metadata": {},
   "outputs": [],
   "source": [
    "loss_cost_df = pd.read_csv(f'{config_fp_raw_data_dir}{config_fp_raw_train_file}')"
   ]
  },
  {
   "cell_type": "markdown",
   "metadata": {},
   "source": [
    "##### List of Categorical, Continuous, and Dependent Fields"
   ]
  },
  {
   "cell_type": "code",
   "execution_count": 5,
   "metadata": {},
   "outputs": [],
   "source": [
    "categ_x_cols = [c for c in loss_cost_df.columns if 'cat' in c.lower()]\n",
    "cont_x_cols = [c for c in loss_cost_df.columns if 'cont' in c.lower()]\n",
    "y_col = 'loss'\n",
    "partition_col = 'partition'\n",
    "id_col = 'id'"
   ]
  },
  {
   "cell_type": "markdown",
   "metadata": {},
   "source": [
    "### Apply Transformations After Splitting Train and Test"
   ]
  },
  {
   "cell_type": "markdown",
   "metadata": {},
   "source": [
    "##### Create 10-fold Partitions"
   ]
  },
  {
   "cell_type": "code",
   "execution_count": 6,
   "metadata": {},
   "outputs": [
    {
     "name": "stdout",
     "output_type": "stream",
     "text": [
      "Creating field partition with 10 partitions\n"
     ]
    }
   ],
   "source": [
    "create_partition_column(loss_cost_df, 'id')"
   ]
  },
  {
   "cell_type": "markdown",
   "metadata": {},
   "source": [
    "##### Apply Transformations to Train and Test"
   ]
  },
  {
   "cell_type": "code",
   "execution_count": 7,
   "metadata": {},
   "outputs": [],
   "source": [
    "transformer = TrainTestTransformer(df_train = loss_cost_df[loss_cost_df.partition < 8],\n",
    "                                   df_test = loss_cost_df[loss_cost_df.partition >= 8],\n",
    "                                   y_col = y_col,\n",
    "                                   categ_cols = categ_x_cols,\n",
    "                                   cont_cols = cont_x_cols,\n",
    "                                   categ_min_freq = 0.05)\n",
    "\n",
    "train_x, test_x = transformer.transform_train_test_xcols()"
   ]
  },
  {
   "cell_type": "markdown",
   "metadata": {},
   "source": [
    "##### Create Train and Test 'Y' and Identifier DataFrames"
   ]
  },
  {
   "cell_type": "code",
   "execution_count": 8,
   "metadata": {},
   "outputs": [],
   "source": [
    "train_y = loss_cost_df[loss_cost_df.partition < 8][[y_col]]\n",
    "test_y = loss_cost_df[loss_cost_df.partition >= 8][[y_col]]\n",
    "train_id = loss_cost_df[loss_cost_df.partition < 8][[id_col]]"
   ]
  },
  {
   "cell_type": "markdown",
   "metadata": {},
   "source": [
    "##### Split Training Set into Train and Validation (for early stopping)"
   ]
  },
  {
   "cell_type": "code",
   "execution_count": 9,
   "metadata": {},
   "outputs": [],
   "source": [
    "train_x, valid_x, train_y, valid_y = sklearn.model_selection.train_test_split(train_x, train_y, test_size = 0.2, random_state = 11092020)"
   ]
  },
  {
   "cell_type": "markdown",
   "metadata": {},
   "source": [
    "### Fit XGBoost Model on Training Set with Early Stopping"
   ]
  },
  {
   "cell_type": "markdown",
   "metadata": {},
   "source": [
    "##### Initial Hyperparameters"
   ]
  },
  {
   "cell_type": "code",
   "execution_count": 10,
   "metadata": {},
   "outputs": [],
   "source": [
    "param_dict = {'objective' : 'reg:tweedie',\n",
    "              'eta' : 0.03,\n",
    "              'min_child_weight' : 8,\n",
    "              'subsample' : 0.7,\n",
    "              'colsample_bytree' : 0.6,\n",
    "              'max_depth' : 6,\n",
    "              'early_stopping_rounds' : 15,\n",
    "              'stopping_metric' : 'gini'}"
   ]
  },
  {
   "cell_type": "markdown",
   "metadata": {},
   "source": [
    "##### Create XGBoost DMatrix Objects and Validation Set Watchlist"
   ]
  },
  {
   "cell_type": "code",
   "execution_count": 11,
   "metadata": {},
   "outputs": [
    {
     "name": "stdout",
     "output_type": "stream",
     "text": [
      "[16:27:24] WARNING: C:\\Users\\Administrator\\workspace\\xgboost-win64_master\\src\\learner.cc:537: \n",
      "Parameters: { early_stopping_rounds, stopping_metric } might not be used.\n",
      "\n",
      "  This may not be accurate due to some parameters are only used in language bindings but\n",
      "  passed down to XGBoost core.  Or some parameters are not used but slip through this\n",
      "  verification. Please open an issue if you find above cases.\n",
      "\n",
      "\n"
     ]
    }
   ],
   "source": [
    "dat_train = xgb.DMatrix(train_x, label = train_y)\n",
    "dat_valid = xgb.DMatrix(valid_x, label = valid_y)\n",
    "watchlist = [(dat_train, 'train'), (dat_valid, 'valid')]\n",
    "\n",
    "xgb_trn = xgb.train(params = param_dict,\n",
    "                    dtrain = dat_train,\n",
    "                    num_boost_round = 5000,\n",
    "                    evals = watchlist,\n",
    "                    early_stopping_rounds = 12,\n",
    "                    verbose_eval = False)"
   ]
  },
  {
   "cell_type": "markdown",
   "metadata": {},
   "source": [
    "### Predict on Test Set and Evaluate Results"
   ]
  },
  {
   "cell_type": "code",
   "execution_count": 12,
   "metadata": {},
   "outputs": [],
   "source": [
    "pred = xgb_trn.predict(xgb.DMatrix(test_x))"
   ]
  },
  {
   "cell_type": "markdown",
   "metadata": {},
   "source": [
    "##### Create Mean Actual vs. Predicted Numbers"
   ]
  },
  {
   "cell_type": "code",
   "execution_count": 13,
   "metadata": {},
   "outputs": [
    {
     "data": {
      "image/png": "[encoded data removed]",
      "text/plain": [
       "<Figure size 432x288 with 1 Axes>"
      ]
     },
     "metadata": {
      "needs_background": "light"
     },
     "output_type": "display_data"
    }
   ],
   "source": [
    "avp_df = actual_vs_pred_deciles(actual = test_y[y_col], predicted = pred)\n",
    "\n",
    "plt.plot(avp_df['Actual_Decile'], avp_df['Actual_Value'], color = 'orange', label = 'Actual', marker = 'o')\n",
    "plt.plot(avp_df['Actual_Decile'], avp_df['Predicted_Value'], color = 'blue', label = 'Predicted', marker = 'o')\n",
    "plt.xlabel('Decile of Actual Loss')\n",
    "plt.title('Actual vs. Predicted Plot - Test Set')\n",
    "plt.legend()\n",
    "plt.show()"
   ]
  },
  {
   "cell_type": "code",
   "execution_count": null,
   "metadata": {},
   "outputs": [],
   "source": []
  },
  {
   "cell_type": "code",
   "execution_count": null,
   "metadata": {},
   "outputs": [],
   "source": []
  }
 ],
 "metadata": {
  "@webio": {
   "lastCommId": null,
   "lastKernelId": null
  },
  "kernelspec": {
   "display_name": "Python 3",
   "language": "python",
   "name": "python3"
  },
  "language_info": {
   "codemirror_mode": {
    "name": "ipython",
    "version": 3
   },
   "file_extension": ".py",
   "mimetype": "text/x-python",
   "name": "python",
   "nbconvert_exporter": "python",
   "pygments_lexer": "ipython3",
   "version": "3.7.3"
  }
 },
 "nbformat": 4,
 "nbformat_minor": 2
}
