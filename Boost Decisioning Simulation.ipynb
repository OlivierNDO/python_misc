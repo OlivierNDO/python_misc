{
 "cells": [
  {
   "cell_type": "markdown",
   "metadata": {},
   "source": [
    "### Import Packages"
   ]
  },
  {
   "cell_type": "code",
   "execution_count": 1,
   "metadata": {},
   "outputs": [],
   "source": [
    "import collections\n",
    "import datetime\n",
    "import itertools\n",
    "import matplotlib.pyplot as plt\n",
    "import numpy as np\n",
    "import pandas as pd\n",
    "import random\n",
    "import seaborn as sns\n",
    "import time\n",
    "import warnings\n",
    "warnings.filterwarnings('ignore')"
   ]
  },
  {
   "cell_type": "markdown",
   "metadata": {},
   "source": [
    "### Define Functions"
   ]
  },
  {
   "cell_type": "code",
   "execution_count": 2,
   "metadata": {},
   "outputs": [],
   "source": [
    "def get_random_boost_probs(boost_values = list(range(0,50,5)), intercept_range = [0.4, 0.55], supplier_name = ''):\n",
    "    \"\"\"\n",
    "    Generate random acceptance probabilities given a range of boost values\n",
    "    that follow a 2nd order polynomial pattern\n",
    "    Args:\n",
    "        boost_values (list): list of dollar values used in boost\n",
    "        intercept_range (list): lower and upper bounds to use for b0 intercept\n",
    "        supplier_name (str): name of simulated supplier\n",
    "    Returns:\n",
    "        pandas.DataFrame object with fields 'boost_dollars', 'accept_prob', and 'supplier'\n",
    "    \"\"\"\n",
    "    b0 = random.choice(np.linspace(intercept_range[0], intercept_range[1], 100))\n",
    "    max_b1 = ((1 - b0) / max(boost_values))\n",
    "    b1 = random.choice(np.linspace(0, max_b1, 100))\n",
    "    max_b2 = (1 - (b0 + (b1 * max(boost_values)))) / max(boost_values)**2\n",
    "    b2 = random.choice(np.linspace(0, max_b2, 100))\n",
    "    probs = []\n",
    "    for x in boost_values:\n",
    "        p = b0 + (b1 * x) + (b2 * x**2)\n",
    "        probs.append(p)\n",
    "    output_df = pd.DataFrame({'boost_dollars' : boost_values, 'accept_prob' : probs})\n",
    "    output_df['supplier'] = supplier_name\n",
    "    return output_df\n",
    "\n",
    "\n",
    "def get_random_supplier_info(supplier_names, base_cost_range = [80, 130]):\n",
    "    \"\"\"\n",
    "    Generate a pandas.DataFrame object with costs in a given range and eta probabilities\n",
    "    0 to 1 representing the likelihood of completing service in under 45 minutes\n",
    "    Args:\n",
    "        supplier_names (list): list of supplier names\n",
    "        base_cost_range (list): minimum and maximum baseline cost for each supplier\n",
    "    Returns:\n",
    "        pandas.DataFrame object with fields 'supplier', 'base_cost', 'eta_prob'\n",
    "    \"\"\"\n",
    "    eta_probs = [random.choice(np.linspace(0,1,100)) for i in range(len(supplier_names))]\n",
    "    base_cost = [random.choice(np.linspace(base_cost_range[0], base_cost_range[1], 100)) for i in range(len(supplier_names))]\n",
    "    output_df = pd.DataFrame({'supplier' : supplier_names, 'base_cost' : base_cost, 'eta_prob' : eta_probs})\n",
    "    return output_df\n"
   ]
  },
  {
   "cell_type": "markdown",
   "metadata": {},
   "source": [
    "### Generate (Artificial) Supplier & Boost Data"
   ]
  },
  {
   "cell_type": "markdown",
   "metadata": {},
   "source": [
    "##### Define Supplier Cost and Likelihood of < 45 minute service at each boost level"
   ]
  },
  {
   "cell_type": "code",
   "execution_count": 3,
   "metadata": {},
   "outputs": [],
   "source": [
    "suppliers = ['Supplier A', 'Supplier B', 'Supplier C']\n",
    "boost_prob_df = pd.concat([get_random_boost_probs(supplier_name = s) for s in suppliers], axis = 0)\n",
    "supplier_info_df = get_random_supplier_info(supplier_names = suppliers)\n",
    "supplier_boost_info_df = pd.merge(supplier_info_df, boost_prob_df, on = 'supplier', how = 'left')\n",
    "supplier_boost_info_df['total_cost'] = supplier_boost_info_df['base_cost'] + supplier_boost_info_df['boost_dollars']"
   ]
  },
  {
   "cell_type": "markdown",
   "metadata": {},
   "source": [
    "#### Visualize supplier acceptance likelihood based on boost dollars"
   ]
  },
  {
   "cell_type": "code",
   "execution_count": 4,
   "metadata": {},
   "outputs": [
    {
     "data": {
      "text/plain": [
       "Text(0.5, 0, 'Boost Dollars')"
      ]
     },
     "execution_count": 4,
     "metadata": {},
     "output_type": "execute_result"
    },
    {
     "data": {
      "image/png": "[encoded data removed]",
      "text/plain": [
       "<Figure size 432x288 with 1 Axes>"
      ]
     },
     "metadata": {
      "needs_background": "light"
     },
     "output_type": "display_data"
    }
   ],
   "source": [
    "sns.lineplot(x = 'boost_dollars', y = 'accept_prob', hue = 'supplier', marker = 'o',  data = boost_prob_df)\n",
    "plt.ylabel('Acceptance Likelihood')\n",
    "plt.xlabel('Boost Dollars')"
   ]
  },
  {
   "cell_type": "markdown",
   "metadata": {},
   "source": [
    "#### Create eta per dollar measure"
   ]
  },
  {
   "cell_type": "code",
   "execution_count": 5,
   "metadata": {},
   "outputs": [],
   "source": [
    "supplier_boost_info_df['eta_per_dollar'] = supplier_boost_info_df['eta_prob'] / supplier_boost_info_df['total_cost']"
   ]
  },
  {
   "cell_type": "markdown",
   "metadata": {},
   "source": [
    "### Use Simulations to Determine How Much to Offer #1 Supplier Based on Conditional Outcomes\n",
    "\n",
    "Constraints & Assumptions:\n",
    "- Supplier/Boost combinations are initially ranked by (ETA probability / total cost)\n",
    "- You can only make each supplier a single offer\n",
    "- If a supplier does not accept the offer, you move to the next most preferred supplier\n",
    "- If that supplier does not accept, you move to the next, and so on ...\n",
    "\n",
    "\n",
    "Challenge is to define the following:\n",
    "- How much do you offer the first preferred supplier? (avg. simulated eta / avg. simulated cost)\n",
    "- If that supplier declines, how much do you offer the second most preferred, etc.\n",
    "- ... to maximize ETA per dollar"
   ]
  },
  {
   "cell_type": "markdown",
   "metadata": {},
   "source": [
    "##### Simulate outcomes for rank ordered choices at each boost level"
   ]
  },
  {
   "cell_type": "code",
   "execution_count": 6,
   "metadata": {},
   "outputs": [
    {
     "data": {
      "text/html": [
       "<div>\n",
       "<style scoped>\n",
       "    .dataframe tbody tr th:only-of-type {\n",
       "        vertical-align: middle;\n",
       "    }\n",
       "\n",
       "    .dataframe tbody tr th {\n",
       "        vertical-align: top;\n",
       "    }\n",
       "\n",
       "    .dataframe thead th {\n",
       "        text-align: right;\n",
       "    }\n",
       "</style>\n",
       "<table border=\"1\" class=\"dataframe\">\n",
       "  <thead>\n",
       "    <tr style=\"text-align: right;\">\n",
       "      <th></th>\n",
       "      <th>supplier</th>\n",
       "      <th>base_cost</th>\n",
       "      <th>eta_prob</th>\n",
       "      <th>boost_dollars</th>\n",
       "      <th>accept_prob</th>\n",
       "      <th>total_cost</th>\n",
       "      <th>eta_per_dollar</th>\n",
       "    </tr>\n",
       "  </thead>\n",
       "  <tbody>\n",
       "    <tr>\n",
       "      <th>0</th>\n",
       "      <td>Supplier A</td>\n",
       "      <td>84.040404</td>\n",
       "      <td>0.505051</td>\n",
       "      <td>0</td>\n",
       "      <td>0.524242</td>\n",
       "      <td>84.040404</td>\n",
       "      <td>0.006010</td>\n",
       "    </tr>\n",
       "    <tr>\n",
       "      <th>1</th>\n",
       "      <td>Supplier A</td>\n",
       "      <td>84.040404</td>\n",
       "      <td>0.505051</td>\n",
       "      <td>5</td>\n",
       "      <td>0.551875</td>\n",
       "      <td>89.040404</td>\n",
       "      <td>0.005672</td>\n",
       "    </tr>\n",
       "    <tr>\n",
       "      <th>2</th>\n",
       "      <td>Supplier A</td>\n",
       "      <td>84.040404</td>\n",
       "      <td>0.505051</td>\n",
       "      <td>10</td>\n",
       "      <td>0.582443</td>\n",
       "      <td>94.040404</td>\n",
       "      <td>0.005371</td>\n",
       "    </tr>\n",
       "    <tr>\n",
       "      <th>3</th>\n",
       "      <td>Supplier A</td>\n",
       "      <td>84.040404</td>\n",
       "      <td>0.505051</td>\n",
       "      <td>15</td>\n",
       "      <td>0.615949</td>\n",
       "      <td>99.040404</td>\n",
       "      <td>0.005099</td>\n",
       "    </tr>\n",
       "    <tr>\n",
       "      <th>4</th>\n",
       "      <td>Supplier A</td>\n",
       "      <td>84.040404</td>\n",
       "      <td>0.505051</td>\n",
       "      <td>20</td>\n",
       "      <td>0.652390</td>\n",
       "      <td>104.040404</td>\n",
       "      <td>0.004854</td>\n",
       "    </tr>\n",
       "    <tr>\n",
       "      <th>5</th>\n",
       "      <td>Supplier A</td>\n",
       "      <td>84.040404</td>\n",
       "      <td>0.505051</td>\n",
       "      <td>25</td>\n",
       "      <td>0.691768</td>\n",
       "      <td>109.040404</td>\n",
       "      <td>0.004632</td>\n",
       "    </tr>\n",
       "    <tr>\n",
       "      <th>6</th>\n",
       "      <td>Supplier A</td>\n",
       "      <td>84.040404</td>\n",
       "      <td>0.505051</td>\n",
       "      <td>30</td>\n",
       "      <td>0.734083</td>\n",
       "      <td>114.040404</td>\n",
       "      <td>0.004429</td>\n",
       "    </tr>\n",
       "    <tr>\n",
       "      <th>7</th>\n",
       "      <td>Supplier A</td>\n",
       "      <td>84.040404</td>\n",
       "      <td>0.505051</td>\n",
       "      <td>35</td>\n",
       "      <td>0.779334</td>\n",
       "      <td>119.040404</td>\n",
       "      <td>0.004243</td>\n",
       "    </tr>\n",
       "    <tr>\n",
       "      <th>8</th>\n",
       "      <td>Supplier A</td>\n",
       "      <td>84.040404</td>\n",
       "      <td>0.505051</td>\n",
       "      <td>40</td>\n",
       "      <td>0.827522</td>\n",
       "      <td>124.040404</td>\n",
       "      <td>0.004072</td>\n",
       "    </tr>\n",
       "    <tr>\n",
       "      <th>9</th>\n",
       "      <td>Supplier A</td>\n",
       "      <td>84.040404</td>\n",
       "      <td>0.505051</td>\n",
       "      <td>45</td>\n",
       "      <td>0.878646</td>\n",
       "      <td>129.040404</td>\n",
       "      <td>0.003914</td>\n",
       "    </tr>\n",
       "  </tbody>\n",
       "</table>\n",
       "</div>"
      ],
      "text/plain": [
       "     supplier  base_cost  eta_prob  boost_dollars  accept_prob  total_cost  \\\n",
       "0  Supplier A  84.040404  0.505051              0     0.524242   84.040404   \n",
       "1  Supplier A  84.040404  0.505051              5     0.551875   89.040404   \n",
       "2  Supplier A  84.040404  0.505051             10     0.582443   94.040404   \n",
       "3  Supplier A  84.040404  0.505051             15     0.615949   99.040404   \n",
       "4  Supplier A  84.040404  0.505051             20     0.652390  104.040404   \n",
       "5  Supplier A  84.040404  0.505051             25     0.691768  109.040404   \n",
       "6  Supplier A  84.040404  0.505051             30     0.734083  114.040404   \n",
       "7  Supplier A  84.040404  0.505051             35     0.779334  119.040404   \n",
       "8  Supplier A  84.040404  0.505051             40     0.827522  124.040404   \n",
       "9  Supplier A  84.040404  0.505051             45     0.878646  129.040404   \n",
       "\n",
       "   eta_per_dollar  \n",
       "0        0.006010  \n",
       "1        0.005672  \n",
       "2        0.005371  \n",
       "3        0.005099  \n",
       "4        0.004854  \n",
       "5        0.004632  \n",
       "6        0.004429  \n",
       "7        0.004243  \n",
       "8        0.004072  \n",
       "9        0.003914  "
      ]
     },
     "execution_count": 6,
     "metadata": {},
     "output_type": "execute_result"
    }
   ],
   "source": [
    "supplier_ranking = supplier_boost_info_df.sort_values('eta_per_dollar', ascending = False)\n",
    "rank_ordered_suppliers = list(pd.unique(supplier_ranking['supplier']))\n",
    "supplier_ranking.head(10)"
   ]
  },
  {
   "cell_type": "code",
   "execution_count": 7,
   "metadata": {},
   "outputs": [
    {
     "data": {
      "text/plain": [
       "['Supplier A', 'Supplier C', 'Supplier B']"
      ]
     },
     "execution_count": 7,
     "metadata": {},
     "output_type": "execute_result"
    }
   ],
   "source": [
    "rank_ordered_suppliers"
   ]
  },
  {
   "cell_type": "markdown",
   "metadata": {},
   "source": [
    "##### Run simulation"
   ]
  },
  {
   "cell_type": "code",
   "execution_count": 8,
   "metadata": {},
   "outputs": [],
   "source": [
    "def run_simulation(dframe, ordered_list, accept_col = 'accept_prob',\n",
    "                   boost_col = 'boost_dollars', sort_col = 'eta_per_dollar', supplier_col = 'supplier',\n",
    "                   outcome_cols = ['supplier', 'base_cost', 'boost_dollars', 'total_cost', 'eta_prob']):\n",
    "    \n",
    "    dframe_copy = dframe.copy().sort_values(sort_col, ascending = False)\n",
    "    remaining_suppliers = ordered_list.copy()\n",
    "    boost_amounts = sorted(list(set(dframe_copy[boost_col])))\n",
    "    \n",
    "    \n",
    "    i = 0\n",
    "    outcome_list = []\n",
    "    # Iterate over boost amounts\n",
    "    for bamt in boost_amounts:\n",
    "        sub_df = dframe_copy[(dframe_copy[supplier_col] == ordered_list[i]) & (dframe_copy[boost_col] == bamt)]\n",
    "        prob = list(sub_df[accept_col])[0]\n",
    "        \n",
    "        # Simulate supplier decision\n",
    "        accept = random.choice(np.linspace(0,1,1000)) < prob\n",
    "        if accept:\n",
    "            outcome_df = sub_df[outcome_cols]\n",
    "            outcome_df['decision'] = 'accept'\n",
    "            outcome_list.append(outcome_df)\n",
    "            break\n",
    "        else:\n",
    "            outcome_df = sub_df[outcome_cols]\n",
    "            outcome_df['decision'] = 'decline'\n",
    "            outcome_list.append(outcome_df)\n",
    "            sub_df = dframe_copy[(dframe_copy[supplier_col] == ordered_list[i+1]) & (dframe_copy[boost_col] == bamt)]\n",
    "            prob = list(sub_df[accept_col])[0]\n",
    "            # Simulate supplier decision\n",
    "            accept = random.choice(np.linspace(0,1,1000)) < prob\n",
    "            if accept:\n",
    "                outcome_df = sub_df[outcome_cols]\n",
    "                outcome_df['decision'] = 'accept'\n",
    "                outcome_list.append(outcome_df)\n",
    "                break\n",
    "            else:\n",
    "                outcome_df = sub_df[outcome_cols]\n",
    "                outcome_df['decision'] = 'decline'\n",
    "                outcome_list.append(outcome_df)\n",
    "                sub_df = dframe_copy[(dframe_copy[supplier_col] == ordered_list[i+2]) & (dframe_copy[boost_col] == bamt)]\n",
    "                prob = list(sub_df[accept_col])[0]\n",
    "                # Simulate supplier decision\n",
    "                accept = random.choice(np.linspace(0,1,1000)) < prob\n",
    "                if accept:\n",
    "                    outcome_df = sub_df[outcome_cols]\n",
    "                    outcome_df['decision'] = 'accept'\n",
    "                    outcome_list.append(outcome_df)\n",
    "                    break\n",
    "                else:\n",
    "                    outcome_df = sub_df[outcome_cols]\n",
    "                    outcome_df['decision'] = 'decline'\n",
    "                    outcome_list.append(outcome_df)\n",
    "        \n",
    "    \n",
    "    master_outcome_df = pd.concat(outcome_list, axis = 0)\n",
    "    return master_outcome_df"
   ]
  },
  {
   "cell_type": "code",
   "execution_count": 9,
   "metadata": {},
   "outputs": [],
   "source": [
    "n_sim = 100\n",
    "simulation_list = []    \n",
    "\n",
    "for i in range(1, (n_sim + 1)):\n",
    "    simulation_df = run_simulation(dframe = supplier_ranking, ordered_list = rank_ordered_suppliers)\n",
    "    simulation_df['simulation_number'] = i\n",
    "    simulation_list.append(simulation_df)\n",
    "\n",
    "master_simulation_df = pd.concat(simulation_list, axis = 0)"
   ]
  },
  {
   "cell_type": "markdown",
   "metadata": {},
   "source": [
    "### Look at a few simulations"
   ]
  },
  {
   "cell_type": "code",
   "execution_count": 10,
   "metadata": {},
   "outputs": [
    {
     "data": {
      "text/html": [
       "<div>\n",
       "<style scoped>\n",
       "    .dataframe tbody tr th:only-of-type {\n",
       "        vertical-align: middle;\n",
       "    }\n",
       "\n",
       "    .dataframe tbody tr th {\n",
       "        vertical-align: top;\n",
       "    }\n",
       "\n",
       "    .dataframe thead th {\n",
       "        text-align: right;\n",
       "    }\n",
       "</style>\n",
       "<table border=\"1\" class=\"dataframe\">\n",
       "  <thead>\n",
       "    <tr style=\"text-align: right;\">\n",
       "      <th></th>\n",
       "      <th>supplier</th>\n",
       "      <th>base_cost</th>\n",
       "      <th>boost_dollars</th>\n",
       "      <th>total_cost</th>\n",
       "      <th>eta_prob</th>\n",
       "      <th>decision</th>\n",
       "      <th>simulation_number</th>\n",
       "    </tr>\n",
       "  </thead>\n",
       "  <tbody>\n",
       "    <tr>\n",
       "      <th>0</th>\n",
       "      <td>Supplier A</td>\n",
       "      <td>84.040404</td>\n",
       "      <td>0</td>\n",
       "      <td>84.040404</td>\n",
       "      <td>0.505051</td>\n",
       "      <td>accept</td>\n",
       "      <td>1</td>\n",
       "    </tr>\n",
       "  </tbody>\n",
       "</table>\n",
       "</div>"
      ],
      "text/plain": [
       "     supplier  base_cost  boost_dollars  total_cost  eta_prob decision  \\\n",
       "0  Supplier A  84.040404              0   84.040404  0.505051   accept   \n",
       "\n",
       "   simulation_number  \n",
       "0                  1  "
      ]
     },
     "execution_count": 10,
     "metadata": {},
     "output_type": "execute_result"
    }
   ],
   "source": [
    "master_simulation_df[master_simulation_df.simulation_number == 1]"
   ]
  },
  {
   "cell_type": "code",
   "execution_count": 11,
   "metadata": {},
   "outputs": [
    {
     "data": {
      "text/html": [
       "<div>\n",
       "<style scoped>\n",
       "    .dataframe tbody tr th:only-of-type {\n",
       "        vertical-align: middle;\n",
       "    }\n",
       "\n",
       "    .dataframe tbody tr th {\n",
       "        vertical-align: top;\n",
       "    }\n",
       "\n",
       "    .dataframe thead th {\n",
       "        text-align: right;\n",
       "    }\n",
       "</style>\n",
       "<table border=\"1\" class=\"dataframe\">\n",
       "  <thead>\n",
       "    <tr style=\"text-align: right;\">\n",
       "      <th></th>\n",
       "      <th>supplier</th>\n",
       "      <th>base_cost</th>\n",
       "      <th>boost_dollars</th>\n",
       "      <th>total_cost</th>\n",
       "      <th>eta_prob</th>\n",
       "      <th>decision</th>\n",
       "      <th>simulation_number</th>\n",
       "    </tr>\n",
       "  </thead>\n",
       "  <tbody>\n",
       "    <tr>\n",
       "      <th>0</th>\n",
       "      <td>Supplier A</td>\n",
       "      <td>84.040404</td>\n",
       "      <td>0</td>\n",
       "      <td>84.040404</td>\n",
       "      <td>0.505051</td>\n",
       "      <td>accept</td>\n",
       "      <td>2</td>\n",
       "    </tr>\n",
       "  </tbody>\n",
       "</table>\n",
       "</div>"
      ],
      "text/plain": [
       "     supplier  base_cost  boost_dollars  total_cost  eta_prob decision  \\\n",
       "0  Supplier A  84.040404              0   84.040404  0.505051   accept   \n",
       "\n",
       "   simulation_number  \n",
       "0                  2  "
      ]
     },
     "execution_count": 11,
     "metadata": {},
     "output_type": "execute_result"
    }
   ],
   "source": [
    "master_simulation_df[master_simulation_df.simulation_number == 2]"
   ]
  },
  {
   "cell_type": "code",
   "execution_count": 12,
   "metadata": {},
   "outputs": [
    {
     "data": {
      "text/html": [
       "<div>\n",
       "<style scoped>\n",
       "    .dataframe tbody tr th:only-of-type {\n",
       "        vertical-align: middle;\n",
       "    }\n",
       "\n",
       "    .dataframe tbody tr th {\n",
       "        vertical-align: top;\n",
       "    }\n",
       "\n",
       "    .dataframe thead th {\n",
       "        text-align: right;\n",
       "    }\n",
       "</style>\n",
       "<table border=\"1\" class=\"dataframe\">\n",
       "  <thead>\n",
       "    <tr style=\"text-align: right;\">\n",
       "      <th></th>\n",
       "      <th>supplier</th>\n",
       "      <th>base_cost</th>\n",
       "      <th>boost_dollars</th>\n",
       "      <th>total_cost</th>\n",
       "      <th>eta_prob</th>\n",
       "      <th>decision</th>\n",
       "      <th>simulation_number</th>\n",
       "    </tr>\n",
       "  </thead>\n",
       "  <tbody>\n",
       "    <tr>\n",
       "      <th>0</th>\n",
       "      <td>Supplier A</td>\n",
       "      <td>84.040404</td>\n",
       "      <td>0</td>\n",
       "      <td>84.040404</td>\n",
       "      <td>0.505051</td>\n",
       "      <td>accept</td>\n",
       "      <td>3</td>\n",
       "    </tr>\n",
       "  </tbody>\n",
       "</table>\n",
       "</div>"
      ],
      "text/plain": [
       "     supplier  base_cost  boost_dollars  total_cost  eta_prob decision  \\\n",
       "0  Supplier A  84.040404              0   84.040404  0.505051   accept   \n",
       "\n",
       "   simulation_number  \n",
       "0                  3  "
      ]
     },
     "execution_count": 12,
     "metadata": {},
     "output_type": "execute_result"
    }
   ],
   "source": [
    "master_simulation_df[master_simulation_df.simulation_number == 3]"
   ]
  },
  {
   "cell_type": "code",
   "execution_count": 13,
   "metadata": {},
   "outputs": [
    {
     "data": {
      "text/html": [
       "<div>\n",
       "<style scoped>\n",
       "    .dataframe tbody tr th:only-of-type {\n",
       "        vertical-align: middle;\n",
       "    }\n",
       "\n",
       "    .dataframe tbody tr th {\n",
       "        vertical-align: top;\n",
       "    }\n",
       "\n",
       "    .dataframe thead th {\n",
       "        text-align: right;\n",
       "    }\n",
       "</style>\n",
       "<table border=\"1\" class=\"dataframe\">\n",
       "  <thead>\n",
       "    <tr style=\"text-align: right;\">\n",
       "      <th></th>\n",
       "      <th>supplier</th>\n",
       "      <th>base_cost</th>\n",
       "      <th>boost_dollars</th>\n",
       "      <th>total_cost</th>\n",
       "      <th>eta_prob</th>\n",
       "      <th>decision</th>\n",
       "      <th>simulation_number</th>\n",
       "    </tr>\n",
       "  </thead>\n",
       "  <tbody>\n",
       "    <tr>\n",
       "      <th>0</th>\n",
       "      <td>Supplier A</td>\n",
       "      <td>84.040404</td>\n",
       "      <td>0</td>\n",
       "      <td>84.040404</td>\n",
       "      <td>0.505051</td>\n",
       "      <td>accept</td>\n",
       "      <td>4</td>\n",
       "    </tr>\n",
       "  </tbody>\n",
       "</table>\n",
       "</div>"
      ],
      "text/plain": [
       "     supplier  base_cost  boost_dollars  total_cost  eta_prob decision  \\\n",
       "0  Supplier A  84.040404              0   84.040404  0.505051   accept   \n",
       "\n",
       "   simulation_number  \n",
       "0                  4  "
      ]
     },
     "execution_count": 13,
     "metadata": {},
     "output_type": "execute_result"
    }
   ],
   "source": [
    "master_simulation_df[master_simulation_df.simulation_number == 4]"
   ]
  },
  {
   "cell_type": "code",
   "execution_count": 14,
   "metadata": {},
   "outputs": [
    {
     "data": {
      "text/html": [
       "<div>\n",
       "<style scoped>\n",
       "    .dataframe tbody tr th:only-of-type {\n",
       "        vertical-align: middle;\n",
       "    }\n",
       "\n",
       "    .dataframe tbody tr th {\n",
       "        vertical-align: top;\n",
       "    }\n",
       "\n",
       "    .dataframe thead th {\n",
       "        text-align: right;\n",
       "    }\n",
       "</style>\n",
       "<table border=\"1\" class=\"dataframe\">\n",
       "  <thead>\n",
       "    <tr style=\"text-align: right;\">\n",
       "      <th></th>\n",
       "      <th>supplier</th>\n",
       "      <th>base_cost</th>\n",
       "      <th>boost_dollars</th>\n",
       "      <th>total_cost</th>\n",
       "      <th>eta_prob</th>\n",
       "      <th>decision</th>\n",
       "      <th>simulation_number</th>\n",
       "    </tr>\n",
       "  </thead>\n",
       "  <tbody>\n",
       "    <tr>\n",
       "      <th>0</th>\n",
       "      <td>Supplier A</td>\n",
       "      <td>84.040404</td>\n",
       "      <td>0</td>\n",
       "      <td>84.040404</td>\n",
       "      <td>0.505051</td>\n",
       "      <td>decline</td>\n",
       "      <td>5</td>\n",
       "    </tr>\n",
       "    <tr>\n",
       "      <th>20</th>\n",
       "      <td>Supplier C</td>\n",
       "      <td>117.373737</td>\n",
       "      <td>0</td>\n",
       "      <td>117.373737</td>\n",
       "      <td>0.444444</td>\n",
       "      <td>decline</td>\n",
       "      <td>5</td>\n",
       "    </tr>\n",
       "    <tr>\n",
       "      <th>10</th>\n",
       "      <td>Supplier B</td>\n",
       "      <td>89.090909</td>\n",
       "      <td>0</td>\n",
       "      <td>89.090909</td>\n",
       "      <td>0.191919</td>\n",
       "      <td>accept</td>\n",
       "      <td>5</td>\n",
       "    </tr>\n",
       "  </tbody>\n",
       "</table>\n",
       "</div>"
      ],
      "text/plain": [
       "      supplier   base_cost  boost_dollars  total_cost  eta_prob decision  \\\n",
       "0   Supplier A   84.040404              0   84.040404  0.505051  decline   \n",
       "20  Supplier C  117.373737              0  117.373737  0.444444  decline   \n",
       "10  Supplier B   89.090909              0   89.090909  0.191919   accept   \n",
       "\n",
       "    simulation_number  \n",
       "0                   5  \n",
       "20                  5  \n",
       "10                  5  "
      ]
     },
     "execution_count": 14,
     "metadata": {},
     "output_type": "execute_result"
    }
   ],
   "source": [
    "master_simulation_df[master_simulation_df.simulation_number == 5]"
   ]
  },
  {
   "cell_type": "markdown",
   "metadata": {},
   "source": [
    "### Next Steps / Thoughts\n",
    "- Using reinforcement learning or some type of optimization makes sense rather than simulating\n",
    "- More importantly, defining the objective function to minimize should be a priority (I used probability of arriving within 45 minutes divided by total cost, but we need to give this some thought)"
   ]
  }
 ],
 "metadata": {
  "@webio": {
   "lastCommId": null,
   "lastKernelId": null
  },
  "kernelspec": {
   "display_name": "Python 3",
   "language": "python",
   "name": "python3"
  },
  "language_info": {
   "codemirror_mode": {
    "name": "ipython",
    "version": 3
   },
   "file_extension": ".py",
   "mimetype": "text/x-python",
   "name": "python",
   "nbconvert_exporter": "python",
   "pygments_lexer": "ipython3",
   "version": "3.7.3"
  }
 },
 "nbformat": 4,
 "nbformat_minor": 2
}
