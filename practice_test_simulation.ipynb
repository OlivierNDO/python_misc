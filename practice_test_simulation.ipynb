{
 "cells": [
  {
   "cell_type": "markdown",
   "metadata": {},
   "source": [
    "### Config"
   ]
  },
  {
   "cell_type": "code",
   "execution_count": 1,
   "metadata": {},
   "outputs": [],
   "source": [
    "import numpy as np, pandas as pd\n",
    "import random\n",
    "from tqdm import tqdm\n",
    "random.seed(6142019)"
   ]
  },
  {
   "cell_type": "markdown",
   "metadata": {},
   "source": [
    "### Define Functions"
   ]
  },
  {
   "cell_type": "code",
   "execution_count": 2,
   "metadata": {},
   "outputs": [],
   "source": [
    "def practice_test_inference(n_possible_questions,\n",
    "                            n_actual_questions,\n",
    "                            n_practice_questions,\n",
    "                            practice_competency,\n",
    "                            min_exam_score,\n",
    "                            sample_iter = 10000):\n",
    "    # Simulate Sampling of Test Bank for Practice Test Questions\n",
    "    actual_competency_list = [i/100 for i in range(101)]\n",
    "    practice_pass = []\n",
    "    practice_fail = []\n",
    "    for actual_competency in tqdm(actual_competency_list):\n",
    "        correct_exam_answers = [1] * int(n_possible_questions * actual_competency)\n",
    "        incorrect_exam_answers = [0] * int(n_possible_questions * (1 - actual_competency))\n",
    "        all_exam_answers = correct_exam_answers + incorrect_exam_answers\n",
    "        fail_count = []\n",
    "        pass_count = []\n",
    "        for i in range(sample_iter):\n",
    "            practice_questions = random.sample(all_exam_answers, n_practice_questions)\n",
    "            practice_score = sum(practice_questions) / len(practice_questions)\n",
    "            if practice_score > min_exam_score:\n",
    "                pass_count.append(1)\n",
    "                fail_count.append(0)\n",
    "            else:\n",
    "                fail_count.append(1)\n",
    "                pass_count.append(0)\n",
    "        practice_pass.append(sum(pass_count))\n",
    "        practice_fail.append(sum(fail_count))\n",
    "    df = pd.DataFrame({'actual_competency': actual_competency_list,\n",
    "                        'pass_count': practice_pass,\n",
    "                        'fail_count': practice_fail})\n",
    "    # Calc. Approx. Prob. of <practice_competency> score on practice test due to sampling error (SE)\n",
    "    pass_due_to_se = np.sum(df[df.actual_competency < min_exam_score]['pass_count']) / np.sum(df['pass_count'])\n",
    "    pass_due_to_competency = np.sum(df[df.actual_competency >= min_exam_score]['pass_count']) / np.sum(df['pass_count'])\n",
    "    # Print Output\n",
    "    print(\"probability of practice result due to sample error: {}%\".format(str(np.round(pass_due_to_se * 100,2))))\n",
    "    print(\"probability of practice result due to competence: {}%\".format(str(np.round(pass_due_to_competency * 100,2))))"
   ]
  },
  {
   "cell_type": "markdown",
   "metadata": {},
   "source": [
    "### Execute Functions"
   ]
  },
  {
   "cell_type": "code",
   "execution_count": 3,
   "metadata": {},
   "outputs": [
    {
     "name": "stderr",
     "output_type": "stream",
     "text": [
      "100%|████████████████████████████████████████████████████████████████████████████████| 101/101 [02:12<00:00,  1.27s/it]\n"
     ]
    },
    {
     "name": "stdout",
     "output_type": "stream",
     "text": [
      "probability of practice result due to sample error: 3.73%\n",
      "probability of practice result due to competence: 96.27%\n"
     ]
    }
   ],
   "source": [
    "practice_test_inference(n_possible_questions = 540,\n",
    "                        n_actual_questions = 240,\n",
    "                        n_practice_questions = 120,\n",
    "                        practice_competency = 0.80,\n",
    "                        min_exam_score = 0.70)"
   ]
  }
 ],
 "metadata": {
  "kernelspec": {
   "display_name": "Python 3",
   "language": "python",
   "name": "python3"
  },
  "language_info": {
   "codemirror_mode": {
    "name": "ipython",
    "version": 3
   },
   "file_extension": ".py",
   "mimetype": "text/x-python",
   "name": "python",
   "nbconvert_exporter": "python",
   "pygments_lexer": "ipython3",
   "version": "3.7.3"
  }
 },
 "nbformat": 4,
 "nbformat_minor": 2
}
