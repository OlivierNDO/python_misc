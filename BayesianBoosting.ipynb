{
 "cells": [
  {
   "cell_type": "markdown",
   "metadata": {},
   "source": [
    "## Applying Boost at Provider Level with Bayesian Optimization\n",
    "#### We can use Bayesian optimization to allocate boost at the provider level to optimize a combination of ATA and expected cost given we have (or can estimate) the following inputs:\n",
    "\n",
    "> provider acceptance probability ... at 0 boost and every boost level\n",
    "\n",
    "> out of network probability ... at 0 boost and every boost level\n",
    "\n",
    "> average OON cost in a given area\n",
    "\n",
    "> Assumed OON ATA probability ... where ATA is probability of arrival time exceeding the threshold"
   ]
  },
  {
   "cell_type": "markdown",
   "metadata": {},
   "source": [
    "## Configuration"
   ]
  },
  {
   "cell_type": "markdown",
   "metadata": {},
   "source": [
    "#### Import Packages"
   ]
  },
  {
   "cell_type": "code",
   "execution_count": 1,
   "metadata": {},
   "outputs": [],
   "source": [
    "import collections\n",
    "import datetime\n",
    "import itertools\n",
    "import matplotlib.pyplot as plt\n",
    "import mcdm\n",
    "import numpy as np\n",
    "import ortools\n",
    "import pandas as pd\n",
    "import random\n",
    "import seaborn as sns\n",
    "import skopt\n",
    "import time\n",
    "import warnings\n",
    "warnings.filterwarnings('ignore')\n",
    "plt.rcParams['figure.figsize'] = [12, 8]"
   ]
  },
  {
   "cell_type": "markdown",
   "metadata": {},
   "source": [
    "#### Network Configuration (no. in-network supplier & boost levels)"
   ]
  },
  {
   "cell_type": "code",
   "execution_count": 2,
   "metadata": {},
   "outputs": [],
   "source": [
    "config_n_suppliers = 8\n",
    "config_boost_levels = list(range(0,50,5))"
   ]
  },
  {
   "cell_type": "markdown",
   "metadata": {},
   "source": [
    "#### Weight Configuration (weights to apply in optimization for ata & cost)"
   ]
  },
  {
   "cell_type": "code",
   "execution_count": 3,
   "metadata": {},
   "outputs": [],
   "source": [
    "config_cost_weight = 0.75\n",
    "config_ata_weight = 1 - config_cost_weight"
   ]
  },
  {
   "cell_type": "markdown",
   "metadata": {},
   "source": [
    "#### Assumed Average OON Cost & ATA"
   ]
  },
  {
   "cell_type": "code",
   "execution_count": 4,
   "metadata": {},
   "outputs": [],
   "source": [
    "config_oon_avg_cost = 250\n",
    "config_oon_ata = 0.95"
   ]
  },
  {
   "cell_type": "markdown",
   "metadata": {},
   "source": [
    "## Define Functions & Classes"
   ]
  },
  {
   "cell_type": "markdown",
   "metadata": {},
   "source": [
    "#### Data Simulation"
   ]
  },
  {
   "cell_type": "code",
   "execution_count": 5,
   "metadata": {},
   "outputs": [],
   "source": [
    "def create_bimodal_distribution(mu1, mu2, std1, std2, n):\n",
    "    \"\"\"\n",
    "    Create bimodal distribution given means (mu), standard\n",
    "    deviations (std), and number of observations (n)\n",
    "    Returns:\n",
    "        list\n",
    "    \"\"\"\n",
    "    n1 = int(n / 2)\n",
    "    n2 = n - n1\n",
    "    dist1 = np.random.normal(mu1, std1, n1)\n",
    "    dist2 = np.random.normal(mu2, std2, n2)\n",
    "    return list(np.concatenate([dist1, dist2]))\n",
    "\n",
    "\n",
    "def normalize_to_median(iterable):\n",
    "    \"\"\"\n",
    "    Normalize using (Xi - MEDIAN(X)) / STDEV(X) rather than the conventional mean\n",
    "    Args:\n",
    "        iterable: some iterable object with floats\n",
    "    Returns:\n",
    "        (normalized) iterable\n",
    "    \"\"\"\n",
    "    median_x = np.median(iterable)\n",
    "    stdev_x = np.std(iterable)\n",
    "    return [(x - median_x) / stdev_x for x in iterable]\n",
    "\n",
    "\n",
    "def min_max_normalize(iterable):\n",
    "    \"\"\"\n",
    "    Normalize using (Xi - MEDIAN(X)) / STDEV(X) rather than the conventional mean\n",
    "    Args:\n",
    "        iterable: some iterable object with floats\n",
    "    Returns:\n",
    "        (normalized) iterable\n",
    "    \"\"\"\n",
    "    return [(x - min(iterable)) / (max(iterable) - min(iterable)) for x in iterable]\n",
    "\n",
    "\n",
    "def print_timestamp_message(message, timestamp_format = '%Y-%m-%d %H:%M:%S'):\n",
    "    \"\"\"\n",
    "    Print formatted timestamp followed by custom message\n",
    "    Args:\n",
    "        message (str): string to concatenate with timestamp\n",
    "        timestamp_format (str): format for datetime string. defaults to '%Y-%m-%d %H:%M:%S'\n",
    "    \"\"\"\n",
    "    ts_string = datetime.datetime.fromtimestamp(time.time()).strftime(timestamp_format)\n",
    "    print(f'{ts_string}: {message}')\n",
    "    \n",
    "\n",
    "class SimulatedSuppliers:\n",
    "    def __init__(self,\n",
    "                 n_suppliers,\n",
    "                 accept_plot_attribs = {'x_label' : 'Boost Dollars',\n",
    "                                        'y_label' : 'Acceptance Probability',\n",
    "                                        'marker' : 'o'},\n",
    "                 base_cost_range = [80, 130],\n",
    "                 boost_values = list(range(0,50,5)),\n",
    "                 mean_acceptance1 = 0.05,\n",
    "                 stdev_acceptance1 = 0.07,\n",
    "                 mean_acceptance2 = 0.25,\n",
    "                 stdev_acceptance2 = 0.25,\n",
    "                 random_seed = 832021):\n",
    "        \"\"\"\n",
    "        Simulate supplier data with cost, ata service level probability, and acceptance probabilities\n",
    "        given specified ranges\n",
    "        \n",
    "        Example:\n",
    "            supplier_simulation = SimulatedSuppliers(supplier_names = [f'Supplier {n}' for n in range(1,4)])\n",
    "            supplier_simulation_df = supplier_simulation.generate_supplier_info() \n",
    "        \"\"\"\n",
    "        self.n_suppliers = n_suppliers\n",
    "        self.accept_plot_attribs = accept_plot_attribs\n",
    "        self.base_cost_range = base_cost_range\n",
    "        self.boost_values = boost_values\n",
    "        self.mean_acceptance1 = mean_acceptance1\n",
    "        self.stdev_acceptance1 = stdev_acceptance1\n",
    "        self.mean_acceptance2 = mean_acceptance2\n",
    "        self.stdev_acceptance2 = stdev_acceptance2\n",
    "        self.random_seed = random_seed\n",
    "        \n",
    "        \n",
    "    def get_random_boost_probs(self):\n",
    "        \"\"\"\n",
    "        Generate random acceptance probabilities given a range of boost values\n",
    "        that follow a 2nd order polynomial pattern\n",
    "        Args:\n",
    "            boost_values (list): list of dollar values used in boost\n",
    "            mean_acceptance1 (float): average acceptance rate at $0 boost for part of bimodal distribution\n",
    "            stdev_acceptance1 (float): standard deviation of acceptance rate at $0 boost for part of bimodal distribution\n",
    "            mean_acceptance2 (float): average acceptance rate at $0 boost for part of bimodal distribution\n",
    "            stdev_acceptance2 (float): standard deviation of acceptance rate at $0 boost for part of bimodal distribution\n",
    "            supplier_name (str): name of simulated supplier\n",
    "        Returns:\n",
    "            pandas.DataFrame object with fields 'boost_dollars', 'accept_prob', and 'supplier'\n",
    "        \"\"\"\n",
    "        np.random.seed(self.random_seed)\n",
    "        random.seed(self.random_seed)\n",
    "        supplier_names = [f'Supplier {n}' for n in range(1, (self.n_suppliers + 1))]\n",
    "        boost_df_list = []\n",
    "        for sn in supplier_names:\n",
    "            acceptance_distr = create_bimodal_distribution(self.mean_acceptance1, self.mean_acceptance2,\n",
    "                                                           self.stdev_acceptance1, self.stdev_acceptance2, 1000)\n",
    "            \n",
    "            b0 = random.choice([x for x in acceptance_distr if (x > 0) and (x < 1)])\n",
    "            max_b1 = ((1 - b0) / max(self.boost_values))\n",
    "            b1 = random.choice(np.linspace(0, max_b1, 100))\n",
    "            max_b2 = (1 - (b0 + (b1 * max(self.boost_values)))) / max(self.boost_values)**2\n",
    "            b2 = random.choice(np.linspace(0, max_b2, 100))\n",
    "            probs = []\n",
    "            for x in self.boost_values:\n",
    "                p = b0 + (b1 * x) + (b2 * x**2)\n",
    "                probs.append(p)\n",
    "            boost_df = pd.DataFrame({'boost_dollars' : self.boost_values, 'accept_prob' : probs})\n",
    "            boost_df['supplier'] = sn\n",
    "            boost_df_list.append(boost_df)\n",
    "        output_df = pd.concat(boost_df_list, axis = 0)\n",
    "        return output_df\n",
    "    \n",
    "    \n",
    "    def generate_supplier_info(self):\n",
    "        \"\"\"\n",
    "        Generate a pandas.DataFrame object with costs in a given range and ata probabilities\n",
    "        0 to 1 representing the likelihood of completing service in under 45 minutes\n",
    "        Args:\n",
    "            supplier_names (list): list of supplier names\n",
    "            base_cost_range (list): minimum and maximum baseline cost for each supplier\n",
    "        Returns:\n",
    "            pandas.DataFrame object with fields 'supplier', 'base_cost', 'ata_prob' which\n",
    "            is merged with the output of get_random_boost_probs()\n",
    "        \"\"\"\n",
    "        random.seed(self.random_seed)\n",
    "        supplier_names = [f'Supplier {n}' for n in range(1, (self.n_suppliers + 1))]\n",
    "        boost_prob_df = self.get_random_boost_probs()\n",
    "        ata_probs = [random.choice(np.linspace(0,1,100)) for i in range(len(supplier_names))]\n",
    "        base_cost = [random.choice(np.linspace(self.base_cost_range[0], self.base_cost_range[1], 100)) for i in range(len(supplier_names))]\n",
    "        supplier_info_df = pd.DataFrame({'base_cost' : base_cost, 'ata_prob' : ata_probs})\n",
    "        supplier_info_df = supplier_info_df.sort_values('ata_prob', ascending = True)\n",
    "        supplier_info_df['supplier'] = supplier_names\n",
    "        supplier_boost_info_df = pd.merge(supplier_info_df, boost_prob_df, on = 'supplier', how = 'left')\n",
    "        supplier_boost_info_df['total_cost'] = supplier_boost_info_df['base_cost'] + supplier_boost_info_df['boost_dollars']\n",
    "        supplier_boost_info_df['ata_per_dollar'] = supplier_boost_info_df['ata_prob'] / supplier_boost_info_df['total_cost']\n",
    "        supplier_boost_info_df = supplier_boost_info_df.sort_values('ata_per_dollar', ascending = False)\n",
    "        \n",
    "        return supplier_boost_info_df\n",
    "    \n",
    "    \n",
    "    def generate_supplier_dict(self):\n",
    "        \"\"\"\n",
    "        Wrapper around generate_supplier_info() that converts pandas.DataFrame\n",
    "        object into a nested dictionary\n",
    "        \"\"\"\n",
    "        supplier_simulation_df = self.generate_supplier_info()\n",
    "        supplier_names = sorted(list(set(supplier_simulation_df['supplier'])))\n",
    "        supplier_dict_list = []\n",
    "        for i, cbo in enumerate(supplier_names):\n",
    "            ata_prob = list(supplier_simulation_df[supplier_simulation_df.supplier == cbo]['ata_prob'])[0]\n",
    "            base_cost = list(supplier_simulation_df[supplier_simulation_df.supplier == cbo]['base_cost'])[0]\n",
    "            boost_dollars = list(supplier_simulation_df[supplier_simulation_df.supplier == cbo]['boost_dollars'])\n",
    "            accept_prob = list(supplier_simulation_df[supplier_simulation_df.supplier == cbo]['accept_prob'])\n",
    "            total_cost = list(supplier_simulation_df[supplier_simulation_df.supplier == cbo]['total_cost'])\n",
    "            s_dict = {'supplier' : cbo, 'ata_prob' : ata_prob, 'base_cost' : base_cost, 'boost_dict' : dict(zip(boost_dollars, zip(accept_prob, total_cost)))}\n",
    "            supplier_dict_list.append(s_dict)\n",
    "            \n",
    "        supplier_dict = dict(zip(range(len(supplier_names)), supplier_dict_list))\n",
    "        return supplier_dict\n",
    "\n",
    "        \n",
    "    \n",
    "    def plot_supplier_acceptance(self):\n",
    "        \"\"\"\n",
    "        Plot curves of acceptance probability for each supplier based on boost dollars\n",
    "        offered using the output of the generate_supplier_info() attribute\n",
    "        Args:\n",
    "            accept_plot_attribs (dict): dictionary with plot attributes defined\n",
    "            by keys 'x_label', 'y_label', and 'marker'\n",
    "        Returns:\n",
    "            None\n",
    "        \"\"\"\n",
    "        sup_df = self.generate_supplier_info()\n",
    "        sns.lineplot(x = 'boost_dollars',\n",
    "                     y = 'accept_prob',\n",
    "                     hue = 'supplier',\n",
    "                     marker = self.accept_plot_attribs.get('marker'),  data = sup_df)\n",
    "        plt.ylabel(self.accept_plot_attribs.get('y_label'))\n",
    "        plt.xlabel(self.accept_plot_attribs.get('x_label'))\n",
    "        plt.show()\n",
    "\n",
    "\n",
    "\n",
    "def make_supplier_network(sup_dictionary : dict, boost_levels : list):\n",
    "    \n",
    "    supplier_list = [sup_dictionary.get(i).get('supplier') for i, x in enumerate(sup_dictionary)]\n",
    "    ata_list = [sup_dictionary.get(i).get('ata_prob') for i, x in enumerate(sup_dictionary)]\n",
    "    accept_prob_list = [sup_dictionary.get(i).get('boost_dict').get(boost_levels[i])[0] for i, x in enumerate(sup_dictionary)]\n",
    "    base_cost_list = [sup_dictionary.get(i).get('base_cost') for i, x in enumerate(sup_dictionary)]\n",
    "    total_cost_list = [sup_dictionary.get(i).get('boost_dict').get(boost_levels[i])[1] for i, x in enumerate(sup_dictionary)]\n",
    "    selection_prob_list = []\n",
    "    for i, ap in enumerate(accept_prob_list):\n",
    "        if i == 0:\n",
    "            selection_prob_list.append(ap)\n",
    "        else:\n",
    "            selection_prob_list.append((1 - sum(selection_prob_list)) * ap)\n",
    "    output_dict = dict(zip(['supplier', 'ata_prob', 'accept_prob', 'base_cost', 'boost_dollars', 'total_cost', 'selection_prob'],\n",
    "                           [supplier_list, ata_list, accept_prob_list, base_cost_list, boost_levels, total_cost_list, selection_prob_list]))\n",
    "    return output_dict\n"
   ]
  },
  {
   "cell_type": "markdown",
   "metadata": {},
   "source": [
    "#### Calculating Expected Results"
   ]
  },
  {
   "cell_type": "code",
   "execution_count": 6,
   "metadata": {},
   "outputs": [],
   "source": [
    "def calc_exp_network_results(boost_levels : list, sup_dictionary : dict, oon_avg_cost = config_oon_avg_cost, oon_ata = config_oon_ata):\n",
    "    \"\"\"\n",
    "    Given a supplier dictionary created with method SimulatedSuppliers.generate_supplier_dict()\n",
    "    and boost dollar amounts corresponding to each supplier, calculate the expected cost where:\n",
    "        network cost = sum-product {selection probability, supplier cost} X in-network probability\n",
    "        OON cost = average OON supplier cost X OON probability\n",
    "        expected cost = network cost + OON cost\n",
    "    Args:\n",
    "        boost_levels (list): list of boost dollar amounts corresponding with each supplier in supplier dictionary\n",
    "        supplier_dictionary (dict): dictionary output from method SimulatedSuppliers.generate_supplier_dict()\n",
    "    Returns:\n",
    "        float(s): expected cost, expected ATA (probability of arriving outside of time limit)\n",
    "    \"\"\"\n",
    "    supplier_network = make_supplier_network(sup_dictionary = sup_dictionary, boost_levels = boost_levels)\n",
    "    \n",
    "    # In Network Estimate\n",
    "    net_exp_cost = np.dot(supplier_network.get('selection_prob'), supplier_network.get('total_cost'))\n",
    "    net_exp_ata = np.dot(supplier_network.get('selection_prob'), supplier_network.get('ata_prob'))\n",
    "    \n",
    "    # Out of Network Estimate\n",
    "    oon_prob = 1 - np.sum(supplier_network.get('selection_prob'))\n",
    "    \n",
    "    # Combined Probabilistic Estimates\n",
    "    exp_cost = net_exp_cost + (oon_avg_cost * oon_prob)\n",
    "    exp_ata = net_exp_ata + (oon_ata * oon_prob)\n",
    "    \n",
    "    return exp_cost, exp_ata"
   ]
  },
  {
   "cell_type": "markdown",
   "metadata": {},
   "source": [
    "## Exploration"
   ]
  },
  {
   "cell_type": "markdown",
   "metadata": {},
   "source": [
    "#### Create Simulated Data"
   ]
  },
  {
   "cell_type": "code",
   "execution_count": 7,
   "metadata": {},
   "outputs": [],
   "source": [
    "supplier_simulation = SimulatedSuppliers(n_suppliers = config_n_suppliers, random_seed = 762021)\n",
    "supplier_dict = supplier_simulation.generate_supplier_dict()"
   ]
  },
  {
   "cell_type": "markdown",
   "metadata": {},
   "source": [
    "#### For each supplier, we have a name, ATA probability, baseline cost, and (acceptance probability, total cost) for each boost dollar amount"
   ]
  },
  {
   "cell_type": "code",
   "execution_count": 8,
   "metadata": {},
   "outputs": [
    {
     "data": {
      "text/plain": [
       "{0: {'supplier': 'Supplier 1',\n",
       "  'ata_prob': 0.21212121212121213,\n",
       "  'base_cost': 108.78787878787878,\n",
       "  'boost_dict': {0: (0.6243064648664821, 108.78787878787878),\n",
       "   5: (0.6386895444631887, 113.78787878787878),\n",
       "   10: (0.6540096325026774, 118.78787878787878),\n",
       "   15: (0.6702667289849484, 123.78787878787878),\n",
       "   20: (0.6874608339100016, 128.78787878787878),\n",
       "   25: (0.7055919472778369, 133.78787878787878),\n",
       "   30: (0.7246600690884543, 138.78787878787878),\n",
       "   35: (0.744665199341854, 143.78787878787878),\n",
       "   40: (0.7656073380380358, 148.78787878787878),\n",
       "   45: (0.7874864851769999, 153.78787878787878)}},\n",
       " 1: {'supplier': 'Supplier 2',\n",
       "  'ata_prob': 0.23232323232323235,\n",
       "  'base_cost': 104.74747474747474,\n",
       "  'boost_dict': {0: (0.21798357818704706, 104.74747474747474),\n",
       "   5: (0.23353661105218013, 109.74747474747474),\n",
       "   10: (0.2556205583448154, 114.74747474747474),\n",
       "   15: (0.2842354200649529, 119.74747474747474),\n",
       "   20: (0.3193811962125926, 124.74747474747474),\n",
       "   25: (0.3610578867877345, 129.74747474747474),\n",
       "   30: (0.40926549179037863, 134.74747474747474),\n",
       "   35: (0.4640040112205249, 139.74747474747474),\n",
       "   40: (0.5252734450781734, 144.74747474747474),\n",
       "   45: (0.5930737933633241, 149.74747474747474)}},\n",
       " 2: {'supplier': 'Supplier 3',\n",
       "  'ata_prob': 0.29292929292929293,\n",
       "  'base_cost': 80.0,\n",
       "  'boost_dict': {0: (0.13078970672354706, 80.0),\n",
       "   5: (0.1391885878653349, 85.0),\n",
       "   10: (0.15267869535431522, 90.0),\n",
       "   15: (0.171260029190488, 95.0),\n",
       "   20: (0.19493258937385327, 100.0),\n",
       "   25: (0.22369637590441097, 105.0),\n",
       "   30: (0.25755138878216116, 110.0),\n",
       "   35: (0.29649762800710383, 115.0),\n",
       "   40: (0.34053509357923895, 120.0),\n",
       "   45: (0.3896637854985666, 125.0)}},\n",
       " 3: {'supplier': 'Supplier 4',\n",
       "  'ata_prob': 0.30303030303030304,\n",
       "  'base_cost': 120.40404040404042,\n",
       "  'boost_dict': {0: (0.04913549124521332, 120.40404040404042),\n",
       "   5: (0.14975059879084937, 125.40404040404042),\n",
       "   10: (0.2509645772684984, 130.40404040404042),\n",
       "   15: (0.3527774266781604, 135.40404040404042),\n",
       "   20: (0.45518914701983537, 140.40404040404042),\n",
       "   25: (0.5581997382935233, 145.40404040404042),\n",
       "   30: (0.6618092004992243, 150.40404040404042),\n",
       "   35: (0.7660175336369383, 155.40404040404042),\n",
       "   40: (0.8708247377066651, 160.40404040404042),\n",
       "   45: (0.976230812708405, 165.40404040404042)}},\n",
       " 4: {'supplier': 'Supplier 5',\n",
       "  'ata_prob': 0.5555555555555556,\n",
       "  'base_cost': 126.46464646464648,\n",
       "  'boost_dict': {0: (0.004544862897223417, 126.46464646464648),\n",
       "   5: (0.01632283730750201, 131.46464646464648),\n",
       "   10: (0.0449533589416861, 136.46464646464648),\n",
       "   15: (0.09043642779977568, 141.46464646464648),\n",
       "   20: (0.15277204388177076, 146.46464646464648),\n",
       "   25: (0.23196020718767135, 151.46464646464648),\n",
       "   30: (0.3280009177174774, 156.46464646464648),\n",
       "   35: (0.44089417547118903, 161.46464646464648),\n",
       "   40: (0.570639980448806, 166.46464646464648),\n",
       "   45: (0.7172383326503285, 171.46464646464648)}},\n",
       " 5: {'supplier': 'Supplier 6',\n",
       "  'ata_prob': 0.5757575757575758,\n",
       "  'base_cost': 98.18181818181819,\n",
       "  'boost_dict': {0: (0.0006671308804095458, 98.18181818181819),\n",
       "   5: (0.01720391145788156, 103.18181818181819),\n",
       "   10: (0.051112053226577886, 108.18181818181819),\n",
       "   15: (0.10239155618649853, 113.18181818181819),\n",
       "   20: (0.17104242033764347, 118.18181818181819),\n",
       "   25: (0.25706464568001275, 123.18181818181819),\n",
       "   30: (0.36045823221360634, 128.1818181818182),\n",
       "   35: (0.48122317993842423, 133.1818181818182),\n",
       "   40: (0.6193594888544665, 138.1818181818182),\n",
       "   45: (0.774867158961733, 143.1818181818182)}},\n",
       " 6: {'supplier': 'Supplier 7',\n",
       "  'ata_prob': 0.7474747474747475,\n",
       "  'base_cost': 82.02020202020202,\n",
       "  'boost_dict': {0: (0.06075959837228726, 82.02020202020202),\n",
       "   5: (0.16407378283083962, 87.02020202020202),\n",
       "   10: (0.267404530685698, 92.02020202020202),\n",
       "   15: (0.37075184193686234, 97.02020202020202),\n",
       "   20: (0.47411571658433266, 102.02020202020202),\n",
       "   25: (0.5774961546281089, 107.02020202020202),\n",
       "   30: (0.6808931560681912, 112.02020202020202),\n",
       "   35: (0.7843067209045795, 117.02020202020202),\n",
       "   40: (0.8877368491372738, 122.02020202020202),\n",
       "   45: (0.9911835407662739, 127.02020202020202)}},\n",
       " 7: {'supplier': 'Supplier 8',\n",
       "  'ata_prob': 0.8282828282828284,\n",
       "  'base_cost': 94.14141414141415,\n",
       "  'boost_dict': {0: (0.11326743438254162, 94.14141414141415),\n",
       "   5: (0.17188097736107585, 99.14141414141415),\n",
       "   10: (0.23625802902489934, 104.14141414141415),\n",
       "   15: (0.306398589374012, 109.14141414141415),\n",
       "   20: (0.3823026584084139, 114.14141414141415),\n",
       "   25: (0.46397023612810495, 119.14141414141415),\n",
       "   30: (0.5514013225330853, 124.14141414141415),\n",
       "   35: (0.6445959176233549, 129.14141414141415),\n",
       "   40: (0.7435540213989135, 134.14141414141415),\n",
       "   45: (0.8482756338597615, 139.14141414141415)}}}"
      ]
     },
     "execution_count": 8,
     "metadata": {},
     "output_type": "execute_result"
    }
   ],
   "source": [
    "supplier_dict"
   ]
  },
  {
   "cell_type": "markdown",
   "metadata": {},
   "source": [
    "#### Plot supplier acceptance curves"
   ]
  },
  {
   "cell_type": "code",
   "execution_count": 9,
   "metadata": {},
   "outputs": [
    {
     "data": {
      "image/png": "[encoded data removed]",
      "text/plain": [
       "<Figure size 432x288 with 1 Axes>"
      ]
     },
     "metadata": {
      "needs_background": "light"
     },
     "output_type": "display_data"
    }
   ],
   "source": [
    "supplier_simulation.plot_supplier_acceptance()"
   ]
  },
  {
   "cell_type": "markdown",
   "metadata": {},
   "source": [
    "#### Let's look at the supplier network when boost is zero dollars"
   ]
  },
  {
   "cell_type": "code",
   "execution_count": 10,
   "metadata": {},
   "outputs": [
    {
     "data": {
      "text/html": [
       "<div>\n",
       "<style scoped>\n",
       "    .dataframe tbody tr th:only-of-type {\n",
       "        vertical-align: middle;\n",
       "    }\n",
       "\n",
       "    .dataframe tbody tr th {\n",
       "        vertical-align: top;\n",
       "    }\n",
       "\n",
       "    .dataframe thead th {\n",
       "        text-align: right;\n",
       "    }\n",
       "</style>\n",
       "<table border=\"1\" class=\"dataframe\">\n",
       "  <thead>\n",
       "    <tr style=\"text-align: right;\">\n",
       "      <th></th>\n",
       "      <th>supplier</th>\n",
       "      <th>ata_prob</th>\n",
       "      <th>accept_prob</th>\n",
       "      <th>base_cost</th>\n",
       "      <th>boost_dollars</th>\n",
       "      <th>total_cost</th>\n",
       "      <th>selection_prob</th>\n",
       "    </tr>\n",
       "  </thead>\n",
       "  <tbody>\n",
       "    <tr>\n",
       "      <th>0</th>\n",
       "      <td>Supplier 1</td>\n",
       "      <td>0.212121</td>\n",
       "      <td>0.624306</td>\n",
       "      <td>108.787879</td>\n",
       "      <td>0</td>\n",
       "      <td>108.787879</td>\n",
       "      <td>0.624306</td>\n",
       "    </tr>\n",
       "    <tr>\n",
       "      <th>1</th>\n",
       "      <td>Supplier 2</td>\n",
       "      <td>0.232323</td>\n",
       "      <td>0.217984</td>\n",
       "      <td>104.747475</td>\n",
       "      <td>0</td>\n",
       "      <td>104.747475</td>\n",
       "      <td>0.081895</td>\n",
       "    </tr>\n",
       "    <tr>\n",
       "      <th>2</th>\n",
       "      <td>Supplier 3</td>\n",
       "      <td>0.292929</td>\n",
       "      <td>0.130790</td>\n",
       "      <td>80.000000</td>\n",
       "      <td>0</td>\n",
       "      <td>80.000000</td>\n",
       "      <td>0.038426</td>\n",
       "    </tr>\n",
       "    <tr>\n",
       "      <th>3</th>\n",
       "      <td>Supplier 4</td>\n",
       "      <td>0.303030</td>\n",
       "      <td>0.049135</td>\n",
       "      <td>120.404040</td>\n",
       "      <td>0</td>\n",
       "      <td>120.404040</td>\n",
       "      <td>0.012548</td>\n",
       "    </tr>\n",
       "    <tr>\n",
       "      <th>4</th>\n",
       "      <td>Supplier 5</td>\n",
       "      <td>0.555556</td>\n",
       "      <td>0.004545</td>\n",
       "      <td>126.464646</td>\n",
       "      <td>0</td>\n",
       "      <td>126.464646</td>\n",
       "      <td>0.001104</td>\n",
       "    </tr>\n",
       "    <tr>\n",
       "      <th>5</th>\n",
       "      <td>Supplier 6</td>\n",
       "      <td>0.575758</td>\n",
       "      <td>0.000667</td>\n",
       "      <td>98.181818</td>\n",
       "      <td>0</td>\n",
       "      <td>98.181818</td>\n",
       "      <td>0.000161</td>\n",
       "    </tr>\n",
       "    <tr>\n",
       "      <th>6</th>\n",
       "      <td>Supplier 7</td>\n",
       "      <td>0.747475</td>\n",
       "      <td>0.060760</td>\n",
       "      <td>82.020202</td>\n",
       "      <td>0</td>\n",
       "      <td>82.020202</td>\n",
       "      <td>0.014677</td>\n",
       "    </tr>\n",
       "    <tr>\n",
       "      <th>7</th>\n",
       "      <td>Supplier 8</td>\n",
       "      <td>0.828283</td>\n",
       "      <td>0.113267</td>\n",
       "      <td>94.141414</td>\n",
       "      <td>0</td>\n",
       "      <td>94.141414</td>\n",
       "      <td>0.025698</td>\n",
       "    </tr>\n",
       "  </tbody>\n",
       "</table>\n",
       "</div>"
      ],
      "text/plain": [
       "     supplier  ata_prob  accept_prob   base_cost  boost_dollars  total_cost  \\\n",
       "0  Supplier 1  0.212121     0.624306  108.787879              0  108.787879   \n",
       "1  Supplier 2  0.232323     0.217984  104.747475              0  104.747475   \n",
       "2  Supplier 3  0.292929     0.130790   80.000000              0   80.000000   \n",
       "3  Supplier 4  0.303030     0.049135  120.404040              0  120.404040   \n",
       "4  Supplier 5  0.555556     0.004545  126.464646              0  126.464646   \n",
       "5  Supplier 6  0.575758     0.000667   98.181818              0   98.181818   \n",
       "6  Supplier 7  0.747475     0.060760   82.020202              0   82.020202   \n",
       "7  Supplier 8  0.828283     0.113267   94.141414              0   94.141414   \n",
       "\n",
       "   selection_prob  \n",
       "0        0.624306  \n",
       "1        0.081895  \n",
       "2        0.038426  \n",
       "3        0.012548  \n",
       "4        0.001104  \n",
       "5        0.000161  \n",
       "6        0.014677  \n",
       "7        0.025698  "
      ]
     },
     "execution_count": 10,
     "metadata": {},
     "output_type": "execute_result"
    }
   ],
   "source": [
    "no_boost_supplier_network = make_supplier_network(sup_dictionary = supplier_dict, boost_levels = [0] * config_n_suppliers)\n",
    "no_boost_df = pd.DataFrame.from_dict(no_boost_supplier_network)\n",
    "no_boost_df"
   ]
  },
  {
   "cell_type": "markdown",
   "metadata": {},
   "source": [
    "#### Let's calculate expected cost and ATA for this network. We need to assume an average OON cost and ATA for this."
   ]
  },
  {
   "cell_type": "code",
   "execution_count": 11,
   "metadata": {},
   "outputs": [],
   "source": [
    "baseline_cost, baseline_ata = calc_exp_network_results(boost_levels = [0] * config_n_suppliers,\n",
    "                                                       sup_dictionary = supplier_dict)"
   ]
  },
  {
   "cell_type": "code",
   "execution_count": 12,
   "metadata": {},
   "outputs": [
    {
     "name": "stdout",
     "output_type": "stream",
     "text": [
      "At $0 boost, we expect the cost to average $135.15 and the ATA to average 0.391\n"
     ]
    }
   ],
   "source": [
    "print(f'At $0 boost, we expect the cost to average ${round(baseline_cost, 2)} and the ATA to average {round(baseline_ata,3)}')"
   ]
  },
  {
   "cell_type": "markdown",
   "metadata": {},
   "source": [
    "#### Here's how this is calculated manually"
   ]
  },
  {
   "cell_type": "code",
   "execution_count": 13,
   "metadata": {},
   "outputs": [
    {
     "name": "stdout",
     "output_type": "stream",
     "text": [
      "The probability of this rescue going out of network is 0.201 (which would cost $250)\n"
     ]
    }
   ],
   "source": [
    "oon_probability = 1 - np.sum(no_boost_df['selection_prob'])\n",
    "print(f'The probability of this rescue going out of network is {round(oon_probability, 3)} (which would cost ${config_oon_avg_cost})')"
   ]
  },
  {
   "cell_type": "code",
   "execution_count": 14,
   "metadata": {},
   "outputs": [
    {
     "name": "stdout",
     "output_type": "stream",
     "text": [
      "Expected cost, manual calculation: 135.15\n"
     ]
    }
   ],
   "source": [
    "expected_no_boost_cost = np.dot(no_boost_df['selection_prob'], no_boost_df['total_cost']) + (config_oon_avg_cost * oon_probability)\n",
    "print(f'Expected cost, manual calculation: {round(expected_no_boost_cost,2)}')"
   ]
  },
  {
   "cell_type": "markdown",
   "metadata": {},
   "source": [
    "## Bayesian Optimization"
   ]
  },
  {
   "cell_type": "markdown",
   "metadata": {},
   "source": [
    "#### We need to how much (if any) boost to apply to each supplier\n",
    "#### Before applying Bayesian optimization, we need a function that will take boosts as an argument and return some weighted combination of ATA & cost"
   ]
  },
  {
   "cell_type": "markdown",
   "metadata": {},
   "source": [
    "#### Note that we have a function that already outputs {expectected cost, expected ata} for any network\n",
    "\n",
    "#### We will create metrics that represent % change in expected cost, ata *vs. $0 boost*\n",
    "\n",
    "#### These will be weighted and summed to create a single optimization metric"
   ]
  },
  {
   "cell_type": "code",
   "execution_count": 15,
   "metadata": {},
   "outputs": [],
   "source": [
    "def weighted_improvement_vs_no_boost(boost_levels : list, sup_dictionary = supplier_dict, cost_weight = config_cost_weight):\n",
    "    \"\"\"\n",
    "    Wrapper calc_exp_network_results() to compare expected cost and expected ATA with a boost of $0.\n",
    "    This normalization allows for results to pass into MCDM before bayesian optimization is applied.\n",
    "    \"\"\"\n",
    "    \n",
    "    # Create expected cost and ATA for $0 boost vs. specified boosts\n",
    "    no_boost_exp_cost, no_boost_exp_ata = calc_exp_network_results(sup_dictionary = sup_dictionary, boost_levels = [0] * len(sup_dictionary))\n",
    "    network_exp_cost, network_exp_ata = calc_exp_network_results(sup_dictionary = sup_dictionary, boost_levels = boost_levels)\n",
    "    \n",
    "    # Calculate % change in exp. cost and ATA\n",
    "    # Note: ata_change is multiplied by -1 as we want to maximize this\n",
    "    cost_change = (network_exp_cost - no_boost_exp_cost) / no_boost_exp_cost\n",
    "    ata_change = (network_exp_ata - no_boost_exp_ata) / no_boost_exp_ata\n",
    "    \n",
    "    weighted_improvement = (cost_change * cost_weight) + (ata_change * (1 - cost_weight))\n",
    "    \n",
    "    return weighted_improvement"
   ]
  },
  {
   "cell_type": "markdown",
   "metadata": {},
   "source": [
    "#### Now we can pass this function to our bayesian optimization object, passing the possible levels of boost as an argument"
   ]
  },
  {
   "cell_type": "code",
   "execution_count": 16,
   "metadata": {},
   "outputs": [
    {
     "name": "stdout",
     "output_type": "stream",
     "text": [
      "2021-08-25 11:33:44: Starting boost optimization\n",
      "2021-08-25 11:35:29: Finished boost optimization\n"
     ]
    }
   ],
   "source": [
    "print_timestamp_message('Starting boost optimization')\n",
    "bayes_results = skopt.gp_minimize(func = weighted_improvement_vs_no_boost,\n",
    "                                  dimensions = list(itertools.repeat(config_boost_levels, config_n_suppliers)),\n",
    "                                  acq_func = 'EI',\n",
    "                                  n_calls = 150,\n",
    "                                  n_initial_points = 20,\n",
    "                                  random_state = 8122021)\n",
    "print_timestamp_message('Finished boost optimization')"
   ]
  },
  {
   "cell_type": "markdown",
   "metadata": {},
   "source": [
    "#### Let's check the optimal values of boost and see what that network looks like"
   ]
  },
  {
   "cell_type": "code",
   "execution_count": 17,
   "metadata": {},
   "outputs": [],
   "source": [
    "optimal_supplier_network = make_supplier_network(sup_dictionary = supplier_dict, boost_levels = bayes_results.x)\n",
    "optimal_supplier_network_df = pd.DataFrame.from_dict(optimal_supplier_network)"
   ]
  },
  {
   "cell_type": "code",
   "execution_count": 18,
   "metadata": {},
   "outputs": [
    {
     "data": {
      "text/html": [
       "<div>\n",
       "<style scoped>\n",
       "    .dataframe tbody tr th:only-of-type {\n",
       "        vertical-align: middle;\n",
       "    }\n",
       "\n",
       "    .dataframe tbody tr th {\n",
       "        vertical-align: top;\n",
       "    }\n",
       "\n",
       "    .dataframe thead th {\n",
       "        text-align: right;\n",
       "    }\n",
       "</style>\n",
       "<table border=\"1\" class=\"dataframe\">\n",
       "  <thead>\n",
       "    <tr style=\"text-align: right;\">\n",
       "      <th></th>\n",
       "      <th>supplier</th>\n",
       "      <th>ata_prob</th>\n",
       "      <th>accept_prob</th>\n",
       "      <th>base_cost</th>\n",
       "      <th>boost_dollars</th>\n",
       "      <th>total_cost</th>\n",
       "      <th>selection_prob</th>\n",
       "    </tr>\n",
       "  </thead>\n",
       "  <tbody>\n",
       "    <tr>\n",
       "      <th>0</th>\n",
       "      <td>Supplier 1</td>\n",
       "      <td>0.212121</td>\n",
       "      <td>0.624306</td>\n",
       "      <td>108.787879</td>\n",
       "      <td>0</td>\n",
       "      <td>108.787879</td>\n",
       "      <td>0.624306</td>\n",
       "    </tr>\n",
       "    <tr>\n",
       "      <th>1</th>\n",
       "      <td>Supplier 2</td>\n",
       "      <td>0.232323</td>\n",
       "      <td>0.233537</td>\n",
       "      <td>104.747475</td>\n",
       "      <td>5</td>\n",
       "      <td>109.747475</td>\n",
       "      <td>0.087738</td>\n",
       "    </tr>\n",
       "    <tr>\n",
       "      <th>2</th>\n",
       "      <td>Supplier 3</td>\n",
       "      <td>0.292929</td>\n",
       "      <td>0.340535</td>\n",
       "      <td>80.000000</td>\n",
       "      <td>40</td>\n",
       "      <td>120.000000</td>\n",
       "      <td>0.098059</td>\n",
       "    </tr>\n",
       "    <tr>\n",
       "      <th>3</th>\n",
       "      <td>Supplier 4</td>\n",
       "      <td>0.303030</td>\n",
       "      <td>0.455189</td>\n",
       "      <td>120.404040</td>\n",
       "      <td>20</td>\n",
       "      <td>140.404040</td>\n",
       "      <td>0.086439</td>\n",
       "    </tr>\n",
       "    <tr>\n",
       "      <th>4</th>\n",
       "      <td>Supplier 5</td>\n",
       "      <td>0.555556</td>\n",
       "      <td>0.016323</td>\n",
       "      <td>126.464646</td>\n",
       "      <td>5</td>\n",
       "      <td>131.464646</td>\n",
       "      <td>0.001689</td>\n",
       "    </tr>\n",
       "    <tr>\n",
       "      <th>5</th>\n",
       "      <td>Supplier 6</td>\n",
       "      <td>0.575758</td>\n",
       "      <td>0.360458</td>\n",
       "      <td>98.181818</td>\n",
       "      <td>30</td>\n",
       "      <td>128.181818</td>\n",
       "      <td>0.036683</td>\n",
       "    </tr>\n",
       "    <tr>\n",
       "      <th>6</th>\n",
       "      <td>Supplier 7</td>\n",
       "      <td>0.747475</td>\n",
       "      <td>0.991184</td>\n",
       "      <td>82.020202</td>\n",
       "      <td>45</td>\n",
       "      <td>127.020202</td>\n",
       "      <td>0.064512</td>\n",
       "    </tr>\n",
       "    <tr>\n",
       "      <th>7</th>\n",
       "      <td>Supplier 8</td>\n",
       "      <td>0.828283</td>\n",
       "      <td>0.644596</td>\n",
       "      <td>94.141414</td>\n",
       "      <td>35</td>\n",
       "      <td>129.141414</td>\n",
       "      <td>0.000370</td>\n",
       "    </tr>\n",
       "  </tbody>\n",
       "</table>\n",
       "</div>"
      ],
      "text/plain": [
       "     supplier  ata_prob  accept_prob   base_cost  boost_dollars  total_cost  \\\n",
       "0  Supplier 1  0.212121     0.624306  108.787879              0  108.787879   \n",
       "1  Supplier 2  0.232323     0.233537  104.747475              5  109.747475   \n",
       "2  Supplier 3  0.292929     0.340535   80.000000             40  120.000000   \n",
       "3  Supplier 4  0.303030     0.455189  120.404040             20  140.404040   \n",
       "4  Supplier 5  0.555556     0.016323  126.464646              5  131.464646   \n",
       "5  Supplier 6  0.575758     0.360458   98.181818             30  128.181818   \n",
       "6  Supplier 7  0.747475     0.991184   82.020202             45  127.020202   \n",
       "7  Supplier 8  0.828283     0.644596   94.141414             35  129.141414   \n",
       "\n",
       "   selection_prob  \n",
       "0        0.624306  \n",
       "1        0.087738  \n",
       "2        0.098059  \n",
       "3        0.086439  \n",
       "4        0.001689  \n",
       "5        0.036683  \n",
       "6        0.064512  \n",
       "7        0.000370  "
      ]
     },
     "execution_count": 18,
     "metadata": {},
     "output_type": "execute_result"
    }
   ],
   "source": [
    "optimal_supplier_network_df"
   ]
  },
  {
   "cell_type": "markdown",
   "metadata": {},
   "source": [
    "#### Check how expected cost, ATA compare to our $0 boost baseline"
   ]
  },
  {
   "cell_type": "code",
   "execution_count": 19,
   "metadata": {},
   "outputs": [
    {
     "data": {
      "text/html": [
       "<div>\n",
       "<style scoped>\n",
       "    .dataframe tbody tr th:only-of-type {\n",
       "        vertical-align: middle;\n",
       "    }\n",
       "\n",
       "    .dataframe tbody tr th {\n",
       "        vertical-align: top;\n",
       "    }\n",
       "\n",
       "    .dataframe thead th {\n",
       "        text-align: right;\n",
       "    }\n",
       "</style>\n",
       "<table border=\"1\" class=\"dataframe\">\n",
       "  <thead>\n",
       "    <tr style=\"text-align: right;\">\n",
       "      <th></th>\n",
       "      <th>Expected Cost</th>\n",
       "      <th>Expected ATA</th>\n",
       "      <th>OON Probability</th>\n",
       "      <th>Value</th>\n",
       "    </tr>\n",
       "  </thead>\n",
       "  <tbody>\n",
       "    <tr>\n",
       "      <th>0</th>\n",
       "      <td>114.666639</td>\n",
       "      <td>0.278510</td>\n",
       "      <td>0.02%</td>\n",
       "      <td>Optimized Boost</td>\n",
       "    </tr>\n",
       "    <tr>\n",
       "      <th>1</th>\n",
       "      <td>135.154766</td>\n",
       "      <td>0.390601</td>\n",
       "      <td>20.118%</td>\n",
       "      <td>Baseline, $0 Boost</td>\n",
       "    </tr>\n",
       "  </tbody>\n",
       "</table>\n",
       "</div>"
      ],
      "text/plain": [
       "   Expected Cost  Expected ATA OON Probability               Value\n",
       "0     114.666639      0.278510           0.02%     Optimized Boost\n",
       "1     135.154766      0.390601         20.118%  Baseline, $0 Boost"
      ]
     },
     "execution_count": 19,
     "metadata": {},
     "output_type": "execute_result"
    }
   ],
   "source": [
    "optimal_cost, optimal_ata = calc_exp_network_results(boost_levels = bayes_results.x, sup_dictionary = supplier_dict)\n",
    "baseline_cost, baseline_ata = calc_exp_network_results(boost_levels = [0] * config_n_suppliers, sup_dictionary = supplier_dict)\n",
    "optimal_oon = 1 - np.sum(optimal_supplier_network_df['selection_prob'])\n",
    "baseline_oon = 1 - np.sum(no_boost_df['selection_prob'])\n",
    "comparison_df = pd.DataFrame({'Expected Cost' : [optimal_cost, baseline_cost],\n",
    "                              'Expected ATA' : [optimal_ata, baseline_ata],\n",
    "                              'OON Probability' : [f'{round(optimal_oon * 100,3)}%', f'{round(baseline_oon * 100,3)}%'],\n",
    "                              'Value' : ['Optimized Boost', 'Baseline, $0 Boost']})\n",
    "comparison_df"
   ]
  },
  {
   "cell_type": "markdown",
   "metadata": {},
   "source": [
    "#### All 3 metrics show improvement"
   ]
  }
 ],
 "metadata": {
  "@webio": {
   "lastCommId": null,
   "lastKernelId": null
  },
  "kernelspec": {
   "display_name": "Python 3",
   "language": "python",
   "name": "python3"
  },
  "language_info": {
   "codemirror_mode": {
    "name": "ipython",
    "version": 3
   },
   "file_extension": ".py",
   "mimetype": "text/x-python",
   "name": "python",
   "nbconvert_exporter": "python",
   "pygments_lexer": "ipython3",
   "version": "3.7.3"
  }
 },
 "nbformat": 4,
 "nbformat_minor": 2
}
